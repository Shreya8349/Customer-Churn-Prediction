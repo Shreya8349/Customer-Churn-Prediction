{
 "cells": [
  {
   "cell_type": "code",
   "execution_count": 1,
   "metadata": {},
   "outputs": [],
   "source": [
    "import numpy as np\n",
    "\n",
    "Train_msno_and_label_order=np.load('Train_msno_and_label_order.npy',allow_pickle=True)\n",
    "\n"
   ]
  },
  {
   "cell_type": "code",
   "execution_count": 2,
   "metadata": {},
   "outputs": [],
   "source": [
    "import pandas as pd\n",
    "\n",
    "Train_msno=pd.DataFrame(Train_msno_and_label_order,columns=['msno', 'Label'])"
   ]
  },
  {
   "cell_type": "code",
   "execution_count": 3,
   "metadata": {},
   "outputs": [],
   "source": [
    "#convert object to integer data type\n",
    "Train_msno['Label']=Train_msno.Label.astype(int)"
   ]
  },
  {
   "cell_type": "code",
   "execution_count": 4,
   "metadata": {},
   "outputs": [
    {
     "data": {
      "text/html": [
       "<div>\n",
       "<style scoped>\n",
       "    .dataframe tbody tr th:only-of-type {\n",
       "        vertical-align: middle;\n",
       "    }\n",
       "\n",
       "    .dataframe tbody tr th {\n",
       "        vertical-align: top;\n",
       "    }\n",
       "\n",
       "    .dataframe thead th {\n",
       "        text-align: right;\n",
       "    }\n",
       "</style>\n",
       "<table border=\"1\" class=\"dataframe\">\n",
       "  <thead>\n",
       "    <tr style=\"text-align: right;\">\n",
       "      <th></th>\n",
       "      <th>msno</th>\n",
       "      <th>Label</th>\n",
       "    </tr>\n",
       "  </thead>\n",
       "  <tbody>\n",
       "    <tr>\n",
       "      <th>0</th>\n",
       "      <td>+++IZseRRiQS9aaSkH6cMYU6bGDcxUieAi/tH67sC5s=</td>\n",
       "      <td>0</td>\n",
       "    </tr>\n",
       "    <tr>\n",
       "      <th>1</th>\n",
       "      <td>+++hVY1rZox/33YtvDgmKA2Frg/2qhkz12B9ylCvh8o=</td>\n",
       "      <td>1</td>\n",
       "    </tr>\n",
       "    <tr>\n",
       "      <th>2</th>\n",
       "      <td>+++l/EXNMLTijfLBa8p2TUVVVp2aFGSuUI/h7mLmthw=</td>\n",
       "      <td>1</td>\n",
       "    </tr>\n",
       "    <tr>\n",
       "      <th>3</th>\n",
       "      <td>+++snpr7pmobhLKUgSHTv/mpkqgBT0tQJ0zQj6qKrqc=</td>\n",
       "      <td>1</td>\n",
       "    </tr>\n",
       "    <tr>\n",
       "      <th>4</th>\n",
       "      <td>++/9R3sX37CjxbY/AaGvbwr3QkwElKBCtSvVzhCBDOk=</td>\n",
       "      <td>1</td>\n",
       "    </tr>\n",
       "  </tbody>\n",
       "</table>\n",
       "</div>"
      ],
      "text/plain": [
       "                                           msno  Label\n",
       "0  +++IZseRRiQS9aaSkH6cMYU6bGDcxUieAi/tH67sC5s=      0\n",
       "1  +++hVY1rZox/33YtvDgmKA2Frg/2qhkz12B9ylCvh8o=      1\n",
       "2  +++l/EXNMLTijfLBa8p2TUVVVp2aFGSuUI/h7mLmthw=      1\n",
       "3  +++snpr7pmobhLKUgSHTv/mpkqgBT0tQJ0zQj6qKrqc=      1\n",
       "4  ++/9R3sX37CjxbY/AaGvbwr3QkwElKBCtSvVzhCBDOk=      1"
      ]
     },
     "execution_count": 4,
     "metadata": {},
     "output_type": "execute_result"
    }
   ],
   "source": [
    "Train_msno.head()"
   ]
  },
  {
   "cell_type": "markdown",
   "metadata": {},
   "source": [
    "## ALL Months:"
   ]
  },
  {
   "cell_type": "markdown",
   "metadata": {},
   "source": [
    "### Chunk 1:"
   ]
  },
  {
   "cell_type": "code",
   "execution_count": 5,
   "metadata": {},
   "outputs": [],
   "source": [
    "#There are 410 million rows in user_logs file, read only a part of it to fit in RAM.\n",
    "import pandas as pd\n",
    "\n",
    "user_logs=pd.read_csv('user_logs.csv',nrows=80000000)"
   ]
  },
  {
   "cell_type": "code",
   "execution_count": 6,
   "metadata": {},
   "outputs": [],
   "source": [
    "Train_UL=pd.merge(Train_msno, user_logs, on='msno', how='left')"
   ]
  },
  {
   "cell_type": "code",
   "execution_count": 7,
   "metadata": {},
   "outputs": [],
   "source": [
    "#keeping NaN is important for sum and mean calculation. Sum, avg and std skips NaN values."
   ]
  },
  {
   "cell_type": "code",
   "execution_count": 7,
   "metadata": {},
   "outputs": [
    {
     "data": {
      "text/html": [
       "<div>\n",
       "<style scoped>\n",
       "    .dataframe tbody tr th:only-of-type {\n",
       "        vertical-align: middle;\n",
       "    }\n",
       "\n",
       "    .dataframe tbody tr th {\n",
       "        vertical-align: top;\n",
       "    }\n",
       "\n",
       "    .dataframe thead th {\n",
       "        text-align: right;\n",
       "    }\n",
       "</style>\n",
       "<table border=\"1\" class=\"dataframe\">\n",
       "  <thead>\n",
       "    <tr style=\"text-align: right;\">\n",
       "      <th></th>\n",
       "      <th>msno</th>\n",
       "      <th>Label</th>\n",
       "      <th>date</th>\n",
       "      <th>num_25</th>\n",
       "      <th>num_50</th>\n",
       "      <th>num_75</th>\n",
       "      <th>num_985</th>\n",
       "      <th>num_100</th>\n",
       "      <th>num_unq</th>\n",
       "      <th>total_secs</th>\n",
       "    </tr>\n",
       "  </thead>\n",
       "  <tbody>\n",
       "    <tr>\n",
       "      <th>0</th>\n",
       "      <td>+++IZseRRiQS9aaSkH6cMYU6bGDcxUieAi/tH67sC5s=</td>\n",
       "      <td>0</td>\n",
       "      <td>20150211.0</td>\n",
       "      <td>2.0</td>\n",
       "      <td>0.0</td>\n",
       "      <td>0.0</td>\n",
       "      <td>0.0</td>\n",
       "      <td>105.0</td>\n",
       "      <td>60.0</td>\n",
       "      <td>25033.939</td>\n",
       "    </tr>\n",
       "    <tr>\n",
       "      <th>1</th>\n",
       "      <td>+++IZseRRiQS9aaSkH6cMYU6bGDcxUieAi/tH67sC5s=</td>\n",
       "      <td>0</td>\n",
       "      <td>20150411.0</td>\n",
       "      <td>0.0</td>\n",
       "      <td>0.0</td>\n",
       "      <td>0.0</td>\n",
       "      <td>0.0</td>\n",
       "      <td>136.0</td>\n",
       "      <td>130.0</td>\n",
       "      <td>33367.720</td>\n",
       "    </tr>\n",
       "    <tr>\n",
       "      <th>2</th>\n",
       "      <td>+++IZseRRiQS9aaSkH6cMYU6bGDcxUieAi/tH67sC5s=</td>\n",
       "      <td>0</td>\n",
       "      <td>20150603.0</td>\n",
       "      <td>1.0</td>\n",
       "      <td>0.0</td>\n",
       "      <td>0.0</td>\n",
       "      <td>0.0</td>\n",
       "      <td>139.0</td>\n",
       "      <td>128.0</td>\n",
       "      <td>31683.920</td>\n",
       "    </tr>\n",
       "    <tr>\n",
       "      <th>3</th>\n",
       "      <td>+++IZseRRiQS9aaSkH6cMYU6bGDcxUieAi/tH67sC5s=</td>\n",
       "      <td>0</td>\n",
       "      <td>20150729.0</td>\n",
       "      <td>1.0</td>\n",
       "      <td>0.0</td>\n",
       "      <td>0.0</td>\n",
       "      <td>0.0</td>\n",
       "      <td>106.0</td>\n",
       "      <td>101.0</td>\n",
       "      <td>27200.851</td>\n",
       "    </tr>\n",
       "    <tr>\n",
       "      <th>4</th>\n",
       "      <td>+++IZseRRiQS9aaSkH6cMYU6bGDcxUieAi/tH67sC5s=</td>\n",
       "      <td>0</td>\n",
       "      <td>20150923.0</td>\n",
       "      <td>0.0</td>\n",
       "      <td>0.0</td>\n",
       "      <td>1.0</td>\n",
       "      <td>0.0</td>\n",
       "      <td>104.0</td>\n",
       "      <td>100.0</td>\n",
       "      <td>27332.639</td>\n",
       "    </tr>\n",
       "    <tr>\n",
       "      <th>...</th>\n",
       "      <td>...</td>\n",
       "      <td>...</td>\n",
       "      <td>...</td>\n",
       "      <td>...</td>\n",
       "      <td>...</td>\n",
       "      <td>...</td>\n",
       "      <td>...</td>\n",
       "      <td>...</td>\n",
       "      <td>...</td>\n",
       "      <td>...</td>\n",
       "    </tr>\n",
       "    <tr>\n",
       "      <th>49602735</th>\n",
       "      <td>zzz4xr5LLzoxUqD6LfKiieCt8Or4dUWFQ0RA5gmkx8I=</td>\n",
       "      <td>1</td>\n",
       "      <td>20150621.0</td>\n",
       "      <td>3.0</td>\n",
       "      <td>0.0</td>\n",
       "      <td>0.0</td>\n",
       "      <td>1.0</td>\n",
       "      <td>10.0</td>\n",
       "      <td>13.0</td>\n",
       "      <td>2929.059</td>\n",
       "    </tr>\n",
       "    <tr>\n",
       "      <th>49602736</th>\n",
       "      <td>zzz4xr5LLzoxUqD6LfKiieCt8Or4dUWFQ0RA5gmkx8I=</td>\n",
       "      <td>1</td>\n",
       "      <td>20160208.0</td>\n",
       "      <td>70.0</td>\n",
       "      <td>3.0</td>\n",
       "      <td>1.0</td>\n",
       "      <td>4.0</td>\n",
       "      <td>25.0</td>\n",
       "      <td>92.0</td>\n",
       "      <td>8820.611</td>\n",
       "    </tr>\n",
       "    <tr>\n",
       "      <th>49602737</th>\n",
       "      <td>zzz4xr5LLzoxUqD6LfKiieCt8Or4dUWFQ0RA5gmkx8I=</td>\n",
       "      <td>1</td>\n",
       "      <td>20160813.0</td>\n",
       "      <td>3.0</td>\n",
       "      <td>0.0</td>\n",
       "      <td>0.0</td>\n",
       "      <td>0.0</td>\n",
       "      <td>0.0</td>\n",
       "      <td>3.0</td>\n",
       "      <td>263.889</td>\n",
       "    </tr>\n",
       "    <tr>\n",
       "      <th>49602738</th>\n",
       "      <td>zzz4xr5LLzoxUqD6LfKiieCt8Or4dUWFQ0RA5gmkx8I=</td>\n",
       "      <td>1</td>\n",
       "      <td>20161207.0</td>\n",
       "      <td>2.0</td>\n",
       "      <td>0.0</td>\n",
       "      <td>0.0</td>\n",
       "      <td>1.0</td>\n",
       "      <td>19.0</td>\n",
       "      <td>22.0</td>\n",
       "      <td>5580.843</td>\n",
       "    </tr>\n",
       "    <tr>\n",
       "      <th>49602739</th>\n",
       "      <td>zzzN9thH22os1dRS0VHReY/8FTfGHOi86//d+wGGFsQ=</td>\n",
       "      <td>1</td>\n",
       "      <td>NaN</td>\n",
       "      <td>NaN</td>\n",
       "      <td>NaN</td>\n",
       "      <td>NaN</td>\n",
       "      <td>NaN</td>\n",
       "      <td>NaN</td>\n",
       "      <td>NaN</td>\n",
       "      <td>NaN</td>\n",
       "    </tr>\n",
       "  </tbody>\n",
       "</table>\n",
       "<p>49602740 rows × 10 columns</p>\n",
       "</div>"
      ],
      "text/plain": [
       "                                                  msno  Label        date  \\\n",
       "0         +++IZseRRiQS9aaSkH6cMYU6bGDcxUieAi/tH67sC5s=      0  20150211.0   \n",
       "1         +++IZseRRiQS9aaSkH6cMYU6bGDcxUieAi/tH67sC5s=      0  20150411.0   \n",
       "2         +++IZseRRiQS9aaSkH6cMYU6bGDcxUieAi/tH67sC5s=      0  20150603.0   \n",
       "3         +++IZseRRiQS9aaSkH6cMYU6bGDcxUieAi/tH67sC5s=      0  20150729.0   \n",
       "4         +++IZseRRiQS9aaSkH6cMYU6bGDcxUieAi/tH67sC5s=      0  20150923.0   \n",
       "...                                                ...    ...         ...   \n",
       "49602735  zzz4xr5LLzoxUqD6LfKiieCt8Or4dUWFQ0RA5gmkx8I=      1  20150621.0   \n",
       "49602736  zzz4xr5LLzoxUqD6LfKiieCt8Or4dUWFQ0RA5gmkx8I=      1  20160208.0   \n",
       "49602737  zzz4xr5LLzoxUqD6LfKiieCt8Or4dUWFQ0RA5gmkx8I=      1  20160813.0   \n",
       "49602738  zzz4xr5LLzoxUqD6LfKiieCt8Or4dUWFQ0RA5gmkx8I=      1  20161207.0   \n",
       "49602739  zzzN9thH22os1dRS0VHReY/8FTfGHOi86//d+wGGFsQ=      1         NaN   \n",
       "\n",
       "          num_25  num_50  num_75  num_985  num_100  num_unq  total_secs  \n",
       "0            2.0     0.0     0.0      0.0    105.0     60.0   25033.939  \n",
       "1            0.0     0.0     0.0      0.0    136.0    130.0   33367.720  \n",
       "2            1.0     0.0     0.0      0.0    139.0    128.0   31683.920  \n",
       "3            1.0     0.0     0.0      0.0    106.0    101.0   27200.851  \n",
       "4            0.0     0.0     1.0      0.0    104.0    100.0   27332.639  \n",
       "...          ...     ...     ...      ...      ...      ...         ...  \n",
       "49602735     3.0     0.0     0.0      1.0     10.0     13.0    2929.059  \n",
       "49602736    70.0     3.0     1.0      4.0     25.0     92.0    8820.611  \n",
       "49602737     3.0     0.0     0.0      0.0      0.0      3.0     263.889  \n",
       "49602738     2.0     0.0     0.0      1.0     19.0     22.0    5580.843  \n",
       "49602739     NaN     NaN     NaN      NaN      NaN      NaN         NaN  \n",
       "\n",
       "[49602740 rows x 10 columns]"
      ]
     },
     "execution_count": 7,
     "metadata": {},
     "output_type": "execute_result"
    }
   ],
   "source": [
    "Train_UL"
   ]
  },
  {
   "cell_type": "code",
   "execution_count": 9,
   "metadata": {},
   "outputs": [],
   "source": [
    "#left join preserves order of msno. so don't need to sort"
   ]
  },
  {
   "cell_type": "markdown",
   "metadata": {},
   "source": [
    "### Select user logs on or before dec 31:"
   ]
  },
  {
   "cell_type": "code",
   "execution_count": 8,
   "metadata": {},
   "outputs": [],
   "source": [
    "#https://stackoverflow.com/questions/38884466/how-to-select-a-range-of-values-in-a-pandas-dataframe-column\n",
    "Train_UL=Train_UL[Train_UL['date'].le(20161231)]"
   ]
  },
  {
   "cell_type": "code",
   "execution_count": 9,
   "metadata": {},
   "outputs": [
    {
     "data": {
      "text/html": [
       "<div>\n",
       "<style scoped>\n",
       "    .dataframe tbody tr th:only-of-type {\n",
       "        vertical-align: middle;\n",
       "    }\n",
       "\n",
       "    .dataframe tbody tr th {\n",
       "        vertical-align: top;\n",
       "    }\n",
       "\n",
       "    .dataframe thead th {\n",
       "        text-align: right;\n",
       "    }\n",
       "</style>\n",
       "<table border=\"1\" class=\"dataframe\">\n",
       "  <thead>\n",
       "    <tr style=\"text-align: right;\">\n",
       "      <th></th>\n",
       "      <th>msno</th>\n",
       "      <th>Label</th>\n",
       "      <th>date</th>\n",
       "      <th>num_25</th>\n",
       "      <th>num_50</th>\n",
       "      <th>num_75</th>\n",
       "      <th>num_985</th>\n",
       "      <th>num_100</th>\n",
       "      <th>num_unq</th>\n",
       "      <th>total_secs</th>\n",
       "    </tr>\n",
       "  </thead>\n",
       "  <tbody>\n",
       "    <tr>\n",
       "      <th>0</th>\n",
       "      <td>+++IZseRRiQS9aaSkH6cMYU6bGDcxUieAi/tH67sC5s=</td>\n",
       "      <td>0</td>\n",
       "      <td>20150211.0</td>\n",
       "      <td>2.0</td>\n",
       "      <td>0.0</td>\n",
       "      <td>0.0</td>\n",
       "      <td>0.0</td>\n",
       "      <td>105.0</td>\n",
       "      <td>60.0</td>\n",
       "      <td>25033.939</td>\n",
       "    </tr>\n",
       "    <tr>\n",
       "      <th>1</th>\n",
       "      <td>+++IZseRRiQS9aaSkH6cMYU6bGDcxUieAi/tH67sC5s=</td>\n",
       "      <td>0</td>\n",
       "      <td>20150411.0</td>\n",
       "      <td>0.0</td>\n",
       "      <td>0.0</td>\n",
       "      <td>0.0</td>\n",
       "      <td>0.0</td>\n",
       "      <td>136.0</td>\n",
       "      <td>130.0</td>\n",
       "      <td>33367.720</td>\n",
       "    </tr>\n",
       "    <tr>\n",
       "      <th>2</th>\n",
       "      <td>+++IZseRRiQS9aaSkH6cMYU6bGDcxUieAi/tH67sC5s=</td>\n",
       "      <td>0</td>\n",
       "      <td>20150603.0</td>\n",
       "      <td>1.0</td>\n",
       "      <td>0.0</td>\n",
       "      <td>0.0</td>\n",
       "      <td>0.0</td>\n",
       "      <td>139.0</td>\n",
       "      <td>128.0</td>\n",
       "      <td>31683.920</td>\n",
       "    </tr>\n",
       "    <tr>\n",
       "      <th>3</th>\n",
       "      <td>+++IZseRRiQS9aaSkH6cMYU6bGDcxUieAi/tH67sC5s=</td>\n",
       "      <td>0</td>\n",
       "      <td>20150729.0</td>\n",
       "      <td>1.0</td>\n",
       "      <td>0.0</td>\n",
       "      <td>0.0</td>\n",
       "      <td>0.0</td>\n",
       "      <td>106.0</td>\n",
       "      <td>101.0</td>\n",
       "      <td>27200.851</td>\n",
       "    </tr>\n",
       "    <tr>\n",
       "      <th>4</th>\n",
       "      <td>+++IZseRRiQS9aaSkH6cMYU6bGDcxUieAi/tH67sC5s=</td>\n",
       "      <td>0</td>\n",
       "      <td>20150923.0</td>\n",
       "      <td>0.0</td>\n",
       "      <td>0.0</td>\n",
       "      <td>1.0</td>\n",
       "      <td>0.0</td>\n",
       "      <td>104.0</td>\n",
       "      <td>100.0</td>\n",
       "      <td>27332.639</td>\n",
       "    </tr>\n",
       "    <tr>\n",
       "      <th>...</th>\n",
       "      <td>...</td>\n",
       "      <td>...</td>\n",
       "      <td>...</td>\n",
       "      <td>...</td>\n",
       "      <td>...</td>\n",
       "      <td>...</td>\n",
       "      <td>...</td>\n",
       "      <td>...</td>\n",
       "      <td>...</td>\n",
       "      <td>...</td>\n",
       "    </tr>\n",
       "    <tr>\n",
       "      <th>49602734</th>\n",
       "      <td>zzz4xr5LLzoxUqD6LfKiieCt8Or4dUWFQ0RA5gmkx8I=</td>\n",
       "      <td>1</td>\n",
       "      <td>20161206.0</td>\n",
       "      <td>1.0</td>\n",
       "      <td>0.0</td>\n",
       "      <td>0.0</td>\n",
       "      <td>0.0</td>\n",
       "      <td>3.0</td>\n",
       "      <td>3.0</td>\n",
       "      <td>1540.965</td>\n",
       "    </tr>\n",
       "    <tr>\n",
       "      <th>49602735</th>\n",
       "      <td>zzz4xr5LLzoxUqD6LfKiieCt8Or4dUWFQ0RA5gmkx8I=</td>\n",
       "      <td>1</td>\n",
       "      <td>20150621.0</td>\n",
       "      <td>3.0</td>\n",
       "      <td>0.0</td>\n",
       "      <td>0.0</td>\n",
       "      <td>1.0</td>\n",
       "      <td>10.0</td>\n",
       "      <td>13.0</td>\n",
       "      <td>2929.059</td>\n",
       "    </tr>\n",
       "    <tr>\n",
       "      <th>49602736</th>\n",
       "      <td>zzz4xr5LLzoxUqD6LfKiieCt8Or4dUWFQ0RA5gmkx8I=</td>\n",
       "      <td>1</td>\n",
       "      <td>20160208.0</td>\n",
       "      <td>70.0</td>\n",
       "      <td>3.0</td>\n",
       "      <td>1.0</td>\n",
       "      <td>4.0</td>\n",
       "      <td>25.0</td>\n",
       "      <td>92.0</td>\n",
       "      <td>8820.611</td>\n",
       "    </tr>\n",
       "    <tr>\n",
       "      <th>49602737</th>\n",
       "      <td>zzz4xr5LLzoxUqD6LfKiieCt8Or4dUWFQ0RA5gmkx8I=</td>\n",
       "      <td>1</td>\n",
       "      <td>20160813.0</td>\n",
       "      <td>3.0</td>\n",
       "      <td>0.0</td>\n",
       "      <td>0.0</td>\n",
       "      <td>0.0</td>\n",
       "      <td>0.0</td>\n",
       "      <td>3.0</td>\n",
       "      <td>263.889</td>\n",
       "    </tr>\n",
       "    <tr>\n",
       "      <th>49602738</th>\n",
       "      <td>zzz4xr5LLzoxUqD6LfKiieCt8Or4dUWFQ0RA5gmkx8I=</td>\n",
       "      <td>1</td>\n",
       "      <td>20161207.0</td>\n",
       "      <td>2.0</td>\n",
       "      <td>0.0</td>\n",
       "      <td>0.0</td>\n",
       "      <td>1.0</td>\n",
       "      <td>19.0</td>\n",
       "      <td>22.0</td>\n",
       "      <td>5580.843</td>\n",
       "    </tr>\n",
       "  </tbody>\n",
       "</table>\n",
       "<p>44473353 rows × 10 columns</p>\n",
       "</div>"
      ],
      "text/plain": [
       "                                                  msno  Label        date  \\\n",
       "0         +++IZseRRiQS9aaSkH6cMYU6bGDcxUieAi/tH67sC5s=      0  20150211.0   \n",
       "1         +++IZseRRiQS9aaSkH6cMYU6bGDcxUieAi/tH67sC5s=      0  20150411.0   \n",
       "2         +++IZseRRiQS9aaSkH6cMYU6bGDcxUieAi/tH67sC5s=      0  20150603.0   \n",
       "3         +++IZseRRiQS9aaSkH6cMYU6bGDcxUieAi/tH67sC5s=      0  20150729.0   \n",
       "4         +++IZseRRiQS9aaSkH6cMYU6bGDcxUieAi/tH67sC5s=      0  20150923.0   \n",
       "...                                                ...    ...         ...   \n",
       "49602734  zzz4xr5LLzoxUqD6LfKiieCt8Or4dUWFQ0RA5gmkx8I=      1  20161206.0   \n",
       "49602735  zzz4xr5LLzoxUqD6LfKiieCt8Or4dUWFQ0RA5gmkx8I=      1  20150621.0   \n",
       "49602736  zzz4xr5LLzoxUqD6LfKiieCt8Or4dUWFQ0RA5gmkx8I=      1  20160208.0   \n",
       "49602737  zzz4xr5LLzoxUqD6LfKiieCt8Or4dUWFQ0RA5gmkx8I=      1  20160813.0   \n",
       "49602738  zzz4xr5LLzoxUqD6LfKiieCt8Or4dUWFQ0RA5gmkx8I=      1  20161207.0   \n",
       "\n",
       "          num_25  num_50  num_75  num_985  num_100  num_unq  total_secs  \n",
       "0            2.0     0.0     0.0      0.0    105.0     60.0   25033.939  \n",
       "1            0.0     0.0     0.0      0.0    136.0    130.0   33367.720  \n",
       "2            1.0     0.0     0.0      0.0    139.0    128.0   31683.920  \n",
       "3            1.0     0.0     0.0      0.0    106.0    101.0   27200.851  \n",
       "4            0.0     0.0     1.0      0.0    104.0    100.0   27332.639  \n",
       "...          ...     ...     ...      ...      ...      ...         ...  \n",
       "49602734     1.0     0.0     0.0      0.0      3.0      3.0    1540.965  \n",
       "49602735     3.0     0.0     0.0      1.0     10.0     13.0    2929.059  \n",
       "49602736    70.0     3.0     1.0      4.0     25.0     92.0    8820.611  \n",
       "49602737     3.0     0.0     0.0      0.0      0.0      3.0     263.889  \n",
       "49602738     2.0     0.0     0.0      1.0     19.0     22.0    5580.843  \n",
       "\n",
       "[44473353 rows x 10 columns]"
      ]
     },
     "execution_count": 9,
     "metadata": {},
     "output_type": "execute_result"
    }
   ],
   "source": [
    "Train_UL"
   ]
  },
  {
   "cell_type": "markdown",
   "metadata": {},
   "source": [
    "### Sum features:"
   ]
  },
  {
   "cell_type": "code",
   "execution_count": 10,
   "metadata": {},
   "outputs": [],
   "source": [
    "user_logs_num25_sum=Train_UL.groupby(['msno'])['num_25'].sum()\n",
    "user_logs_num50_sum=Train_UL.groupby(['msno'])['num_50'].sum()\n",
    "user_logs_num75_sum=Train_UL.groupby(['msno'])['num_75'].sum()\n",
    "user_logs_num985_sum=Train_UL.groupby(['msno'])['num_985'].sum()\n",
    "user_logs_num100_sum=Train_UL.groupby(['msno'])['num_100'].sum()\n",
    "user_logs_num_unq_sum=Train_UL.groupby(['msno'])['num_unq'].sum()\n",
    "user_logs_total_sec_sum=Train_UL.groupby(['msno'])['total_secs'].sum()"
   ]
  },
  {
   "cell_type": "code",
   "execution_count": 11,
   "metadata": {},
   "outputs": [],
   "source": [
    "user_logs_num25_sum.to_csv('user_logs_num25_sum.csv')\n",
    "user_logs_num50_sum.to_csv('user_logs_num50_sum.csv')\n",
    "user_logs_num75_sum.to_csv('user_logs_num75_sum.csv')\n",
    "user_logs_num985_sum.to_csv('user_logs_num985_sum.csv')\n",
    "user_logs_num100_sum.to_csv('user_logs_num100_sum.csv')\n",
    "user_logs_num_unq_sum.to_csv('user_logs_num_unq_sum.csv')\n",
    "user_logs_total_sec_sum.to_csv('user_logs_total_sec_sum.csv')"
   ]
  },
  {
   "cell_type": "markdown",
   "metadata": {},
   "source": [
    "### Count features:"
   ]
  },
  {
   "cell_type": "code",
   "execution_count": 12,
   "metadata": {},
   "outputs": [],
   "source": [
    "#count features\n",
    "user_logs_num100_mean=Train_UL.groupby(['msno'])['num_100'].count()"
   ]
  },
  {
   "cell_type": "code",
   "execution_count": 13,
   "metadata": {},
   "outputs": [],
   "source": [
    "user_logs_num100_mean.to_csv('user_logs_num100_mean.csv')"
   ]
  },
  {
   "cell_type": "code",
   "execution_count": 14,
   "metadata": {},
   "outputs": [
    {
     "data": {
      "text/plain": [
       "msno\n",
       "+++IZseRRiQS9aaSkH6cMYU6bGDcxUieAi/tH67sC5s=     126.0\n",
       "+++hVY1rZox/33YtvDgmKA2Frg/2qhkz12B9ylCvh8o=      64.0\n",
       "+++l/EXNMLTijfLBa8p2TUVVVp2aFGSuUI/h7mLmthw=     193.0\n",
       "+++snpr7pmobhLKUgSHTv/mpkqgBT0tQJ0zQj6qKrqc=    1436.0\n",
       "++/9R3sX37CjxbY/AaGvbwr3QkwElKBCtSvVzhCBDOk=     270.0\n",
       "                                                 ...  \n",
       "zzxqpgPX1epGyR3SVRKb3XitWdt+JqDURxV5ea1D7Cg=    1249.0\n",
       "zzy7iqSpfcRq7R4hmKKuhI+CJRs79a6pteqEggpiNO0=     349.0\n",
       "zzyHq6TK2+cBkeGFUHvh12Z7UxFZiSM7dOOSllSBPDw=     355.0\n",
       "zzz1Dc3P9s53HAowRTrm3fNsWju5yeN4YBfNDq7Z99Q=      99.0\n",
       "zzz4xr5LLzoxUqD6LfKiieCt8Or4dUWFQ0RA5gmkx8I=     252.0\n",
       "Name: num_25, Length: 759625, dtype: float64"
      ]
     },
     "execution_count": 14,
     "metadata": {},
     "output_type": "execute_result"
    }
   ],
   "source": [
    "user_logs_num25_sum #only 759625 users info are there in this chunk"
   ]
  },
  {
   "cell_type": "code",
   "execution_count": 15,
   "metadata": {},
   "outputs": [
    {
     "data": {
      "text/plain": [
       "126.0"
      ]
     },
     "execution_count": 15,
     "metadata": {},
     "output_type": "execute_result"
    }
   ],
   "source": [
    "user_logs_num25_sum['+++IZseRRiQS9aaSkH6cMYU6bGDcxUieAi/tH67sC5s=']\n"
   ]
  },
  {
   "cell_type": "code",
   "execution_count": null,
   "metadata": {},
   "outputs": [],
   "source": [
    "#do for remaining chunks"
   ]
  },
  {
   "cell_type": "markdown",
   "metadata": {},
   "source": [
    "#### Num100_count:"
   ]
  },
  {
   "cell_type": "code",
   "execution_count": null,
   "metadata": {},
   "outputs": [],
   "source": [
    "#count is common for all the features, so only one is enough. ie: no need for num25_count,num74_count, etc"
   ]
  },
  {
   "cell_type": "code",
   "execution_count": 3,
   "metadata": {},
   "outputs": [],
   "source": [
    "import pandas as pd"
   ]
  },
  {
   "cell_type": "code",
   "execution_count": 3,
   "metadata": {},
   "outputs": [
    {
     "data": {
      "text/plain": [
       "['user_logs_num100_mean2.csv',\n",
       " 'user_logs_num100_mean.csv',\n",
       " 'user_logs_num100_mean5.csv',\n",
       " 'user_logs_num100_mean6.csv',\n",
       " 'user_logs_num100_mean3.csv',\n",
       " 'user_logs_num100_mean4.csv']"
      ]
     },
     "execution_count": 3,
     "metadata": {},
     "output_type": "execute_result"
    }
   ],
   "source": [
    "from os import listdir\n",
    "listdir('Train_copy/Num100_avg')"
   ]
  },
  {
   "cell_type": "code",
   "execution_count": 4,
   "metadata": {},
   "outputs": [],
   "source": [
    "#https://stackoverflow.com/a/51118604\n",
    "from os import listdir\n",
    "\n",
    "path = 'Train_copy/Num100_avg/'\n",
    "filepaths = [path+f for f in listdir('Train_copy/Num100_avg') if f.endswith('.csv')]\n",
    "df = pd.concat(map(pd.read_csv, filepaths))"
   ]
  },
  {
   "cell_type": "code",
   "execution_count": 5,
   "metadata": {},
   "outputs": [],
   "source": [
    "UL_train_Num100_count=pd.merge(Train_msno['msno'], df.groupby('msno').sum(), on='msno', how='left')"
   ]
  },
  {
   "cell_type": "code",
   "execution_count": 6,
   "metadata": {},
   "outputs": [
    {
     "data": {
      "text/html": [
       "<div>\n",
       "<style scoped>\n",
       "    .dataframe tbody tr th:only-of-type {\n",
       "        vertical-align: middle;\n",
       "    }\n",
       "\n",
       "    .dataframe tbody tr th {\n",
       "        vertical-align: top;\n",
       "    }\n",
       "\n",
       "    .dataframe thead th {\n",
       "        text-align: right;\n",
       "    }\n",
       "</style>\n",
       "<table border=\"1\" class=\"dataframe\">\n",
       "  <thead>\n",
       "    <tr style=\"text-align: right;\">\n",
       "      <th></th>\n",
       "      <th>msno</th>\n",
       "      <th>num_100</th>\n",
       "    </tr>\n",
       "  </thead>\n",
       "  <tbody>\n",
       "    <tr>\n",
       "      <th>0</th>\n",
       "      <td>+++IZseRRiQS9aaSkH6cMYU6bGDcxUieAi/tH67sC5s=</td>\n",
       "      <td>582.0</td>\n",
       "    </tr>\n",
       "    <tr>\n",
       "      <th>1</th>\n",
       "      <td>+++hVY1rZox/33YtvDgmKA2Frg/2qhkz12B9ylCvh8o=</td>\n",
       "      <td>46.0</td>\n",
       "    </tr>\n",
       "    <tr>\n",
       "      <th>2</th>\n",
       "      <td>+++l/EXNMLTijfLBa8p2TUVVVp2aFGSuUI/h7mLmthw=</td>\n",
       "      <td>550.0</td>\n",
       "    </tr>\n",
       "    <tr>\n",
       "      <th>3</th>\n",
       "      <td>+++snpr7pmobhLKUgSHTv/mpkqgBT0tQJ0zQj6qKrqc=</td>\n",
       "      <td>556.0</td>\n",
       "    </tr>\n",
       "    <tr>\n",
       "      <th>4</th>\n",
       "      <td>++/9R3sX37CjxbY/AaGvbwr3QkwElKBCtSvVzhCBDOk=</td>\n",
       "      <td>240.0</td>\n",
       "    </tr>\n",
       "    <tr>\n",
       "      <th>...</th>\n",
       "      <td>...</td>\n",
       "      <td>...</td>\n",
       "    </tr>\n",
       "    <tr>\n",
       "      <th>956322</th>\n",
       "      <td>zzy7iqSpfcRq7R4hmKKuhI+CJRs79a6pteqEggpiNO0=</td>\n",
       "      <td>90.0</td>\n",
       "    </tr>\n",
       "    <tr>\n",
       "      <th>956323</th>\n",
       "      <td>zzyHq6TK2+cBkeGFUHvh12Z7UxFZiSM7dOOSllSBPDw=</td>\n",
       "      <td>465.0</td>\n",
       "    </tr>\n",
       "    <tr>\n",
       "      <th>956324</th>\n",
       "      <td>zzz1Dc3P9s53HAowRTrm3fNsWju5yeN4YBfNDq7Z99Q=</td>\n",
       "      <td>181.0</td>\n",
       "    </tr>\n",
       "    <tr>\n",
       "      <th>956325</th>\n",
       "      <td>zzz4xr5LLzoxUqD6LfKiieCt8Or4dUWFQ0RA5gmkx8I=</td>\n",
       "      <td>210.0</td>\n",
       "    </tr>\n",
       "    <tr>\n",
       "      <th>956326</th>\n",
       "      <td>zzzN9thH22os1dRS0VHReY/8FTfGHOi86//d+wGGFsQ=</td>\n",
       "      <td>NaN</td>\n",
       "    </tr>\n",
       "  </tbody>\n",
       "</table>\n",
       "<p>956327 rows × 2 columns</p>\n",
       "</div>"
      ],
      "text/plain": [
       "                                                msno  num_100\n",
       "0       +++IZseRRiQS9aaSkH6cMYU6bGDcxUieAi/tH67sC5s=    582.0\n",
       "1       +++hVY1rZox/33YtvDgmKA2Frg/2qhkz12B9ylCvh8o=     46.0\n",
       "2       +++l/EXNMLTijfLBa8p2TUVVVp2aFGSuUI/h7mLmthw=    550.0\n",
       "3       +++snpr7pmobhLKUgSHTv/mpkqgBT0tQJ0zQj6qKrqc=    556.0\n",
       "4       ++/9R3sX37CjxbY/AaGvbwr3QkwElKBCtSvVzhCBDOk=    240.0\n",
       "...                                              ...      ...\n",
       "956322  zzy7iqSpfcRq7R4hmKKuhI+CJRs79a6pteqEggpiNO0=     90.0\n",
       "956323  zzyHq6TK2+cBkeGFUHvh12Z7UxFZiSM7dOOSllSBPDw=    465.0\n",
       "956324  zzz1Dc3P9s53HAowRTrm3fNsWju5yeN4YBfNDq7Z99Q=    181.0\n",
       "956325  zzz4xr5LLzoxUqD6LfKiieCt8Or4dUWFQ0RA5gmkx8I=    210.0\n",
       "956326  zzzN9thH22os1dRS0VHReY/8FTfGHOi86//d+wGGFsQ=      NaN\n",
       "\n",
       "[956327 rows x 2 columns]"
      ]
     },
     "execution_count": 6,
     "metadata": {},
     "output_type": "execute_result"
    }
   ],
   "source": [
    "UL_train_Num100_count"
   ]
  },
  {
   "cell_type": "code",
   "execution_count": 7,
   "metadata": {},
   "outputs": [
    {
     "data": {
      "text/plain": [
       "array([582.,  46., 550., ..., 181., 210.,  nan])"
      ]
     },
     "execution_count": 7,
     "metadata": {},
     "output_type": "execute_result"
    }
   ],
   "source": [
    "np.array(UL_train_Num100_count['num_100'])"
   ]
  },
  {
   "cell_type": "code",
   "execution_count": 8,
   "metadata": {},
   "outputs": [],
   "source": [
    "np.save('UL_train_Num100_count',np.array(UL_train_Num100_count['num_100']))"
   ]
  },
  {
   "cell_type": "markdown",
   "metadata": {},
   "source": [
    "#### Num100_sum:"
   ]
  },
  {
   "cell_type": "code",
   "execution_count": 9,
   "metadata": {},
   "outputs": [
    {
     "data": {
      "text/plain": [
       "['user_logs_num100_sum6.csv',\n",
       " 'user_logs_num100_sum2.csv',\n",
       " 'user_logs_num100_sum4.csv',\n",
       " 'user_logs_num100_sum5.csv',\n",
       " 'user_logs_num100_sum3.csv',\n",
       " 'user_logs_num100_sum.csv']"
      ]
     },
     "execution_count": 9,
     "metadata": {},
     "output_type": "execute_result"
    }
   ],
   "source": [
    "listdir('Train_copy/Num100_sum')"
   ]
  },
  {
   "cell_type": "code",
   "execution_count": 10,
   "metadata": {},
   "outputs": [],
   "source": [
    "#https://stackoverflow.com/a/51118604\n",
    "from os import listdir\n",
    "\n",
    "path = 'Train_copy/Num100_sum/'\n",
    "filepaths = [path+f for f in listdir('Train_copy/Num100_sum') if f.endswith('.csv')]\n",
    "df = pd.concat(map(pd.read_csv, filepaths))"
   ]
  },
  {
   "cell_type": "code",
   "execution_count": 11,
   "metadata": {},
   "outputs": [],
   "source": [
    "UL_train_Num100_sum=pd.merge(Train_msno['msno'], df.groupby('msno').sum(), on='msno', how='left')"
   ]
  },
  {
   "cell_type": "code",
   "execution_count": 12,
   "metadata": {
    "scrolled": false
   },
   "outputs": [
    {
     "data": {
      "text/html": [
       "<div>\n",
       "<style scoped>\n",
       "    .dataframe tbody tr th:only-of-type {\n",
       "        vertical-align: middle;\n",
       "    }\n",
       "\n",
       "    .dataframe tbody tr th {\n",
       "        vertical-align: top;\n",
       "    }\n",
       "\n",
       "    .dataframe thead th {\n",
       "        text-align: right;\n",
       "    }\n",
       "</style>\n",
       "<table border=\"1\" class=\"dataframe\">\n",
       "  <thead>\n",
       "    <tr style=\"text-align: right;\">\n",
       "      <th></th>\n",
       "      <th>msno</th>\n",
       "      <th>num_100</th>\n",
       "    </tr>\n",
       "  </thead>\n",
       "  <tbody>\n",
       "    <tr>\n",
       "      <th>0</th>\n",
       "      <td>+++IZseRRiQS9aaSkH6cMYU6bGDcxUieAi/tH67sC5s=</td>\n",
       "      <td>57347.0</td>\n",
       "    </tr>\n",
       "    <tr>\n",
       "      <th>1</th>\n",
       "      <td>+++hVY1rZox/33YtvDgmKA2Frg/2qhkz12B9ylCvh8o=</td>\n",
       "      <td>1325.0</td>\n",
       "    </tr>\n",
       "    <tr>\n",
       "      <th>2</th>\n",
       "      <td>+++l/EXNMLTijfLBa8p2TUVVVp2aFGSuUI/h7mLmthw=</td>\n",
       "      <td>14095.0</td>\n",
       "    </tr>\n",
       "    <tr>\n",
       "      <th>3</th>\n",
       "      <td>+++snpr7pmobhLKUgSHTv/mpkqgBT0tQJ0zQj6qKrqc=</td>\n",
       "      <td>22773.0</td>\n",
       "    </tr>\n",
       "    <tr>\n",
       "      <th>4</th>\n",
       "      <td>++/9R3sX37CjxbY/AaGvbwr3QkwElKBCtSvVzhCBDOk=</td>\n",
       "      <td>4450.0</td>\n",
       "    </tr>\n",
       "    <tr>\n",
       "      <th>...</th>\n",
       "      <td>...</td>\n",
       "      <td>...</td>\n",
       "    </tr>\n",
       "    <tr>\n",
       "      <th>956322</th>\n",
       "      <td>zzy7iqSpfcRq7R4hmKKuhI+CJRs79a6pteqEggpiNO0=</td>\n",
       "      <td>3353.0</td>\n",
       "    </tr>\n",
       "    <tr>\n",
       "      <th>956323</th>\n",
       "      <td>zzyHq6TK2+cBkeGFUHvh12Z7UxFZiSM7dOOSllSBPDw=</td>\n",
       "      <td>31011.0</td>\n",
       "    </tr>\n",
       "    <tr>\n",
       "      <th>956324</th>\n",
       "      <td>zzz1Dc3P9s53HAowRTrm3fNsWju5yeN4YBfNDq7Z99Q=</td>\n",
       "      <td>2178.0</td>\n",
       "    </tr>\n",
       "    <tr>\n",
       "      <th>956325</th>\n",
       "      <td>zzz4xr5LLzoxUqD6LfKiieCt8Or4dUWFQ0RA5gmkx8I=</td>\n",
       "      <td>2405.0</td>\n",
       "    </tr>\n",
       "    <tr>\n",
       "      <th>956326</th>\n",
       "      <td>zzzN9thH22os1dRS0VHReY/8FTfGHOi86//d+wGGFsQ=</td>\n",
       "      <td>NaN</td>\n",
       "    </tr>\n",
       "  </tbody>\n",
       "</table>\n",
       "<p>956327 rows × 2 columns</p>\n",
       "</div>"
      ],
      "text/plain": [
       "                                                msno  num_100\n",
       "0       +++IZseRRiQS9aaSkH6cMYU6bGDcxUieAi/tH67sC5s=  57347.0\n",
       "1       +++hVY1rZox/33YtvDgmKA2Frg/2qhkz12B9ylCvh8o=   1325.0\n",
       "2       +++l/EXNMLTijfLBa8p2TUVVVp2aFGSuUI/h7mLmthw=  14095.0\n",
       "3       +++snpr7pmobhLKUgSHTv/mpkqgBT0tQJ0zQj6qKrqc=  22773.0\n",
       "4       ++/9R3sX37CjxbY/AaGvbwr3QkwElKBCtSvVzhCBDOk=   4450.0\n",
       "...                                              ...      ...\n",
       "956322  zzy7iqSpfcRq7R4hmKKuhI+CJRs79a6pteqEggpiNO0=   3353.0\n",
       "956323  zzyHq6TK2+cBkeGFUHvh12Z7UxFZiSM7dOOSllSBPDw=  31011.0\n",
       "956324  zzz1Dc3P9s53HAowRTrm3fNsWju5yeN4YBfNDq7Z99Q=   2178.0\n",
       "956325  zzz4xr5LLzoxUqD6LfKiieCt8Or4dUWFQ0RA5gmkx8I=   2405.0\n",
       "956326  zzzN9thH22os1dRS0VHReY/8FTfGHOi86//d+wGGFsQ=      NaN\n",
       "\n",
       "[956327 rows x 2 columns]"
      ]
     },
     "execution_count": 12,
     "metadata": {},
     "output_type": "execute_result"
    }
   ],
   "source": [
    "UL_train_Num100_sum"
   ]
  },
  {
   "cell_type": "code",
   "execution_count": 13,
   "metadata": {},
   "outputs": [
    {
     "data": {
      "text/plain": [
       "array([57347.,  1325., 14095., ...,  2178.,  2405.,    nan])"
      ]
     },
     "execution_count": 13,
     "metadata": {},
     "output_type": "execute_result"
    }
   ],
   "source": [
    "np.array(UL_train_Num100_sum['num_100'])"
   ]
  },
  {
   "cell_type": "code",
   "execution_count": 14,
   "metadata": {},
   "outputs": [],
   "source": [
    "np.save('UL_train_Num100_sum',np.array(UL_train_Num100_sum['num_100']))"
   ]
  },
  {
   "cell_type": "markdown",
   "metadata": {},
   "source": [
    "#### Num25_sum:"
   ]
  },
  {
   "cell_type": "code",
   "execution_count": 15,
   "metadata": {},
   "outputs": [
    {
     "data": {
      "text/plain": [
       "['user_logs_num25_sum4.csv',\n",
       " 'user_logs_num25_sum6.csv',\n",
       " 'user_logs_num25_sum3.csv',\n",
       " 'user_logs_num25_sum2.csv',\n",
       " 'user_logs_num25_sum5.csv',\n",
       " 'user_logs_num25_sum.csv']"
      ]
     },
     "execution_count": 15,
     "metadata": {},
     "output_type": "execute_result"
    }
   ],
   "source": [
    "listdir('Train_copy/Num25_sum')"
   ]
  },
  {
   "cell_type": "code",
   "execution_count": 16,
   "metadata": {},
   "outputs": [],
   "source": [
    "#https://stackoverflow.com/a/51118604\n",
    "from os import listdir\n",
    "\n",
    "path = 'Train_copy/Num25_sum/'\n",
    "filepaths = [path+f for f in listdir('Train_copy/Num25_sum') if f.endswith('.csv')]\n",
    "df = pd.concat(map(pd.read_csv, filepaths))"
   ]
  },
  {
   "cell_type": "code",
   "execution_count": 17,
   "metadata": {},
   "outputs": [],
   "source": [
    "UL_train_Num25_sum=pd.merge(Train_msno['msno'], df.groupby('msno').sum(), on='msno', how='left')"
   ]
  },
  {
   "cell_type": "code",
   "execution_count": 18,
   "metadata": {},
   "outputs": [
    {
     "data": {
      "text/html": [
       "<div>\n",
       "<style scoped>\n",
       "    .dataframe tbody tr th:only-of-type {\n",
       "        vertical-align: middle;\n",
       "    }\n",
       "\n",
       "    .dataframe tbody tr th {\n",
       "        vertical-align: top;\n",
       "    }\n",
       "\n",
       "    .dataframe thead th {\n",
       "        text-align: right;\n",
       "    }\n",
       "</style>\n",
       "<table border=\"1\" class=\"dataframe\">\n",
       "  <thead>\n",
       "    <tr style=\"text-align: right;\">\n",
       "      <th></th>\n",
       "      <th>msno</th>\n",
       "      <th>num_25</th>\n",
       "    </tr>\n",
       "  </thead>\n",
       "  <tbody>\n",
       "    <tr>\n",
       "      <th>0</th>\n",
       "      <td>+++IZseRRiQS9aaSkH6cMYU6bGDcxUieAi/tH67sC5s=</td>\n",
       "      <td>709.0</td>\n",
       "    </tr>\n",
       "    <tr>\n",
       "      <th>1</th>\n",
       "      <td>+++hVY1rZox/33YtvDgmKA2Frg/2qhkz12B9ylCvh8o=</td>\n",
       "      <td>321.0</td>\n",
       "    </tr>\n",
       "    <tr>\n",
       "      <th>2</th>\n",
       "      <td>+++l/EXNMLTijfLBa8p2TUVVVp2aFGSuUI/h7mLmthw=</td>\n",
       "      <td>1259.0</td>\n",
       "    </tr>\n",
       "    <tr>\n",
       "      <th>3</th>\n",
       "      <td>+++snpr7pmobhLKUgSHTv/mpkqgBT0tQJ0zQj6qKrqc=</td>\n",
       "      <td>6211.0</td>\n",
       "    </tr>\n",
       "    <tr>\n",
       "      <th>4</th>\n",
       "      <td>++/9R3sX37CjxbY/AaGvbwr3QkwElKBCtSvVzhCBDOk=</td>\n",
       "      <td>1281.0</td>\n",
       "    </tr>\n",
       "    <tr>\n",
       "      <th>...</th>\n",
       "      <td>...</td>\n",
       "      <td>...</td>\n",
       "    </tr>\n",
       "    <tr>\n",
       "      <th>956322</th>\n",
       "      <td>zzy7iqSpfcRq7R4hmKKuhI+CJRs79a6pteqEggpiNO0=</td>\n",
       "      <td>1547.0</td>\n",
       "    </tr>\n",
       "    <tr>\n",
       "      <th>956323</th>\n",
       "      <td>zzyHq6TK2+cBkeGFUHvh12Z7UxFZiSM7dOOSllSBPDw=</td>\n",
       "      <td>1944.0</td>\n",
       "    </tr>\n",
       "    <tr>\n",
       "      <th>956324</th>\n",
       "      <td>zzz1Dc3P9s53HAowRTrm3fNsWju5yeN4YBfNDq7Z99Q=</td>\n",
       "      <td>580.0</td>\n",
       "    </tr>\n",
       "    <tr>\n",
       "      <th>956325</th>\n",
       "      <td>zzz4xr5LLzoxUqD6LfKiieCt8Or4dUWFQ0RA5gmkx8I=</td>\n",
       "      <td>1514.0</td>\n",
       "    </tr>\n",
       "    <tr>\n",
       "      <th>956326</th>\n",
       "      <td>zzzN9thH22os1dRS0VHReY/8FTfGHOi86//d+wGGFsQ=</td>\n",
       "      <td>NaN</td>\n",
       "    </tr>\n",
       "  </tbody>\n",
       "</table>\n",
       "<p>956327 rows × 2 columns</p>\n",
       "</div>"
      ],
      "text/plain": [
       "                                                msno  num_25\n",
       "0       +++IZseRRiQS9aaSkH6cMYU6bGDcxUieAi/tH67sC5s=   709.0\n",
       "1       +++hVY1rZox/33YtvDgmKA2Frg/2qhkz12B9ylCvh8o=   321.0\n",
       "2       +++l/EXNMLTijfLBa8p2TUVVVp2aFGSuUI/h7mLmthw=  1259.0\n",
       "3       +++snpr7pmobhLKUgSHTv/mpkqgBT0tQJ0zQj6qKrqc=  6211.0\n",
       "4       ++/9R3sX37CjxbY/AaGvbwr3QkwElKBCtSvVzhCBDOk=  1281.0\n",
       "...                                              ...     ...\n",
       "956322  zzy7iqSpfcRq7R4hmKKuhI+CJRs79a6pteqEggpiNO0=  1547.0\n",
       "956323  zzyHq6TK2+cBkeGFUHvh12Z7UxFZiSM7dOOSllSBPDw=  1944.0\n",
       "956324  zzz1Dc3P9s53HAowRTrm3fNsWju5yeN4YBfNDq7Z99Q=   580.0\n",
       "956325  zzz4xr5LLzoxUqD6LfKiieCt8Or4dUWFQ0RA5gmkx8I=  1514.0\n",
       "956326  zzzN9thH22os1dRS0VHReY/8FTfGHOi86//d+wGGFsQ=     NaN\n",
       "\n",
       "[956327 rows x 2 columns]"
      ]
     },
     "execution_count": 18,
     "metadata": {},
     "output_type": "execute_result"
    }
   ],
   "source": [
    "UL_train_Num25_sum"
   ]
  },
  {
   "cell_type": "code",
   "execution_count": 19,
   "metadata": {},
   "outputs": [
    {
     "data": {
      "text/plain": [
       "array([ 709.,  321., 1259., ...,  580., 1514.,   nan])"
      ]
     },
     "execution_count": 19,
     "metadata": {},
     "output_type": "execute_result"
    }
   ],
   "source": [
    "np.array(UL_train_Num25_sum['num_25'])"
   ]
  },
  {
   "cell_type": "code",
   "execution_count": 20,
   "metadata": {},
   "outputs": [],
   "source": [
    "np.save('UL_train_Num25_sum',np.array(UL_train_Num25_sum['num_25']))"
   ]
  },
  {
   "cell_type": "markdown",
   "metadata": {},
   "source": [
    "#### Num50_sum:"
   ]
  },
  {
   "cell_type": "code",
   "execution_count": 21,
   "metadata": {},
   "outputs": [
    {
     "data": {
      "text/plain": [
       "['user_logs_num50_sum5.csv',\n",
       " 'user_logs_num50_sum6.csv',\n",
       " 'user_logs_num50_sum.csv',\n",
       " 'user_logs_num50_sum2.csv',\n",
       " 'user_logs_num50_sum3.csv',\n",
       " 'user_logs_num50_sum4.csv']"
      ]
     },
     "execution_count": 21,
     "metadata": {},
     "output_type": "execute_result"
    }
   ],
   "source": [
    "listdir('Train_copy/Num50_sum')"
   ]
  },
  {
   "cell_type": "code",
   "execution_count": 22,
   "metadata": {},
   "outputs": [],
   "source": [
    "#https://stackoverflow.com/a/51118604\n",
    "from os import listdir\n",
    "\n",
    "path = 'Train_copy/Num50_sum/'\n",
    "filepaths = [path+f for f in listdir('Train_copy/Num50_sum') if f.endswith('.csv')]\n",
    "df = pd.concat(map(pd.read_csv, filepaths))"
   ]
  },
  {
   "cell_type": "code",
   "execution_count": 23,
   "metadata": {},
   "outputs": [],
   "source": [
    "UL_train_Num50_sum=pd.merge(Train_msno['msno'], df.groupby('msno').sum(), on='msno', how='left')"
   ]
  },
  {
   "cell_type": "code",
   "execution_count": 24,
   "metadata": {},
   "outputs": [
    {
     "data": {
      "text/html": [
       "<div>\n",
       "<style scoped>\n",
       "    .dataframe tbody tr th:only-of-type {\n",
       "        vertical-align: middle;\n",
       "    }\n",
       "\n",
       "    .dataframe tbody tr th {\n",
       "        vertical-align: top;\n",
       "    }\n",
       "\n",
       "    .dataframe thead th {\n",
       "        text-align: right;\n",
       "    }\n",
       "</style>\n",
       "<table border=\"1\" class=\"dataframe\">\n",
       "  <thead>\n",
       "    <tr style=\"text-align: right;\">\n",
       "      <th></th>\n",
       "      <th>msno</th>\n",
       "      <th>num_50</th>\n",
       "    </tr>\n",
       "  </thead>\n",
       "  <tbody>\n",
       "    <tr>\n",
       "      <th>0</th>\n",
       "      <td>+++IZseRRiQS9aaSkH6cMYU6bGDcxUieAi/tH67sC5s=</td>\n",
       "      <td>234.0</td>\n",
       "    </tr>\n",
       "    <tr>\n",
       "      <th>1</th>\n",
       "      <td>+++hVY1rZox/33YtvDgmKA2Frg/2qhkz12B9ylCvh8o=</td>\n",
       "      <td>159.0</td>\n",
       "    </tr>\n",
       "    <tr>\n",
       "      <th>2</th>\n",
       "      <td>+++l/EXNMLTijfLBa8p2TUVVVp2aFGSuUI/h7mLmthw=</td>\n",
       "      <td>441.0</td>\n",
       "    </tr>\n",
       "    <tr>\n",
       "      <th>3</th>\n",
       "      <td>+++snpr7pmobhLKUgSHTv/mpkqgBT0tQJ0zQj6qKrqc=</td>\n",
       "      <td>1958.0</td>\n",
       "    </tr>\n",
       "    <tr>\n",
       "      <th>4</th>\n",
       "      <td>++/9R3sX37CjxbY/AaGvbwr3QkwElKBCtSvVzhCBDOk=</td>\n",
       "      <td>393.0</td>\n",
       "    </tr>\n",
       "    <tr>\n",
       "      <th>...</th>\n",
       "      <td>...</td>\n",
       "      <td>...</td>\n",
       "    </tr>\n",
       "    <tr>\n",
       "      <th>956322</th>\n",
       "      <td>zzy7iqSpfcRq7R4hmKKuhI+CJRs79a6pteqEggpiNO0=</td>\n",
       "      <td>354.0</td>\n",
       "    </tr>\n",
       "    <tr>\n",
       "      <th>956323</th>\n",
       "      <td>zzyHq6TK2+cBkeGFUHvh12Z7UxFZiSM7dOOSllSBPDw=</td>\n",
       "      <td>727.0</td>\n",
       "    </tr>\n",
       "    <tr>\n",
       "      <th>956324</th>\n",
       "      <td>zzz1Dc3P9s53HAowRTrm3fNsWju5yeN4YBfNDq7Z99Q=</td>\n",
       "      <td>182.0</td>\n",
       "    </tr>\n",
       "    <tr>\n",
       "      <th>956325</th>\n",
       "      <td>zzz4xr5LLzoxUqD6LfKiieCt8Or4dUWFQ0RA5gmkx8I=</td>\n",
       "      <td>163.0</td>\n",
       "    </tr>\n",
       "    <tr>\n",
       "      <th>956326</th>\n",
       "      <td>zzzN9thH22os1dRS0VHReY/8FTfGHOi86//d+wGGFsQ=</td>\n",
       "      <td>NaN</td>\n",
       "    </tr>\n",
       "  </tbody>\n",
       "</table>\n",
       "<p>956327 rows × 2 columns</p>\n",
       "</div>"
      ],
      "text/plain": [
       "                                                msno  num_50\n",
       "0       +++IZseRRiQS9aaSkH6cMYU6bGDcxUieAi/tH67sC5s=   234.0\n",
       "1       +++hVY1rZox/33YtvDgmKA2Frg/2qhkz12B9ylCvh8o=   159.0\n",
       "2       +++l/EXNMLTijfLBa8p2TUVVVp2aFGSuUI/h7mLmthw=   441.0\n",
       "3       +++snpr7pmobhLKUgSHTv/mpkqgBT0tQJ0zQj6qKrqc=  1958.0\n",
       "4       ++/9R3sX37CjxbY/AaGvbwr3QkwElKBCtSvVzhCBDOk=   393.0\n",
       "...                                              ...     ...\n",
       "956322  zzy7iqSpfcRq7R4hmKKuhI+CJRs79a6pteqEggpiNO0=   354.0\n",
       "956323  zzyHq6TK2+cBkeGFUHvh12Z7UxFZiSM7dOOSllSBPDw=   727.0\n",
       "956324  zzz1Dc3P9s53HAowRTrm3fNsWju5yeN4YBfNDq7Z99Q=   182.0\n",
       "956325  zzz4xr5LLzoxUqD6LfKiieCt8Or4dUWFQ0RA5gmkx8I=   163.0\n",
       "956326  zzzN9thH22os1dRS0VHReY/8FTfGHOi86//d+wGGFsQ=     NaN\n",
       "\n",
       "[956327 rows x 2 columns]"
      ]
     },
     "execution_count": 24,
     "metadata": {},
     "output_type": "execute_result"
    }
   ],
   "source": [
    "UL_train_Num50_sum"
   ]
  },
  {
   "cell_type": "code",
   "execution_count": 25,
   "metadata": {},
   "outputs": [
    {
     "data": {
      "text/plain": [
       "array([234., 159., 441., ..., 182., 163.,  nan])"
      ]
     },
     "execution_count": 25,
     "metadata": {},
     "output_type": "execute_result"
    }
   ],
   "source": [
    "np.array(UL_train_Num50_sum['num_50'])"
   ]
  },
  {
   "cell_type": "code",
   "execution_count": 26,
   "metadata": {},
   "outputs": [],
   "source": [
    "np.save('UL_train_Num50_sum',np.array(UL_train_Num50_sum['num_50']))"
   ]
  },
  {
   "cell_type": "markdown",
   "metadata": {},
   "source": [
    "#### Num75_sum:"
   ]
  },
  {
   "cell_type": "code",
   "execution_count": 27,
   "metadata": {},
   "outputs": [
    {
     "data": {
      "text/plain": [
       "['user_logs_num75_sum.csv',\n",
       " 'user_logs_num75_sum5.csv',\n",
       " 'user_logs_num75_sum3.csv',\n",
       " 'user_logs_num75_sum4.csv',\n",
       " 'user_logs_num75_sum2.csv',\n",
       " 'user_logs_num75_sum6.csv']"
      ]
     },
     "execution_count": 27,
     "metadata": {},
     "output_type": "execute_result"
    }
   ],
   "source": [
    "listdir('Train_copy/Num75_sum')"
   ]
  },
  {
   "cell_type": "code",
   "execution_count": 28,
   "metadata": {},
   "outputs": [],
   "source": [
    "#https://stackoverflow.com/a/51118604\n",
    "from os import listdir\n",
    "\n",
    "path = 'Train_copy/Num75_sum/'\n",
    "filepaths = [path+f for f in listdir('Train_copy/Num75_sum') if f.endswith('.csv')]\n",
    "df = pd.concat(map(pd.read_csv, filepaths))"
   ]
  },
  {
   "cell_type": "code",
   "execution_count": 29,
   "metadata": {},
   "outputs": [],
   "source": [
    "UL_train_Num75_sum=pd.merge(Train_msno['msno'], df.groupby('msno').sum(), on='msno', how='left')"
   ]
  },
  {
   "cell_type": "code",
   "execution_count": 30,
   "metadata": {},
   "outputs": [
    {
     "data": {
      "text/html": [
       "<div>\n",
       "<style scoped>\n",
       "    .dataframe tbody tr th:only-of-type {\n",
       "        vertical-align: middle;\n",
       "    }\n",
       "\n",
       "    .dataframe tbody tr th {\n",
       "        vertical-align: top;\n",
       "    }\n",
       "\n",
       "    .dataframe thead th {\n",
       "        text-align: right;\n",
       "    }\n",
       "</style>\n",
       "<table border=\"1\" class=\"dataframe\">\n",
       "  <thead>\n",
       "    <tr style=\"text-align: right;\">\n",
       "      <th></th>\n",
       "      <th>msno</th>\n",
       "      <th>num_75</th>\n",
       "    </tr>\n",
       "  </thead>\n",
       "  <tbody>\n",
       "    <tr>\n",
       "      <th>0</th>\n",
       "      <td>+++IZseRRiQS9aaSkH6cMYU6bGDcxUieAi/tH67sC5s=</td>\n",
       "      <td>209.0</td>\n",
       "    </tr>\n",
       "    <tr>\n",
       "      <th>1</th>\n",
       "      <td>+++hVY1rZox/33YtvDgmKA2Frg/2qhkz12B9ylCvh8o=</td>\n",
       "      <td>148.0</td>\n",
       "    </tr>\n",
       "    <tr>\n",
       "      <th>2</th>\n",
       "      <td>+++l/EXNMLTijfLBa8p2TUVVVp2aFGSuUI/h7mLmthw=</td>\n",
       "      <td>375.0</td>\n",
       "    </tr>\n",
       "    <tr>\n",
       "      <th>3</th>\n",
       "      <td>+++snpr7pmobhLKUgSHTv/mpkqgBT0tQJ0zQj6qKrqc=</td>\n",
       "      <td>1333.0</td>\n",
       "    </tr>\n",
       "    <tr>\n",
       "      <th>4</th>\n",
       "      <td>++/9R3sX37CjxbY/AaGvbwr3QkwElKBCtSvVzhCBDOk=</td>\n",
       "      <td>315.0</td>\n",
       "    </tr>\n",
       "    <tr>\n",
       "      <th>...</th>\n",
       "      <td>...</td>\n",
       "      <td>...</td>\n",
       "    </tr>\n",
       "    <tr>\n",
       "      <th>956322</th>\n",
       "      <td>zzy7iqSpfcRq7R4hmKKuhI+CJRs79a6pteqEggpiNO0=</td>\n",
       "      <td>303.0</td>\n",
       "    </tr>\n",
       "    <tr>\n",
       "      <th>956323</th>\n",
       "      <td>zzyHq6TK2+cBkeGFUHvh12Z7UxFZiSM7dOOSllSBPDw=</td>\n",
       "      <td>689.0</td>\n",
       "    </tr>\n",
       "    <tr>\n",
       "      <th>956324</th>\n",
       "      <td>zzz1Dc3P9s53HAowRTrm3fNsWju5yeN4YBfNDq7Z99Q=</td>\n",
       "      <td>116.0</td>\n",
       "    </tr>\n",
       "    <tr>\n",
       "      <th>956325</th>\n",
       "      <td>zzz4xr5LLzoxUqD6LfKiieCt8Or4dUWFQ0RA5gmkx8I=</td>\n",
       "      <td>106.0</td>\n",
       "    </tr>\n",
       "    <tr>\n",
       "      <th>956326</th>\n",
       "      <td>zzzN9thH22os1dRS0VHReY/8FTfGHOi86//d+wGGFsQ=</td>\n",
       "      <td>NaN</td>\n",
       "    </tr>\n",
       "  </tbody>\n",
       "</table>\n",
       "<p>956327 rows × 2 columns</p>\n",
       "</div>"
      ],
      "text/plain": [
       "                                                msno  num_75\n",
       "0       +++IZseRRiQS9aaSkH6cMYU6bGDcxUieAi/tH67sC5s=   209.0\n",
       "1       +++hVY1rZox/33YtvDgmKA2Frg/2qhkz12B9ylCvh8o=   148.0\n",
       "2       +++l/EXNMLTijfLBa8p2TUVVVp2aFGSuUI/h7mLmthw=   375.0\n",
       "3       +++snpr7pmobhLKUgSHTv/mpkqgBT0tQJ0zQj6qKrqc=  1333.0\n",
       "4       ++/9R3sX37CjxbY/AaGvbwr3QkwElKBCtSvVzhCBDOk=   315.0\n",
       "...                                              ...     ...\n",
       "956322  zzy7iqSpfcRq7R4hmKKuhI+CJRs79a6pteqEggpiNO0=   303.0\n",
       "956323  zzyHq6TK2+cBkeGFUHvh12Z7UxFZiSM7dOOSllSBPDw=   689.0\n",
       "956324  zzz1Dc3P9s53HAowRTrm3fNsWju5yeN4YBfNDq7Z99Q=   116.0\n",
       "956325  zzz4xr5LLzoxUqD6LfKiieCt8Or4dUWFQ0RA5gmkx8I=   106.0\n",
       "956326  zzzN9thH22os1dRS0VHReY/8FTfGHOi86//d+wGGFsQ=     NaN\n",
       "\n",
       "[956327 rows x 2 columns]"
      ]
     },
     "execution_count": 30,
     "metadata": {},
     "output_type": "execute_result"
    }
   ],
   "source": [
    "UL_train_Num75_sum"
   ]
  },
  {
   "cell_type": "code",
   "execution_count": 31,
   "metadata": {},
   "outputs": [
    {
     "data": {
      "text/plain": [
       "array([209., 148., 375., ..., 116., 106.,  nan])"
      ]
     },
     "execution_count": 31,
     "metadata": {},
     "output_type": "execute_result"
    }
   ],
   "source": [
    "np.array(UL_train_Num75_sum['num_75'])"
   ]
  },
  {
   "cell_type": "code",
   "execution_count": 32,
   "metadata": {},
   "outputs": [],
   "source": [
    "np.save('UL_train_Num75_sum',np.array(UL_train_Num75_sum['num_75']))"
   ]
  },
  {
   "cell_type": "markdown",
   "metadata": {},
   "source": [
    "#### Num985_sum:"
   ]
  },
  {
   "cell_type": "code",
   "execution_count": 33,
   "metadata": {},
   "outputs": [
    {
     "data": {
      "text/plain": [
       "['user_logs_num985_sum5.csv',\n",
       " 'user_logs_num985_sum2.csv',\n",
       " 'user_logs_num985_sum.csv',\n",
       " 'user_logs_num985_sum3.csv',\n",
       " 'user_logs_num985_sum6.csv',\n",
       " 'user_logs_num985_sum4.csv']"
      ]
     },
     "execution_count": 33,
     "metadata": {},
     "output_type": "execute_result"
    }
   ],
   "source": [
    "listdir('Train_copy/Num985_sum')"
   ]
  },
  {
   "cell_type": "code",
   "execution_count": 34,
   "metadata": {},
   "outputs": [],
   "source": [
    "#https://stackoverflow.com/a/51118604\n",
    "from os import listdir\n",
    "\n",
    "path = 'Train_copy/Num985_sum/'\n",
    "filepaths = [path+f for f in listdir('Train_copy/Num985_sum') if f.endswith('.csv')]\n",
    "df = pd.concat(map(pd.read_csv, filepaths))"
   ]
  },
  {
   "cell_type": "code",
   "execution_count": 35,
   "metadata": {},
   "outputs": [],
   "source": [
    "UL_train_Num985_sum=pd.merge(Train_msno['msno'], df.groupby('msno').sum(), on='msno', how='left')"
   ]
  },
  {
   "cell_type": "code",
   "execution_count": 36,
   "metadata": {},
   "outputs": [
    {
     "data": {
      "text/html": [
       "<div>\n",
       "<style scoped>\n",
       "    .dataframe tbody tr th:only-of-type {\n",
       "        vertical-align: middle;\n",
       "    }\n",
       "\n",
       "    .dataframe tbody tr th {\n",
       "        vertical-align: top;\n",
       "    }\n",
       "\n",
       "    .dataframe thead th {\n",
       "        text-align: right;\n",
       "    }\n",
       "</style>\n",
       "<table border=\"1\" class=\"dataframe\">\n",
       "  <thead>\n",
       "    <tr style=\"text-align: right;\">\n",
       "      <th></th>\n",
       "      <th>msno</th>\n",
       "      <th>num_985</th>\n",
       "    </tr>\n",
       "  </thead>\n",
       "  <tbody>\n",
       "    <tr>\n",
       "      <th>0</th>\n",
       "      <td>+++IZseRRiQS9aaSkH6cMYU6bGDcxUieAi/tH67sC5s=</td>\n",
       "      <td>173.0</td>\n",
       "    </tr>\n",
       "    <tr>\n",
       "      <th>1</th>\n",
       "      <td>+++hVY1rZox/33YtvDgmKA2Frg/2qhkz12B9ylCvh8o=</td>\n",
       "      <td>243.0</td>\n",
       "    </tr>\n",
       "    <tr>\n",
       "      <th>2</th>\n",
       "      <td>+++l/EXNMLTijfLBa8p2TUVVVp2aFGSuUI/h7mLmthw=</td>\n",
       "      <td>464.0</td>\n",
       "    </tr>\n",
       "    <tr>\n",
       "      <th>3</th>\n",
       "      <td>+++snpr7pmobhLKUgSHTv/mpkqgBT0tQJ0zQj6qKrqc=</td>\n",
       "      <td>1274.0</td>\n",
       "    </tr>\n",
       "    <tr>\n",
       "      <th>4</th>\n",
       "      <td>++/9R3sX37CjxbY/AaGvbwr3QkwElKBCtSvVzhCBDOk=</td>\n",
       "      <td>418.0</td>\n",
       "    </tr>\n",
       "    <tr>\n",
       "      <th>...</th>\n",
       "      <td>...</td>\n",
       "      <td>...</td>\n",
       "    </tr>\n",
       "    <tr>\n",
       "      <th>956322</th>\n",
       "      <td>zzy7iqSpfcRq7R4hmKKuhI+CJRs79a6pteqEggpiNO0=</td>\n",
       "      <td>347.0</td>\n",
       "    </tr>\n",
       "    <tr>\n",
       "      <th>956323</th>\n",
       "      <td>zzyHq6TK2+cBkeGFUHvh12Z7UxFZiSM7dOOSllSBPDw=</td>\n",
       "      <td>633.0</td>\n",
       "    </tr>\n",
       "    <tr>\n",
       "      <th>956324</th>\n",
       "      <td>zzz1Dc3P9s53HAowRTrm3fNsWju5yeN4YBfNDq7Z99Q=</td>\n",
       "      <td>106.0</td>\n",
       "    </tr>\n",
       "    <tr>\n",
       "      <th>956325</th>\n",
       "      <td>zzz4xr5LLzoxUqD6LfKiieCt8Or4dUWFQ0RA5gmkx8I=</td>\n",
       "      <td>117.0</td>\n",
       "    </tr>\n",
       "    <tr>\n",
       "      <th>956326</th>\n",
       "      <td>zzzN9thH22os1dRS0VHReY/8FTfGHOi86//d+wGGFsQ=</td>\n",
       "      <td>NaN</td>\n",
       "    </tr>\n",
       "  </tbody>\n",
       "</table>\n",
       "<p>956327 rows × 2 columns</p>\n",
       "</div>"
      ],
      "text/plain": [
       "                                                msno  num_985\n",
       "0       +++IZseRRiQS9aaSkH6cMYU6bGDcxUieAi/tH67sC5s=    173.0\n",
       "1       +++hVY1rZox/33YtvDgmKA2Frg/2qhkz12B9ylCvh8o=    243.0\n",
       "2       +++l/EXNMLTijfLBa8p2TUVVVp2aFGSuUI/h7mLmthw=    464.0\n",
       "3       +++snpr7pmobhLKUgSHTv/mpkqgBT0tQJ0zQj6qKrqc=   1274.0\n",
       "4       ++/9R3sX37CjxbY/AaGvbwr3QkwElKBCtSvVzhCBDOk=    418.0\n",
       "...                                              ...      ...\n",
       "956322  zzy7iqSpfcRq7R4hmKKuhI+CJRs79a6pteqEggpiNO0=    347.0\n",
       "956323  zzyHq6TK2+cBkeGFUHvh12Z7UxFZiSM7dOOSllSBPDw=    633.0\n",
       "956324  zzz1Dc3P9s53HAowRTrm3fNsWju5yeN4YBfNDq7Z99Q=    106.0\n",
       "956325  zzz4xr5LLzoxUqD6LfKiieCt8Or4dUWFQ0RA5gmkx8I=    117.0\n",
       "956326  zzzN9thH22os1dRS0VHReY/8FTfGHOi86//d+wGGFsQ=      NaN\n",
       "\n",
       "[956327 rows x 2 columns]"
      ]
     },
     "execution_count": 36,
     "metadata": {},
     "output_type": "execute_result"
    }
   ],
   "source": [
    "UL_train_Num985_sum"
   ]
  },
  {
   "cell_type": "code",
   "execution_count": 37,
   "metadata": {},
   "outputs": [
    {
     "data": {
      "text/plain": [
       "array([173., 243., 464., ..., 106., 117.,  nan])"
      ]
     },
     "execution_count": 37,
     "metadata": {},
     "output_type": "execute_result"
    }
   ],
   "source": [
    "np.array(UL_train_Num985_sum['num_985'])"
   ]
  },
  {
   "cell_type": "code",
   "execution_count": 38,
   "metadata": {},
   "outputs": [],
   "source": [
    "np.save('UL_train_Num985_sum',np.array(UL_train_Num985_sum['num_985']))"
   ]
  },
  {
   "cell_type": "markdown",
   "metadata": {},
   "source": [
    "#### Num_unq_sum:"
   ]
  },
  {
   "cell_type": "code",
   "execution_count": 39,
   "metadata": {},
   "outputs": [
    {
     "data": {
      "text/plain": [
       "['user_logs_num_unq_sum3.csv',\n",
       " 'user_logs_num_unq_sum4.csv',\n",
       " 'user_logs_num_unq_sum2.csv',\n",
       " 'user_logs_num_unq_sum6.csv',\n",
       " 'user_logs_num_unq_sum.csv',\n",
       " 'user_logs_num_unq_sum5.csv']"
      ]
     },
     "execution_count": 39,
     "metadata": {},
     "output_type": "execute_result"
    }
   ],
   "source": [
    "from os import listdir\n",
    "\n",
    "listdir('Train_copy/Num_unq_sum')"
   ]
  },
  {
   "cell_type": "code",
   "execution_count": 40,
   "metadata": {},
   "outputs": [],
   "source": [
    "#https://stackoverflow.com/a/51118604\n",
    "from os import listdir\n",
    "\n",
    "path = 'Train_copy/Num_unq_sum/'\n",
    "filepaths = [path+f for f in listdir('Train_copy/Num_unq_sum') if f.endswith('.csv')]\n",
    "df = pd.concat(map(pd.read_csv, filepaths))"
   ]
  },
  {
   "cell_type": "code",
   "execution_count": 41,
   "metadata": {},
   "outputs": [],
   "source": [
    "UL_train_Num_unq_sum=pd.merge(Train_msno['msno'], df.groupby('msno').sum(), on='msno', how='left')"
   ]
  },
  {
   "cell_type": "code",
   "execution_count": 42,
   "metadata": {},
   "outputs": [
    {
     "data": {
      "text/html": [
       "<div>\n",
       "<style scoped>\n",
       "    .dataframe tbody tr th:only-of-type {\n",
       "        vertical-align: middle;\n",
       "    }\n",
       "\n",
       "    .dataframe tbody tr th {\n",
       "        vertical-align: top;\n",
       "    }\n",
       "\n",
       "    .dataframe thead th {\n",
       "        text-align: right;\n",
       "    }\n",
       "</style>\n",
       "<table border=\"1\" class=\"dataframe\">\n",
       "  <thead>\n",
       "    <tr style=\"text-align: right;\">\n",
       "      <th></th>\n",
       "      <th>msno</th>\n",
       "      <th>num_unq</th>\n",
       "    </tr>\n",
       "  </thead>\n",
       "  <tbody>\n",
       "    <tr>\n",
       "      <th>0</th>\n",
       "      <td>+++IZseRRiQS9aaSkH6cMYU6bGDcxUieAi/tH67sC5s=</td>\n",
       "      <td>51705.0</td>\n",
       "    </tr>\n",
       "    <tr>\n",
       "      <th>1</th>\n",
       "      <td>+++hVY1rZox/33YtvDgmKA2Frg/2qhkz12B9ylCvh8o=</td>\n",
       "      <td>1467.0</td>\n",
       "    </tr>\n",
       "    <tr>\n",
       "      <th>2</th>\n",
       "      <td>+++l/EXNMLTijfLBa8p2TUVVVp2aFGSuUI/h7mLmthw=</td>\n",
       "      <td>13715.0</td>\n",
       "    </tr>\n",
       "    <tr>\n",
       "      <th>3</th>\n",
       "      <td>+++snpr7pmobhLKUgSHTv/mpkqgBT0tQJ0zQj6qKrqc=</td>\n",
       "      <td>23025.0</td>\n",
       "    </tr>\n",
       "    <tr>\n",
       "      <th>4</th>\n",
       "      <td>++/9R3sX37CjxbY/AaGvbwr3QkwElKBCtSvVzhCBDOk=</td>\n",
       "      <td>3540.0</td>\n",
       "    </tr>\n",
       "    <tr>\n",
       "      <th>...</th>\n",
       "      <td>...</td>\n",
       "      <td>...</td>\n",
       "    </tr>\n",
       "    <tr>\n",
       "      <th>956322</th>\n",
       "      <td>zzy7iqSpfcRq7R4hmKKuhI+CJRs79a6pteqEggpiNO0=</td>\n",
       "      <td>4004.0</td>\n",
       "    </tr>\n",
       "    <tr>\n",
       "      <th>956323</th>\n",
       "      <td>zzyHq6TK2+cBkeGFUHvh12Z7UxFZiSM7dOOSllSBPDw=</td>\n",
       "      <td>25712.0</td>\n",
       "    </tr>\n",
       "    <tr>\n",
       "      <th>956324</th>\n",
       "      <td>zzz1Dc3P9s53HAowRTrm3fNsWju5yeN4YBfNDq7Z99Q=</td>\n",
       "      <td>2432.0</td>\n",
       "    </tr>\n",
       "    <tr>\n",
       "      <th>956325</th>\n",
       "      <td>zzz4xr5LLzoxUqD6LfKiieCt8Or4dUWFQ0RA5gmkx8I=</td>\n",
       "      <td>3723.0</td>\n",
       "    </tr>\n",
       "    <tr>\n",
       "      <th>956326</th>\n",
       "      <td>zzzN9thH22os1dRS0VHReY/8FTfGHOi86//d+wGGFsQ=</td>\n",
       "      <td>NaN</td>\n",
       "    </tr>\n",
       "  </tbody>\n",
       "</table>\n",
       "<p>956327 rows × 2 columns</p>\n",
       "</div>"
      ],
      "text/plain": [
       "                                                msno  num_unq\n",
       "0       +++IZseRRiQS9aaSkH6cMYU6bGDcxUieAi/tH67sC5s=  51705.0\n",
       "1       +++hVY1rZox/33YtvDgmKA2Frg/2qhkz12B9ylCvh8o=   1467.0\n",
       "2       +++l/EXNMLTijfLBa8p2TUVVVp2aFGSuUI/h7mLmthw=  13715.0\n",
       "3       +++snpr7pmobhLKUgSHTv/mpkqgBT0tQJ0zQj6qKrqc=  23025.0\n",
       "4       ++/9R3sX37CjxbY/AaGvbwr3QkwElKBCtSvVzhCBDOk=   3540.0\n",
       "...                                              ...      ...\n",
       "956322  zzy7iqSpfcRq7R4hmKKuhI+CJRs79a6pteqEggpiNO0=   4004.0\n",
       "956323  zzyHq6TK2+cBkeGFUHvh12Z7UxFZiSM7dOOSllSBPDw=  25712.0\n",
       "956324  zzz1Dc3P9s53HAowRTrm3fNsWju5yeN4YBfNDq7Z99Q=   2432.0\n",
       "956325  zzz4xr5LLzoxUqD6LfKiieCt8Or4dUWFQ0RA5gmkx8I=   3723.0\n",
       "956326  zzzN9thH22os1dRS0VHReY/8FTfGHOi86//d+wGGFsQ=      NaN\n",
       "\n",
       "[956327 rows x 2 columns]"
      ]
     },
     "execution_count": 42,
     "metadata": {},
     "output_type": "execute_result"
    }
   ],
   "source": [
    "UL_train_Num_unq_sum"
   ]
  },
  {
   "cell_type": "code",
   "execution_count": 43,
   "metadata": {},
   "outputs": [
    {
     "data": {
      "text/plain": [
       "array([51705.,  1467., 13715., ...,  2432.,  3723.,    nan])"
      ]
     },
     "execution_count": 43,
     "metadata": {},
     "output_type": "execute_result"
    }
   ],
   "source": [
    "np.array(UL_train_Num_unq_sum['num_unq'])"
   ]
  },
  {
   "cell_type": "code",
   "execution_count": 44,
   "metadata": {},
   "outputs": [],
   "source": [
    "np.save('UL_train_Num_unq_sum',np.array(UL_train_Num_unq_sum['num_unq']))"
   ]
  },
  {
   "cell_type": "markdown",
   "metadata": {},
   "source": [
    "#### total_sec_sum:"
   ]
  },
  {
   "cell_type": "code",
   "execution_count": 45,
   "metadata": {},
   "outputs": [
    {
     "data": {
      "text/plain": [
       "['user_logs_total_sec_sum3.csv',\n",
       " 'user_logs_total_sec_sum5.csv',\n",
       " 'user_logs_total_sec_sum.csv',\n",
       " 'user_logs_total_sec_sum6.csv',\n",
       " 'user_logs_total_sec_sum4.csv',\n",
       " 'user_logs_total_sec_sum2.csv']"
      ]
     },
     "execution_count": 45,
     "metadata": {},
     "output_type": "execute_result"
    }
   ],
   "source": [
    "listdir('Train_copy/total_sec_sum')"
   ]
  },
  {
   "cell_type": "code",
   "execution_count": 46,
   "metadata": {},
   "outputs": [],
   "source": [
    "#https://stackoverflow.com/a/51118604\n",
    "from os import listdir\n",
    "\n",
    "path = 'Train_copy/total_sec_sum/'\n",
    "filepaths = [path+f for f in listdir('Train_copy/total_sec_sum') if f.endswith('.csv')]\n",
    "df = pd.concat(map(pd.read_csv, filepaths))"
   ]
  },
  {
   "cell_type": "code",
   "execution_count": 47,
   "metadata": {},
   "outputs": [],
   "source": [
    "UL_train_total_sec_sum=pd.merge(Train_msno['msno'], df.groupby('msno').sum(), on='msno', how='left')"
   ]
  },
  {
   "cell_type": "code",
   "execution_count": 48,
   "metadata": {},
   "outputs": [
    {
     "data": {
      "text/html": [
       "<div>\n",
       "<style scoped>\n",
       "    .dataframe tbody tr th:only-of-type {\n",
       "        vertical-align: middle;\n",
       "    }\n",
       "\n",
       "    .dataframe tbody tr th {\n",
       "        vertical-align: top;\n",
       "    }\n",
       "\n",
       "    .dataframe thead th {\n",
       "        text-align: right;\n",
       "    }\n",
       "</style>\n",
       "<table border=\"1\" class=\"dataframe\">\n",
       "  <thead>\n",
       "    <tr style=\"text-align: right;\">\n",
       "      <th></th>\n",
       "      <th>msno</th>\n",
       "      <th>total_secs</th>\n",
       "    </tr>\n",
       "  </thead>\n",
       "  <tbody>\n",
       "    <tr>\n",
       "      <th>0</th>\n",
       "      <td>+++IZseRRiQS9aaSkH6cMYU6bGDcxUieAi/tH67sC5s=</td>\n",
       "      <td>1.416846e+07</td>\n",
       "    </tr>\n",
       "    <tr>\n",
       "      <th>1</th>\n",
       "      <td>+++hVY1rZox/33YtvDgmKA2Frg/2qhkz12B9ylCvh8o=</td>\n",
       "      <td>4.054801e+05</td>\n",
       "    </tr>\n",
       "    <tr>\n",
       "      <th>2</th>\n",
       "      <td>+++l/EXNMLTijfLBa8p2TUVVVp2aFGSuUI/h7mLmthw=</td>\n",
       "      <td>3.674449e+06</td>\n",
       "    </tr>\n",
       "    <tr>\n",
       "      <th>3</th>\n",
       "      <td>+++snpr7pmobhLKUgSHTv/mpkqgBT0tQJ0zQj6qKrqc=</td>\n",
       "      <td>6.343519e+06</td>\n",
       "    </tr>\n",
       "    <tr>\n",
       "      <th>4</th>\n",
       "      <td>++/9R3sX37CjxbY/AaGvbwr3QkwElKBCtSvVzhCBDOk=</td>\n",
       "      <td>1.300895e+06</td>\n",
       "    </tr>\n",
       "    <tr>\n",
       "      <th>...</th>\n",
       "      <td>...</td>\n",
       "      <td>...</td>\n",
       "    </tr>\n",
       "    <tr>\n",
       "      <th>956322</th>\n",
       "      <td>zzy7iqSpfcRq7R4hmKKuhI+CJRs79a6pteqEggpiNO0=</td>\n",
       "      <td>9.182462e+05</td>\n",
       "    </tr>\n",
       "    <tr>\n",
       "      <th>956323</th>\n",
       "      <td>zzyHq6TK2+cBkeGFUHvh12Z7UxFZiSM7dOOSllSBPDw=</td>\n",
       "      <td>7.183248e+06</td>\n",
       "    </tr>\n",
       "    <tr>\n",
       "      <th>956324</th>\n",
       "      <td>zzz1Dc3P9s53HAowRTrm3fNsWju5yeN4YBfNDq7Z99Q=</td>\n",
       "      <td>6.359676e+05</td>\n",
       "    </tr>\n",
       "    <tr>\n",
       "      <th>956325</th>\n",
       "      <td>zzz4xr5LLzoxUqD6LfKiieCt8Or4dUWFQ0RA5gmkx8I=</td>\n",
       "      <td>7.636781e+05</td>\n",
       "    </tr>\n",
       "    <tr>\n",
       "      <th>956326</th>\n",
       "      <td>zzzN9thH22os1dRS0VHReY/8FTfGHOi86//d+wGGFsQ=</td>\n",
       "      <td>NaN</td>\n",
       "    </tr>\n",
       "  </tbody>\n",
       "</table>\n",
       "<p>956327 rows × 2 columns</p>\n",
       "</div>"
      ],
      "text/plain": [
       "                                                msno    total_secs\n",
       "0       +++IZseRRiQS9aaSkH6cMYU6bGDcxUieAi/tH67sC5s=  1.416846e+07\n",
       "1       +++hVY1rZox/33YtvDgmKA2Frg/2qhkz12B9ylCvh8o=  4.054801e+05\n",
       "2       +++l/EXNMLTijfLBa8p2TUVVVp2aFGSuUI/h7mLmthw=  3.674449e+06\n",
       "3       +++snpr7pmobhLKUgSHTv/mpkqgBT0tQJ0zQj6qKrqc=  6.343519e+06\n",
       "4       ++/9R3sX37CjxbY/AaGvbwr3QkwElKBCtSvVzhCBDOk=  1.300895e+06\n",
       "...                                              ...           ...\n",
       "956322  zzy7iqSpfcRq7R4hmKKuhI+CJRs79a6pteqEggpiNO0=  9.182462e+05\n",
       "956323  zzyHq6TK2+cBkeGFUHvh12Z7UxFZiSM7dOOSllSBPDw=  7.183248e+06\n",
       "956324  zzz1Dc3P9s53HAowRTrm3fNsWju5yeN4YBfNDq7Z99Q=  6.359676e+05\n",
       "956325  zzz4xr5LLzoxUqD6LfKiieCt8Or4dUWFQ0RA5gmkx8I=  7.636781e+05\n",
       "956326  zzzN9thH22os1dRS0VHReY/8FTfGHOi86//d+wGGFsQ=           NaN\n",
       "\n",
       "[956327 rows x 2 columns]"
      ]
     },
     "execution_count": 48,
     "metadata": {},
     "output_type": "execute_result"
    }
   ],
   "source": [
    "UL_train_total_sec_sum"
   ]
  },
  {
   "cell_type": "code",
   "execution_count": 49,
   "metadata": {},
   "outputs": [
    {
     "data": {
      "text/plain": [
       "array([14168455.608,   405480.077,  3674449.457, ...,   635967.599,\n",
       "         763678.106,          nan])"
      ]
     },
     "execution_count": 49,
     "metadata": {},
     "output_type": "execute_result"
    }
   ],
   "source": [
    "np.array(UL_train_total_sec_sum['total_secs'])"
   ]
  },
  {
   "cell_type": "code",
   "execution_count": 50,
   "metadata": {},
   "outputs": [],
   "source": [
    "np.save('UL_train_total_sec_sum',np.array(UL_train_total_sec_sum['total_secs']))"
   ]
  },
  {
   "cell_type": "markdown",
   "metadata": {},
   "source": [
    "### Load all the files"
   ]
  },
  {
   "cell_type": "code",
   "execution_count": 51,
   "metadata": {},
   "outputs": [],
   "source": [
    "import numpy as np\n",
    "\n",
    "UL_train_Num25_sum=np.load('UL_train_Num25_sum.npy')\n",
    "UL_train_Num50_sum=np.load('UL_train_Num50_sum.npy')\n",
    "UL_train_Num75_sum=np.load('UL_train_Num75_sum.npy')\n",
    "UL_train_Num985_sum=np.load('UL_train_Num985_sum.npy')\n",
    "UL_train_Num100_sum=np.load('UL_train_Num100_sum.npy')\n",
    "UL_train_Num100_count=np.load('UL_train_Num100_count.npy')\n",
    "UL_train_Num_unq_sum=np.load('UL_train_Num_unq_sum.npy')\n",
    "UL_train_total_sec_sum=np.load('UL_train_total_sec_sum.npy')"
   ]
  },
  {
   "cell_type": "code",
   "execution_count": 52,
   "metadata": {},
   "outputs": [
    {
     "data": {
      "text/plain": [
       "709.0"
      ]
     },
     "execution_count": 52,
     "metadata": {},
     "output_type": "execute_result"
    }
   ],
   "source": [
    "UL_train_Num25_sum[0]"
   ]
  },
  {
   "cell_type": "code",
   "execution_count": 53,
   "metadata": {},
   "outputs": [
    {
     "data": {
      "text/plain": [
       "582.0"
      ]
     },
     "execution_count": 53,
     "metadata": {},
     "output_type": "execute_result"
    }
   ],
   "source": [
    "UL_train_Num100_count[0]"
   ]
  },
  {
   "cell_type": "code",
   "execution_count": 54,
   "metadata": {},
   "outputs": [],
   "source": [
    "#calculate mean\n",
    "UL_train_Num25_mean=UL_train_Num25_sum/UL_train_Num100_count\n",
    "UL_train_Num50_mean=UL_train_Num50_sum/UL_train_Num100_count\n",
    "UL_train_Num75_mean=UL_train_Num75_sum/UL_train_Num100_count\n",
    "UL_train_Num985_mean=UL_train_Num985_sum/UL_train_Num100_count\n",
    "UL_train_Num100_mean=UL_train_Num100_sum/UL_train_Num100_count\n",
    "UL_train_Num_unq_mean=UL_train_Num_unq_sum/UL_train_Num100_count\n",
    "UL_train_total_sec_mean=UL_train_total_sec_sum/UL_train_Num100_count"
   ]
  },
  {
   "cell_type": "code",
   "execution_count": 55,
   "metadata": {},
   "outputs": [],
   "source": [
    "UL_all_months_train=np.vstack((UL_train_Num25_sum,UL_train_Num50_sum,UL_train_Num75_sum,UL_train_Num985_sum,UL_train_Num100_sum,UL_train_Num100_count,UL_train_Num_unq_sum,UL_train_total_sec_sum,UL_train_Num25_mean,UL_train_Num50_mean,UL_train_Num75_mean,UL_train_Num985_mean,UL_train_Num100_mean,UL_train_Num_unq_mean,UL_train_total_sec_mean))"
   ]
  },
  {
   "cell_type": "code",
   "execution_count": 56,
   "metadata": {},
   "outputs": [
    {
     "data": {
      "text/plain": [
       "(956327, 15)"
      ]
     },
     "execution_count": 56,
     "metadata": {},
     "output_type": "execute_result"
    }
   ],
   "source": [
    "UL_all_months_train.T.shape"
   ]
  },
  {
   "cell_type": "code",
   "execution_count": 57,
   "metadata": {},
   "outputs": [],
   "source": [
    "UL_all_months_train=UL_all_months_train.T"
   ]
  },
  {
   "cell_type": "code",
   "execution_count": 58,
   "metadata": {},
   "outputs": [
    {
     "data": {
      "text/plain": [
       "(956327, 15)"
      ]
     },
     "execution_count": 58,
     "metadata": {},
     "output_type": "execute_result"
    }
   ],
   "source": [
    "UL_all_months_train.shape"
   ]
  },
  {
   "cell_type": "code",
   "execution_count": 59,
   "metadata": {},
   "outputs": [],
   "source": [
    "np.save('UL_all_months_train',UL_all_months_train)"
   ]
  },
  {
   "cell_type": "markdown",
   "metadata": {},
   "source": [
    "## Last month:"
   ]
  },
  {
   "cell_type": "markdown",
   "metadata": {},
   "source": [
    "### Chunk 1:"
   ]
  },
  {
   "cell_type": "code",
   "execution_count": 3,
   "metadata": {},
   "outputs": [],
   "source": [
    "#There are 410 million rows in user_logs file, read only a part of it to fit in RAM.\n",
    "import pandas as pd\n",
    "\n",
    "user_logs=pd.read_csv('user_logs.csv',nrows=80000000)"
   ]
  },
  {
   "cell_type": "code",
   "execution_count": 4,
   "metadata": {},
   "outputs": [],
   "source": [
    "Train_UL=pd.merge(Train_msno, user_logs, on='msno', how='left')"
   ]
  },
  {
   "cell_type": "code",
   "execution_count": 5,
   "metadata": {},
   "outputs": [
    {
     "data": {
      "text/html": [
       "<div>\n",
       "<style scoped>\n",
       "    .dataframe tbody tr th:only-of-type {\n",
       "        vertical-align: middle;\n",
       "    }\n",
       "\n",
       "    .dataframe tbody tr th {\n",
       "        vertical-align: top;\n",
       "    }\n",
       "\n",
       "    .dataframe thead th {\n",
       "        text-align: right;\n",
       "    }\n",
       "</style>\n",
       "<table border=\"1\" class=\"dataframe\">\n",
       "  <thead>\n",
       "    <tr style=\"text-align: right;\">\n",
       "      <th></th>\n",
       "      <th>msno</th>\n",
       "      <th>Label</th>\n",
       "      <th>date</th>\n",
       "      <th>num_25</th>\n",
       "      <th>num_50</th>\n",
       "      <th>num_75</th>\n",
       "      <th>num_985</th>\n",
       "      <th>num_100</th>\n",
       "      <th>num_unq</th>\n",
       "      <th>total_secs</th>\n",
       "    </tr>\n",
       "  </thead>\n",
       "  <tbody>\n",
       "    <tr>\n",
       "      <th>0</th>\n",
       "      <td>+++IZseRRiQS9aaSkH6cMYU6bGDcxUieAi/tH67sC5s=</td>\n",
       "      <td>0</td>\n",
       "      <td>20150211.0</td>\n",
       "      <td>2.0</td>\n",
       "      <td>0.0</td>\n",
       "      <td>0.0</td>\n",
       "      <td>0.0</td>\n",
       "      <td>105.0</td>\n",
       "      <td>60.0</td>\n",
       "      <td>25033.939</td>\n",
       "    </tr>\n",
       "    <tr>\n",
       "      <th>1</th>\n",
       "      <td>+++IZseRRiQS9aaSkH6cMYU6bGDcxUieAi/tH67sC5s=</td>\n",
       "      <td>0</td>\n",
       "      <td>20150411.0</td>\n",
       "      <td>0.0</td>\n",
       "      <td>0.0</td>\n",
       "      <td>0.0</td>\n",
       "      <td>0.0</td>\n",
       "      <td>136.0</td>\n",
       "      <td>130.0</td>\n",
       "      <td>33367.720</td>\n",
       "    </tr>\n",
       "    <tr>\n",
       "      <th>2</th>\n",
       "      <td>+++IZseRRiQS9aaSkH6cMYU6bGDcxUieAi/tH67sC5s=</td>\n",
       "      <td>0</td>\n",
       "      <td>20150603.0</td>\n",
       "      <td>1.0</td>\n",
       "      <td>0.0</td>\n",
       "      <td>0.0</td>\n",
       "      <td>0.0</td>\n",
       "      <td>139.0</td>\n",
       "      <td>128.0</td>\n",
       "      <td>31683.920</td>\n",
       "    </tr>\n",
       "    <tr>\n",
       "      <th>3</th>\n",
       "      <td>+++IZseRRiQS9aaSkH6cMYU6bGDcxUieAi/tH67sC5s=</td>\n",
       "      <td>0</td>\n",
       "      <td>20150729.0</td>\n",
       "      <td>1.0</td>\n",
       "      <td>0.0</td>\n",
       "      <td>0.0</td>\n",
       "      <td>0.0</td>\n",
       "      <td>106.0</td>\n",
       "      <td>101.0</td>\n",
       "      <td>27200.851</td>\n",
       "    </tr>\n",
       "    <tr>\n",
       "      <th>4</th>\n",
       "      <td>+++IZseRRiQS9aaSkH6cMYU6bGDcxUieAi/tH67sC5s=</td>\n",
       "      <td>0</td>\n",
       "      <td>20150923.0</td>\n",
       "      <td>0.0</td>\n",
       "      <td>0.0</td>\n",
       "      <td>1.0</td>\n",
       "      <td>0.0</td>\n",
       "      <td>104.0</td>\n",
       "      <td>100.0</td>\n",
       "      <td>27332.639</td>\n",
       "    </tr>\n",
       "    <tr>\n",
       "      <th>...</th>\n",
       "      <td>...</td>\n",
       "      <td>...</td>\n",
       "      <td>...</td>\n",
       "      <td>...</td>\n",
       "      <td>...</td>\n",
       "      <td>...</td>\n",
       "      <td>...</td>\n",
       "      <td>...</td>\n",
       "      <td>...</td>\n",
       "      <td>...</td>\n",
       "    </tr>\n",
       "    <tr>\n",
       "      <th>49602735</th>\n",
       "      <td>zzz4xr5LLzoxUqD6LfKiieCt8Or4dUWFQ0RA5gmkx8I=</td>\n",
       "      <td>1</td>\n",
       "      <td>20150621.0</td>\n",
       "      <td>3.0</td>\n",
       "      <td>0.0</td>\n",
       "      <td>0.0</td>\n",
       "      <td>1.0</td>\n",
       "      <td>10.0</td>\n",
       "      <td>13.0</td>\n",
       "      <td>2929.059</td>\n",
       "    </tr>\n",
       "    <tr>\n",
       "      <th>49602736</th>\n",
       "      <td>zzz4xr5LLzoxUqD6LfKiieCt8Or4dUWFQ0RA5gmkx8I=</td>\n",
       "      <td>1</td>\n",
       "      <td>20160208.0</td>\n",
       "      <td>70.0</td>\n",
       "      <td>3.0</td>\n",
       "      <td>1.0</td>\n",
       "      <td>4.0</td>\n",
       "      <td>25.0</td>\n",
       "      <td>92.0</td>\n",
       "      <td>8820.611</td>\n",
       "    </tr>\n",
       "    <tr>\n",
       "      <th>49602737</th>\n",
       "      <td>zzz4xr5LLzoxUqD6LfKiieCt8Or4dUWFQ0RA5gmkx8I=</td>\n",
       "      <td>1</td>\n",
       "      <td>20160813.0</td>\n",
       "      <td>3.0</td>\n",
       "      <td>0.0</td>\n",
       "      <td>0.0</td>\n",
       "      <td>0.0</td>\n",
       "      <td>0.0</td>\n",
       "      <td>3.0</td>\n",
       "      <td>263.889</td>\n",
       "    </tr>\n",
       "    <tr>\n",
       "      <th>49602738</th>\n",
       "      <td>zzz4xr5LLzoxUqD6LfKiieCt8Or4dUWFQ0RA5gmkx8I=</td>\n",
       "      <td>1</td>\n",
       "      <td>20161207.0</td>\n",
       "      <td>2.0</td>\n",
       "      <td>0.0</td>\n",
       "      <td>0.0</td>\n",
       "      <td>1.0</td>\n",
       "      <td>19.0</td>\n",
       "      <td>22.0</td>\n",
       "      <td>5580.843</td>\n",
       "    </tr>\n",
       "    <tr>\n",
       "      <th>49602739</th>\n",
       "      <td>zzzN9thH22os1dRS0VHReY/8FTfGHOi86//d+wGGFsQ=</td>\n",
       "      <td>1</td>\n",
       "      <td>NaN</td>\n",
       "      <td>NaN</td>\n",
       "      <td>NaN</td>\n",
       "      <td>NaN</td>\n",
       "      <td>NaN</td>\n",
       "      <td>NaN</td>\n",
       "      <td>NaN</td>\n",
       "      <td>NaN</td>\n",
       "    </tr>\n",
       "  </tbody>\n",
       "</table>\n",
       "<p>49602740 rows × 10 columns</p>\n",
       "</div>"
      ],
      "text/plain": [
       "                                                  msno Label        date  \\\n",
       "0         +++IZseRRiQS9aaSkH6cMYU6bGDcxUieAi/tH67sC5s=     0  20150211.0   \n",
       "1         +++IZseRRiQS9aaSkH6cMYU6bGDcxUieAi/tH67sC5s=     0  20150411.0   \n",
       "2         +++IZseRRiQS9aaSkH6cMYU6bGDcxUieAi/tH67sC5s=     0  20150603.0   \n",
       "3         +++IZseRRiQS9aaSkH6cMYU6bGDcxUieAi/tH67sC5s=     0  20150729.0   \n",
       "4         +++IZseRRiQS9aaSkH6cMYU6bGDcxUieAi/tH67sC5s=     0  20150923.0   \n",
       "...                                                ...   ...         ...   \n",
       "49602735  zzz4xr5LLzoxUqD6LfKiieCt8Or4dUWFQ0RA5gmkx8I=     1  20150621.0   \n",
       "49602736  zzz4xr5LLzoxUqD6LfKiieCt8Or4dUWFQ0RA5gmkx8I=     1  20160208.0   \n",
       "49602737  zzz4xr5LLzoxUqD6LfKiieCt8Or4dUWFQ0RA5gmkx8I=     1  20160813.0   \n",
       "49602738  zzz4xr5LLzoxUqD6LfKiieCt8Or4dUWFQ0RA5gmkx8I=     1  20161207.0   \n",
       "49602739  zzzN9thH22os1dRS0VHReY/8FTfGHOi86//d+wGGFsQ=     1         NaN   \n",
       "\n",
       "          num_25  num_50  num_75  num_985  num_100  num_unq  total_secs  \n",
       "0            2.0     0.0     0.0      0.0    105.0     60.0   25033.939  \n",
       "1            0.0     0.0     0.0      0.0    136.0    130.0   33367.720  \n",
       "2            1.0     0.0     0.0      0.0    139.0    128.0   31683.920  \n",
       "3            1.0     0.0     0.0      0.0    106.0    101.0   27200.851  \n",
       "4            0.0     0.0     1.0      0.0    104.0    100.0   27332.639  \n",
       "...          ...     ...     ...      ...      ...      ...         ...  \n",
       "49602735     3.0     0.0     0.0      1.0     10.0     13.0    2929.059  \n",
       "49602736    70.0     3.0     1.0      4.0     25.0     92.0    8820.611  \n",
       "49602737     3.0     0.0     0.0      0.0      0.0      3.0     263.889  \n",
       "49602738     2.0     0.0     0.0      1.0     19.0     22.0    5580.843  \n",
       "49602739     NaN     NaN     NaN      NaN      NaN      NaN         NaN  \n",
       "\n",
       "[49602740 rows x 10 columns]"
      ]
     },
     "execution_count": 5,
     "metadata": {},
     "output_type": "execute_result"
    }
   ],
   "source": [
    "Train_UL"
   ]
  },
  {
   "cell_type": "code",
   "execution_count": 9,
   "metadata": {},
   "outputs": [],
   "source": [
    "#left join preserves order of msno. so don't need to sort"
   ]
  },
  {
   "cell_type": "markdown",
   "metadata": {},
   "source": [
    "### Select User Logs in December:"
   ]
  },
  {
   "cell_type": "code",
   "execution_count": 6,
   "metadata": {},
   "outputs": [],
   "source": [
    "#https://stackoverflow.com/questions/38884466/how-to-select-a-range-of-values-in-a-pandas-dataframe-column\n",
    "#select december dates\n",
    "Train_UL=Train_UL[Train_UL['date'].between(20161201, 20161231)]"
   ]
  },
  {
   "cell_type": "code",
   "execution_count": 7,
   "metadata": {},
   "outputs": [
    {
     "data": {
      "text/html": [
       "<div>\n",
       "<style scoped>\n",
       "    .dataframe tbody tr th:only-of-type {\n",
       "        vertical-align: middle;\n",
       "    }\n",
       "\n",
       "    .dataframe tbody tr th {\n",
       "        vertical-align: top;\n",
       "    }\n",
       "\n",
       "    .dataframe thead th {\n",
       "        text-align: right;\n",
       "    }\n",
       "</style>\n",
       "<table border=\"1\" class=\"dataframe\">\n",
       "  <thead>\n",
       "    <tr style=\"text-align: right;\">\n",
       "      <th></th>\n",
       "      <th>msno</th>\n",
       "      <th>Label</th>\n",
       "      <th>date</th>\n",
       "      <th>num_25</th>\n",
       "      <th>num_50</th>\n",
       "      <th>num_75</th>\n",
       "      <th>num_985</th>\n",
       "      <th>num_100</th>\n",
       "      <th>num_unq</th>\n",
       "      <th>total_secs</th>\n",
       "    </tr>\n",
       "  </thead>\n",
       "  <tbody>\n",
       "    <tr>\n",
       "      <th>11</th>\n",
       "      <td>+++IZseRRiQS9aaSkH6cMYU6bGDcxUieAi/tH67sC5s=</td>\n",
       "      <td>0</td>\n",
       "      <td>20161224.0</td>\n",
       "      <td>2.0</td>\n",
       "      <td>0.0</td>\n",
       "      <td>1.0</td>\n",
       "      <td>0.0</td>\n",
       "      <td>25.0</td>\n",
       "      <td>28.0</td>\n",
       "      <td>5773.013</td>\n",
       "    </tr>\n",
       "    <tr>\n",
       "      <th>23</th>\n",
       "      <td>+++IZseRRiQS9aaSkH6cMYU6bGDcxUieAi/tH67sC5s=</td>\n",
       "      <td>0</td>\n",
       "      <td>20161225.0</td>\n",
       "      <td>0.0</td>\n",
       "      <td>0.0</td>\n",
       "      <td>0.0</td>\n",
       "      <td>0.0</td>\n",
       "      <td>125.0</td>\n",
       "      <td>125.0</td>\n",
       "      <td>29907.168</td>\n",
       "    </tr>\n",
       "    <tr>\n",
       "      <th>35</th>\n",
       "      <td>+++IZseRRiQS9aaSkH6cMYU6bGDcxUieAi/tH67sC5s=</td>\n",
       "      <td>0</td>\n",
       "      <td>20161226.0</td>\n",
       "      <td>1.0</td>\n",
       "      <td>0.0</td>\n",
       "      <td>0.0</td>\n",
       "      <td>0.0</td>\n",
       "      <td>142.0</td>\n",
       "      <td>140.0</td>\n",
       "      <td>34851.820</td>\n",
       "    </tr>\n",
       "    <tr>\n",
       "      <th>47</th>\n",
       "      <td>+++IZseRRiQS9aaSkH6cMYU6bGDcxUieAi/tH67sC5s=</td>\n",
       "      <td>0</td>\n",
       "      <td>20161227.0</td>\n",
       "      <td>0.0</td>\n",
       "      <td>0.0</td>\n",
       "      <td>0.0</td>\n",
       "      <td>0.0</td>\n",
       "      <td>142.0</td>\n",
       "      <td>138.0</td>\n",
       "      <td>34282.619</td>\n",
       "    </tr>\n",
       "    <tr>\n",
       "      <th>59</th>\n",
       "      <td>+++IZseRRiQS9aaSkH6cMYU6bGDcxUieAi/tH67sC5s=</td>\n",
       "      <td>0</td>\n",
       "      <td>20161228.0</td>\n",
       "      <td>0.0</td>\n",
       "      <td>0.0</td>\n",
       "      <td>1.0</td>\n",
       "      <td>0.0</td>\n",
       "      <td>130.0</td>\n",
       "      <td>129.0</td>\n",
       "      <td>31645.196</td>\n",
       "    </tr>\n",
       "    <tr>\n",
       "      <th>...</th>\n",
       "      <td>...</td>\n",
       "      <td>...</td>\n",
       "      <td>...</td>\n",
       "      <td>...</td>\n",
       "      <td>...</td>\n",
       "      <td>...</td>\n",
       "      <td>...</td>\n",
       "      <td>...</td>\n",
       "      <td>...</td>\n",
       "      <td>...</td>\n",
       "    </tr>\n",
       "    <tr>\n",
       "      <th>49602722</th>\n",
       "      <td>zzz4xr5LLzoxUqD6LfKiieCt8Or4dUWFQ0RA5gmkx8I=</td>\n",
       "      <td>1</td>\n",
       "      <td>20161202.0</td>\n",
       "      <td>1.0</td>\n",
       "      <td>0.0</td>\n",
       "      <td>0.0</td>\n",
       "      <td>1.0</td>\n",
       "      <td>8.0</td>\n",
       "      <td>8.0</td>\n",
       "      <td>3074.165</td>\n",
       "    </tr>\n",
       "    <tr>\n",
       "      <th>49602726</th>\n",
       "      <td>zzz4xr5LLzoxUqD6LfKiieCt8Or4dUWFQ0RA5gmkx8I=</td>\n",
       "      <td>1</td>\n",
       "      <td>20161204.0</td>\n",
       "      <td>3.0</td>\n",
       "      <td>1.0</td>\n",
       "      <td>2.0</td>\n",
       "      <td>2.0</td>\n",
       "      <td>17.0</td>\n",
       "      <td>25.0</td>\n",
       "      <td>5272.919</td>\n",
       "    </tr>\n",
       "    <tr>\n",
       "      <th>49602730</th>\n",
       "      <td>zzz4xr5LLzoxUqD6LfKiieCt8Or4dUWFQ0RA5gmkx8I=</td>\n",
       "      <td>1</td>\n",
       "      <td>20161205.0</td>\n",
       "      <td>0.0</td>\n",
       "      <td>1.0</td>\n",
       "      <td>0.0</td>\n",
       "      <td>0.0</td>\n",
       "      <td>8.0</td>\n",
       "      <td>8.0</td>\n",
       "      <td>4568.631</td>\n",
       "    </tr>\n",
       "    <tr>\n",
       "      <th>49602734</th>\n",
       "      <td>zzz4xr5LLzoxUqD6LfKiieCt8Or4dUWFQ0RA5gmkx8I=</td>\n",
       "      <td>1</td>\n",
       "      <td>20161206.0</td>\n",
       "      <td>1.0</td>\n",
       "      <td>0.0</td>\n",
       "      <td>0.0</td>\n",
       "      <td>0.0</td>\n",
       "      <td>3.0</td>\n",
       "      <td>3.0</td>\n",
       "      <td>1540.965</td>\n",
       "    </tr>\n",
       "    <tr>\n",
       "      <th>49602738</th>\n",
       "      <td>zzz4xr5LLzoxUqD6LfKiieCt8Or4dUWFQ0RA5gmkx8I=</td>\n",
       "      <td>1</td>\n",
       "      <td>20161207.0</td>\n",
       "      <td>2.0</td>\n",
       "      <td>0.0</td>\n",
       "      <td>0.0</td>\n",
       "      <td>1.0</td>\n",
       "      <td>19.0</td>\n",
       "      <td>22.0</td>\n",
       "      <td>5580.843</td>\n",
       "    </tr>\n",
       "  </tbody>\n",
       "</table>\n",
       "<p>2732381 rows × 10 columns</p>\n",
       "</div>"
      ],
      "text/plain": [
       "                                                  msno Label        date  \\\n",
       "11        +++IZseRRiQS9aaSkH6cMYU6bGDcxUieAi/tH67sC5s=     0  20161224.0   \n",
       "23        +++IZseRRiQS9aaSkH6cMYU6bGDcxUieAi/tH67sC5s=     0  20161225.0   \n",
       "35        +++IZseRRiQS9aaSkH6cMYU6bGDcxUieAi/tH67sC5s=     0  20161226.0   \n",
       "47        +++IZseRRiQS9aaSkH6cMYU6bGDcxUieAi/tH67sC5s=     0  20161227.0   \n",
       "59        +++IZseRRiQS9aaSkH6cMYU6bGDcxUieAi/tH67sC5s=     0  20161228.0   \n",
       "...                                                ...   ...         ...   \n",
       "49602722  zzz4xr5LLzoxUqD6LfKiieCt8Or4dUWFQ0RA5gmkx8I=     1  20161202.0   \n",
       "49602726  zzz4xr5LLzoxUqD6LfKiieCt8Or4dUWFQ0RA5gmkx8I=     1  20161204.0   \n",
       "49602730  zzz4xr5LLzoxUqD6LfKiieCt8Or4dUWFQ0RA5gmkx8I=     1  20161205.0   \n",
       "49602734  zzz4xr5LLzoxUqD6LfKiieCt8Or4dUWFQ0RA5gmkx8I=     1  20161206.0   \n",
       "49602738  zzz4xr5LLzoxUqD6LfKiieCt8Or4dUWFQ0RA5gmkx8I=     1  20161207.0   \n",
       "\n",
       "          num_25  num_50  num_75  num_985  num_100  num_unq  total_secs  \n",
       "11           2.0     0.0     1.0      0.0     25.0     28.0    5773.013  \n",
       "23           0.0     0.0     0.0      0.0    125.0    125.0   29907.168  \n",
       "35           1.0     0.0     0.0      0.0    142.0    140.0   34851.820  \n",
       "47           0.0     0.0     0.0      0.0    142.0    138.0   34282.619  \n",
       "59           0.0     0.0     1.0      0.0    130.0    129.0   31645.196  \n",
       "...          ...     ...     ...      ...      ...      ...         ...  \n",
       "49602722     1.0     0.0     0.0      1.0      8.0      8.0    3074.165  \n",
       "49602726     3.0     1.0     2.0      2.0     17.0     25.0    5272.919  \n",
       "49602730     0.0     1.0     0.0      0.0      8.0      8.0    4568.631  \n",
       "49602734     1.0     0.0     0.0      0.0      3.0      3.0    1540.965  \n",
       "49602738     2.0     0.0     0.0      1.0     19.0     22.0    5580.843  \n",
       "\n",
       "[2732381 rows x 10 columns]"
      ]
     },
     "execution_count": 7,
     "metadata": {},
     "output_type": "execute_result"
    }
   ],
   "source": [
    "Train_UL"
   ]
  },
  {
   "cell_type": "markdown",
   "metadata": {},
   "source": [
    "### Sum features:"
   ]
  },
  {
   "cell_type": "code",
   "execution_count": 8,
   "metadata": {},
   "outputs": [],
   "source": [
    "user_logs_num25_sum=Train_UL.groupby(['msno'])['num_25'].sum()\n",
    "user_logs_num50_sum=Train_UL.groupby(['msno'])['num_50'].sum()\n",
    "user_logs_num75_sum=Train_UL.groupby(['msno'])['num_75'].sum()\n",
    "user_logs_num985_sum=Train_UL.groupby(['msno'])['num_985'].sum()\n",
    "user_logs_num100_sum=Train_UL.groupby(['msno'])['num_100'].sum()\n",
    "user_logs_num_unq_sum=Train_UL.groupby(['msno'])['num_unq'].sum()\n",
    "user_logs_total_sec_sum=Train_UL.groupby(['msno'])['total_secs'].sum()"
   ]
  },
  {
   "cell_type": "code",
   "execution_count": 9,
   "metadata": {},
   "outputs": [],
   "source": [
    "user_logs_num25_sum.to_csv('mon_user_logs_num25_sum.csv') #mon=last_month\n",
    "user_logs_num50_sum.to_csv('mon_user_logs_num50_sum.csv')\n",
    "user_logs_num75_sum.to_csv('mon_user_logs_num75_sum.csv')\n",
    "user_logs_num985_sum.to_csv('mon_user_logs_num985_sum.csv')\n",
    "user_logs_num100_sum.to_csv('mon_user_logs_num100_sum.csv')\n",
    "user_logs_num_unq_sum.to_csv('mon_user_logs_num_unq_sum.csv')\n",
    "user_logs_total_sec_sum.to_csv('mon_user_logs_total_sec_sum.csv')"
   ]
  },
  {
   "cell_type": "markdown",
   "metadata": {},
   "source": [
    "### Count feature:"
   ]
  },
  {
   "cell_type": "code",
   "execution_count": 10,
   "metadata": {},
   "outputs": [],
   "source": [
    "#count feature\n",
    "user_logs_num100_mean=Train_UL.groupby(['msno'])['num_100'].count()"
   ]
  },
  {
   "cell_type": "code",
   "execution_count": 11,
   "metadata": {},
   "outputs": [],
   "source": [
    "user_logs_num100_mean.to_csv('mon_user_logs_num100_mean.csv')"
   ]
  },
  {
   "cell_type": "markdown",
   "metadata": {},
   "source": [
    "### Standard deviation Feature:"
   ]
  },
  {
   "cell_type": "code",
   "execution_count": 13,
   "metadata": {},
   "outputs": [],
   "source": [
    "user_logs_num25_std=Train_UL.groupby(['msno'])['num_25'].std()\n",
    "user_logs_num50_std=Train_UL.groupby(['msno'])['num_50'].std()\n",
    "user_logs_num75_std=Train_UL.groupby(['msno'])['num_75'].std()\n",
    "user_logs_num985_std=Train_UL.groupby(['msno'])['num_985'].std()\n",
    "user_logs_num100_std=Train_UL.groupby(['msno'])['num_100'].std()\n",
    "user_logs_num_unq_std=Train_UL.groupby(['msno'])['num_unq'].std()\n",
    "user_logs_total_sec_std=Train_UL.groupby(['msno'])['total_secs'].std()"
   ]
  },
  {
   "cell_type": "code",
   "execution_count": 14,
   "metadata": {},
   "outputs": [],
   "source": [
    "user_logs_num25_std.to_csv('mon_user_logs_num25_std.csv') #mon=last_month\n",
    "user_logs_num50_std.to_csv('mon_user_logs_num50_std.csv')\n",
    "user_logs_num75_std.to_csv('mon_user_logs_num75_std.csv')\n",
    "user_logs_num985_std.to_csv('mon_user_logs_num985_std.csv')\n",
    "user_logs_num100_std.to_csv('mon_user_logs_num100_std.csv')\n",
    "user_logs_num_unq_std.to_csv('mon_user_logs_num_unq_std.csv')\n",
    "user_logs_total_sec_std.to_csv('mon_user_logs_total_sec_std.csv')"
   ]
  },
  {
   "cell_type": "code",
   "execution_count": 15,
   "metadata": {},
   "outputs": [
    {
     "data": {
      "text/plain": [
       "msno\n",
       "+++IZseRRiQS9aaSkH6cMYU6bGDcxUieAi/tH67sC5s=      3.0\n",
       "+++hVY1rZox/33YtvDgmKA2Frg/2qhkz12B9ylCvh8o=     58.0\n",
       "+++l/EXNMLTijfLBa8p2TUVVVp2aFGSuUI/h7mLmthw=     15.0\n",
       "+++snpr7pmobhLKUgSHTv/mpkqgBT0tQJ0zQj6qKrqc=     16.0\n",
       "++/9R3sX37CjxbY/AaGvbwr3QkwElKBCtSvVzhCBDOk=     36.0\n",
       "                                                ...  \n",
       "zzxqpgPX1epGyR3SVRKb3XitWdt+JqDURxV5ea1D7Cg=     62.0\n",
       "zzy7iqSpfcRq7R4hmKKuhI+CJRs79a6pteqEggpiNO0=    167.0\n",
       "zzyHq6TK2+cBkeGFUHvh12Z7UxFZiSM7dOOSllSBPDw=     27.0\n",
       "zzz1Dc3P9s53HAowRTrm3fNsWju5yeN4YBfNDq7Z99Q=      4.0\n",
       "zzz4xr5LLzoxUqD6LfKiieCt8Or4dUWFQ0RA5gmkx8I=      8.0\n",
       "Name: num_25, Length: 406402, dtype: float64"
      ]
     },
     "execution_count": 15,
     "metadata": {},
     "output_type": "execute_result"
    }
   ],
   "source": [
    "user_logs_num25_sum #only 422042 users info are there in this chunk"
   ]
  },
  {
   "cell_type": "code",
   "execution_count": 16,
   "metadata": {},
   "outputs": [
    {
     "data": {
      "text/plain": [
       "3.0"
      ]
     },
     "execution_count": 16,
     "metadata": {},
     "output_type": "execute_result"
    }
   ],
   "source": [
    "user_logs_num25_sum['+++IZseRRiQS9aaSkH6cMYU6bGDcxUieAi/tH67sC5s=']\n"
   ]
  },
  {
   "cell_type": "code",
   "execution_count": null,
   "metadata": {},
   "outputs": [],
   "source": [
    "#repeat for remaining chunks"
   ]
  },
  {
   "cell_type": "markdown",
   "metadata": {},
   "source": [
    "## Last 15 days:"
   ]
  },
  {
   "cell_type": "code",
   "execution_count": 73,
   "metadata": {},
   "outputs": [
    {
     "data": {
      "text/plain": [
       "15.416700000059791"
      ]
     },
     "execution_count": 73,
     "metadata": {},
     "output_type": "execute_result"
    }
   ],
   "source": [
    "2017*365+2*30.4167+12-(2017*365+1*30.4167+27)"
   ]
  },
  {
   "cell_type": "markdown",
   "metadata": {},
   "source": [
    "### Chunk 1:"
   ]
  },
  {
   "cell_type": "code",
   "execution_count": 4,
   "metadata": {},
   "outputs": [],
   "source": [
    "#There are 410 million rows in user_logs file, read only a part of it to fit in RAM.\n",
    "import pandas as pd\n",
    "\n",
    "user_logs=pd.read_csv('Case_study_2/user_logs.csv',nrows=80000000)"
   ]
  },
  {
   "cell_type": "code",
   "execution_count": 5,
   "metadata": {},
   "outputs": [],
   "source": [
    "Train_UL=pd.merge(Train_msno, user_logs, on='msno', how='left')"
   ]
  },
  {
   "cell_type": "code",
   "execution_count": 7,
   "metadata": {},
   "outputs": [],
   "source": [
    "#keeping NaN is important for sum and mean calculation. Sum, avg and std skips NaN values."
   ]
  },
  {
   "cell_type": "code",
   "execution_count": 6,
   "metadata": {},
   "outputs": [
    {
     "data": {
      "text/html": [
       "<div>\n",
       "<style scoped>\n",
       "    .dataframe tbody tr th:only-of-type {\n",
       "        vertical-align: middle;\n",
       "    }\n",
       "\n",
       "    .dataframe tbody tr th {\n",
       "        vertical-align: top;\n",
       "    }\n",
       "\n",
       "    .dataframe thead th {\n",
       "        text-align: right;\n",
       "    }\n",
       "</style>\n",
       "<table border=\"1\" class=\"dataframe\">\n",
       "  <thead>\n",
       "    <tr style=\"text-align: right;\">\n",
       "      <th></th>\n",
       "      <th>msno</th>\n",
       "      <th>Label</th>\n",
       "      <th>date</th>\n",
       "      <th>num_25</th>\n",
       "      <th>num_50</th>\n",
       "      <th>num_75</th>\n",
       "      <th>num_985</th>\n",
       "      <th>num_100</th>\n",
       "      <th>num_unq</th>\n",
       "      <th>total_secs</th>\n",
       "    </tr>\n",
       "  </thead>\n",
       "  <tbody>\n",
       "    <tr>\n",
       "      <th>0</th>\n",
       "      <td>+++IZseRRiQS9aaSkH6cMYU6bGDcxUieAi/tH67sC5s=</td>\n",
       "      <td>0</td>\n",
       "      <td>20150211.0</td>\n",
       "      <td>2.0</td>\n",
       "      <td>0.0</td>\n",
       "      <td>0.0</td>\n",
       "      <td>0.0</td>\n",
       "      <td>105.0</td>\n",
       "      <td>60.0</td>\n",
       "      <td>25033.939</td>\n",
       "    </tr>\n",
       "    <tr>\n",
       "      <th>1</th>\n",
       "      <td>+++IZseRRiQS9aaSkH6cMYU6bGDcxUieAi/tH67sC5s=</td>\n",
       "      <td>0</td>\n",
       "      <td>20150411.0</td>\n",
       "      <td>0.0</td>\n",
       "      <td>0.0</td>\n",
       "      <td>0.0</td>\n",
       "      <td>0.0</td>\n",
       "      <td>136.0</td>\n",
       "      <td>130.0</td>\n",
       "      <td>33367.720</td>\n",
       "    </tr>\n",
       "    <tr>\n",
       "      <th>2</th>\n",
       "      <td>+++IZseRRiQS9aaSkH6cMYU6bGDcxUieAi/tH67sC5s=</td>\n",
       "      <td>0</td>\n",
       "      <td>20150603.0</td>\n",
       "      <td>1.0</td>\n",
       "      <td>0.0</td>\n",
       "      <td>0.0</td>\n",
       "      <td>0.0</td>\n",
       "      <td>139.0</td>\n",
       "      <td>128.0</td>\n",
       "      <td>31683.920</td>\n",
       "    </tr>\n",
       "    <tr>\n",
       "      <th>3</th>\n",
       "      <td>+++IZseRRiQS9aaSkH6cMYU6bGDcxUieAi/tH67sC5s=</td>\n",
       "      <td>0</td>\n",
       "      <td>20150729.0</td>\n",
       "      <td>1.0</td>\n",
       "      <td>0.0</td>\n",
       "      <td>0.0</td>\n",
       "      <td>0.0</td>\n",
       "      <td>106.0</td>\n",
       "      <td>101.0</td>\n",
       "      <td>27200.851</td>\n",
       "    </tr>\n",
       "    <tr>\n",
       "      <th>4</th>\n",
       "      <td>+++IZseRRiQS9aaSkH6cMYU6bGDcxUieAi/tH67sC5s=</td>\n",
       "      <td>0</td>\n",
       "      <td>20150923.0</td>\n",
       "      <td>0.0</td>\n",
       "      <td>0.0</td>\n",
       "      <td>1.0</td>\n",
       "      <td>0.0</td>\n",
       "      <td>104.0</td>\n",
       "      <td>100.0</td>\n",
       "      <td>27332.639</td>\n",
       "    </tr>\n",
       "    <tr>\n",
       "      <th>...</th>\n",
       "      <td>...</td>\n",
       "      <td>...</td>\n",
       "      <td>...</td>\n",
       "      <td>...</td>\n",
       "      <td>...</td>\n",
       "      <td>...</td>\n",
       "      <td>...</td>\n",
       "      <td>...</td>\n",
       "      <td>...</td>\n",
       "      <td>...</td>\n",
       "    </tr>\n",
       "    <tr>\n",
       "      <th>49602735</th>\n",
       "      <td>zzz4xr5LLzoxUqD6LfKiieCt8Or4dUWFQ0RA5gmkx8I=</td>\n",
       "      <td>1</td>\n",
       "      <td>20150621.0</td>\n",
       "      <td>3.0</td>\n",
       "      <td>0.0</td>\n",
       "      <td>0.0</td>\n",
       "      <td>1.0</td>\n",
       "      <td>10.0</td>\n",
       "      <td>13.0</td>\n",
       "      <td>2929.059</td>\n",
       "    </tr>\n",
       "    <tr>\n",
       "      <th>49602736</th>\n",
       "      <td>zzz4xr5LLzoxUqD6LfKiieCt8Or4dUWFQ0RA5gmkx8I=</td>\n",
       "      <td>1</td>\n",
       "      <td>20160208.0</td>\n",
       "      <td>70.0</td>\n",
       "      <td>3.0</td>\n",
       "      <td>1.0</td>\n",
       "      <td>4.0</td>\n",
       "      <td>25.0</td>\n",
       "      <td>92.0</td>\n",
       "      <td>8820.611</td>\n",
       "    </tr>\n",
       "    <tr>\n",
       "      <th>49602737</th>\n",
       "      <td>zzz4xr5LLzoxUqD6LfKiieCt8Or4dUWFQ0RA5gmkx8I=</td>\n",
       "      <td>1</td>\n",
       "      <td>20160813.0</td>\n",
       "      <td>3.0</td>\n",
       "      <td>0.0</td>\n",
       "      <td>0.0</td>\n",
       "      <td>0.0</td>\n",
       "      <td>0.0</td>\n",
       "      <td>3.0</td>\n",
       "      <td>263.889</td>\n",
       "    </tr>\n",
       "    <tr>\n",
       "      <th>49602738</th>\n",
       "      <td>zzz4xr5LLzoxUqD6LfKiieCt8Or4dUWFQ0RA5gmkx8I=</td>\n",
       "      <td>1</td>\n",
       "      <td>20161207.0</td>\n",
       "      <td>2.0</td>\n",
       "      <td>0.0</td>\n",
       "      <td>0.0</td>\n",
       "      <td>1.0</td>\n",
       "      <td>19.0</td>\n",
       "      <td>22.0</td>\n",
       "      <td>5580.843</td>\n",
       "    </tr>\n",
       "    <tr>\n",
       "      <th>49602739</th>\n",
       "      <td>zzzN9thH22os1dRS0VHReY/8FTfGHOi86//d+wGGFsQ=</td>\n",
       "      <td>1</td>\n",
       "      <td>NaN</td>\n",
       "      <td>NaN</td>\n",
       "      <td>NaN</td>\n",
       "      <td>NaN</td>\n",
       "      <td>NaN</td>\n",
       "      <td>NaN</td>\n",
       "      <td>NaN</td>\n",
       "      <td>NaN</td>\n",
       "    </tr>\n",
       "  </tbody>\n",
       "</table>\n",
       "<p>49602740 rows × 10 columns</p>\n",
       "</div>"
      ],
      "text/plain": [
       "                                                  msno Label        date  \\\n",
       "0         +++IZseRRiQS9aaSkH6cMYU6bGDcxUieAi/tH67sC5s=     0  20150211.0   \n",
       "1         +++IZseRRiQS9aaSkH6cMYU6bGDcxUieAi/tH67sC5s=     0  20150411.0   \n",
       "2         +++IZseRRiQS9aaSkH6cMYU6bGDcxUieAi/tH67sC5s=     0  20150603.0   \n",
       "3         +++IZseRRiQS9aaSkH6cMYU6bGDcxUieAi/tH67sC5s=     0  20150729.0   \n",
       "4         +++IZseRRiQS9aaSkH6cMYU6bGDcxUieAi/tH67sC5s=     0  20150923.0   \n",
       "...                                                ...   ...         ...   \n",
       "49602735  zzz4xr5LLzoxUqD6LfKiieCt8Or4dUWFQ0RA5gmkx8I=     1  20150621.0   \n",
       "49602736  zzz4xr5LLzoxUqD6LfKiieCt8Or4dUWFQ0RA5gmkx8I=     1  20160208.0   \n",
       "49602737  zzz4xr5LLzoxUqD6LfKiieCt8Or4dUWFQ0RA5gmkx8I=     1  20160813.0   \n",
       "49602738  zzz4xr5LLzoxUqD6LfKiieCt8Or4dUWFQ0RA5gmkx8I=     1  20161207.0   \n",
       "49602739  zzzN9thH22os1dRS0VHReY/8FTfGHOi86//d+wGGFsQ=     1         NaN   \n",
       "\n",
       "          num_25  num_50  num_75  num_985  num_100  num_unq  total_secs  \n",
       "0            2.0     0.0     0.0      0.0    105.0     60.0   25033.939  \n",
       "1            0.0     0.0     0.0      0.0    136.0    130.0   33367.720  \n",
       "2            1.0     0.0     0.0      0.0    139.0    128.0   31683.920  \n",
       "3            1.0     0.0     0.0      0.0    106.0    101.0   27200.851  \n",
       "4            0.0     0.0     1.0      0.0    104.0    100.0   27332.639  \n",
       "...          ...     ...     ...      ...      ...      ...         ...  \n",
       "49602735     3.0     0.0     0.0      1.0     10.0     13.0    2929.059  \n",
       "49602736    70.0     3.0     1.0      4.0     25.0     92.0    8820.611  \n",
       "49602737     3.0     0.0     0.0      0.0      0.0      3.0     263.889  \n",
       "49602738     2.0     0.0     0.0      1.0     19.0     22.0    5580.843  \n",
       "49602739     NaN     NaN     NaN      NaN      NaN      NaN         NaN  \n",
       "\n",
       "[49602740 rows x 10 columns]"
      ]
     },
     "execution_count": 6,
     "metadata": {},
     "output_type": "execute_result"
    }
   ],
   "source": [
    "Train_UL"
   ]
  },
  {
   "cell_type": "code",
   "execution_count": 9,
   "metadata": {},
   "outputs": [],
   "source": [
    "#left join preserves order of msno. so don't need to sort"
   ]
  },
  {
   "cell_type": "markdown",
   "metadata": {},
   "source": [
    "### Select user logs last half month december:"
   ]
  },
  {
   "cell_type": "code",
   "execution_count": 9,
   "metadata": {},
   "outputs": [],
   "source": [
    "#https://stackoverflow.com/questions/38884466/how-to-select-a-range-of-values-in-a-pandas-dataframe-column\n",
    "#select january and december dates\n",
    "Train_UL=Train_UL[Train_UL['date'].between(20161216, 20161231)]"
   ]
  },
  {
   "cell_type": "code",
   "execution_count": 10,
   "metadata": {},
   "outputs": [
    {
     "data": {
      "text/html": [
       "<div>\n",
       "<style scoped>\n",
       "    .dataframe tbody tr th:only-of-type {\n",
       "        vertical-align: middle;\n",
       "    }\n",
       "\n",
       "    .dataframe tbody tr th {\n",
       "        vertical-align: top;\n",
       "    }\n",
       "\n",
       "    .dataframe thead th {\n",
       "        text-align: right;\n",
       "    }\n",
       "</style>\n",
       "<table border=\"1\" class=\"dataframe\">\n",
       "  <thead>\n",
       "    <tr style=\"text-align: right;\">\n",
       "      <th></th>\n",
       "      <th>msno</th>\n",
       "      <th>Label</th>\n",
       "      <th>date</th>\n",
       "      <th>num_25</th>\n",
       "      <th>num_50</th>\n",
       "      <th>num_75</th>\n",
       "      <th>num_985</th>\n",
       "      <th>num_100</th>\n",
       "      <th>num_unq</th>\n",
       "      <th>total_secs</th>\n",
       "    </tr>\n",
       "  </thead>\n",
       "  <tbody>\n",
       "    <tr>\n",
       "      <th>11</th>\n",
       "      <td>+++IZseRRiQS9aaSkH6cMYU6bGDcxUieAi/tH67sC5s=</td>\n",
       "      <td>0</td>\n",
       "      <td>20161224.0</td>\n",
       "      <td>2.0</td>\n",
       "      <td>0.0</td>\n",
       "      <td>1.0</td>\n",
       "      <td>0.0</td>\n",
       "      <td>25.0</td>\n",
       "      <td>28.0</td>\n",
       "      <td>5773.013</td>\n",
       "    </tr>\n",
       "    <tr>\n",
       "      <th>23</th>\n",
       "      <td>+++IZseRRiQS9aaSkH6cMYU6bGDcxUieAi/tH67sC5s=</td>\n",
       "      <td>0</td>\n",
       "      <td>20161225.0</td>\n",
       "      <td>0.0</td>\n",
       "      <td>0.0</td>\n",
       "      <td>0.0</td>\n",
       "      <td>0.0</td>\n",
       "      <td>125.0</td>\n",
       "      <td>125.0</td>\n",
       "      <td>29907.168</td>\n",
       "    </tr>\n",
       "    <tr>\n",
       "      <th>35</th>\n",
       "      <td>+++IZseRRiQS9aaSkH6cMYU6bGDcxUieAi/tH67sC5s=</td>\n",
       "      <td>0</td>\n",
       "      <td>20161226.0</td>\n",
       "      <td>1.0</td>\n",
       "      <td>0.0</td>\n",
       "      <td>0.0</td>\n",
       "      <td>0.0</td>\n",
       "      <td>142.0</td>\n",
       "      <td>140.0</td>\n",
       "      <td>34851.820</td>\n",
       "    </tr>\n",
       "    <tr>\n",
       "      <th>47</th>\n",
       "      <td>+++IZseRRiQS9aaSkH6cMYU6bGDcxUieAi/tH67sC5s=</td>\n",
       "      <td>0</td>\n",
       "      <td>20161227.0</td>\n",
       "      <td>0.0</td>\n",
       "      <td>0.0</td>\n",
       "      <td>0.0</td>\n",
       "      <td>0.0</td>\n",
       "      <td>142.0</td>\n",
       "      <td>138.0</td>\n",
       "      <td>34282.619</td>\n",
       "    </tr>\n",
       "    <tr>\n",
       "      <th>59</th>\n",
       "      <td>+++IZseRRiQS9aaSkH6cMYU6bGDcxUieAi/tH67sC5s=</td>\n",
       "      <td>0</td>\n",
       "      <td>20161228.0</td>\n",
       "      <td>0.0</td>\n",
       "      <td>0.0</td>\n",
       "      <td>1.0</td>\n",
       "      <td>0.0</td>\n",
       "      <td>130.0</td>\n",
       "      <td>129.0</td>\n",
       "      <td>31645.196</td>\n",
       "    </tr>\n",
       "    <tr>\n",
       "      <th>...</th>\n",
       "      <td>...</td>\n",
       "      <td>...</td>\n",
       "      <td>...</td>\n",
       "      <td>...</td>\n",
       "      <td>...</td>\n",
       "      <td>...</td>\n",
       "      <td>...</td>\n",
       "      <td>...</td>\n",
       "      <td>...</td>\n",
       "      <td>...</td>\n",
       "    </tr>\n",
       "    <tr>\n",
       "      <th>49602558</th>\n",
       "      <td>zzy7iqSpfcRq7R4hmKKuhI+CJRs79a6pteqEggpiNO0=</td>\n",
       "      <td>1</td>\n",
       "      <td>20161217.0</td>\n",
       "      <td>22.0</td>\n",
       "      <td>3.0</td>\n",
       "      <td>2.0</td>\n",
       "      <td>8.0</td>\n",
       "      <td>58.0</td>\n",
       "      <td>54.0</td>\n",
       "      <td>15781.199</td>\n",
       "    </tr>\n",
       "    <tr>\n",
       "      <th>49602682</th>\n",
       "      <td>zzz1Dc3P9s53HAowRTrm3fNsWju5yeN4YBfNDq7Z99Q=</td>\n",
       "      <td>1</td>\n",
       "      <td>20161221.0</td>\n",
       "      <td>1.0</td>\n",
       "      <td>0.0</td>\n",
       "      <td>0.0</td>\n",
       "      <td>0.0</td>\n",
       "      <td>8.0</td>\n",
       "      <td>8.0</td>\n",
       "      <td>2101.024</td>\n",
       "    </tr>\n",
       "    <tr>\n",
       "      <th>49602686</th>\n",
       "      <td>zzz1Dc3P9s53HAowRTrm3fNsWju5yeN4YBfNDq7Z99Q=</td>\n",
       "      <td>1</td>\n",
       "      <td>20161224.0</td>\n",
       "      <td>0.0</td>\n",
       "      <td>0.0</td>\n",
       "      <td>0.0</td>\n",
       "      <td>1.0</td>\n",
       "      <td>0.0</td>\n",
       "      <td>1.0</td>\n",
       "      <td>270.966</td>\n",
       "    </tr>\n",
       "    <tr>\n",
       "      <th>49602690</th>\n",
       "      <td>zzz1Dc3P9s53HAowRTrm3fNsWju5yeN4YBfNDq7Z99Q=</td>\n",
       "      <td>1</td>\n",
       "      <td>20161226.0</td>\n",
       "      <td>2.0</td>\n",
       "      <td>0.0</td>\n",
       "      <td>0.0</td>\n",
       "      <td>0.0</td>\n",
       "      <td>0.0</td>\n",
       "      <td>2.0</td>\n",
       "      <td>51.318</td>\n",
       "    </tr>\n",
       "    <tr>\n",
       "      <th>49602694</th>\n",
       "      <td>zzz1Dc3P9s53HAowRTrm3fNsWju5yeN4YBfNDq7Z99Q=</td>\n",
       "      <td>1</td>\n",
       "      <td>20161231.0</td>\n",
       "      <td>1.0</td>\n",
       "      <td>0.0</td>\n",
       "      <td>0.0</td>\n",
       "      <td>2.0</td>\n",
       "      <td>7.0</td>\n",
       "      <td>9.0</td>\n",
       "      <td>2247.724</td>\n",
       "    </tr>\n",
       "  </tbody>\n",
       "</table>\n",
       "<p>1438387 rows × 10 columns</p>\n",
       "</div>"
      ],
      "text/plain": [
       "                                                  msno Label        date  \\\n",
       "11        +++IZseRRiQS9aaSkH6cMYU6bGDcxUieAi/tH67sC5s=     0  20161224.0   \n",
       "23        +++IZseRRiQS9aaSkH6cMYU6bGDcxUieAi/tH67sC5s=     0  20161225.0   \n",
       "35        +++IZseRRiQS9aaSkH6cMYU6bGDcxUieAi/tH67sC5s=     0  20161226.0   \n",
       "47        +++IZseRRiQS9aaSkH6cMYU6bGDcxUieAi/tH67sC5s=     0  20161227.0   \n",
       "59        +++IZseRRiQS9aaSkH6cMYU6bGDcxUieAi/tH67sC5s=     0  20161228.0   \n",
       "...                                                ...   ...         ...   \n",
       "49602558  zzy7iqSpfcRq7R4hmKKuhI+CJRs79a6pteqEggpiNO0=     1  20161217.0   \n",
       "49602682  zzz1Dc3P9s53HAowRTrm3fNsWju5yeN4YBfNDq7Z99Q=     1  20161221.0   \n",
       "49602686  zzz1Dc3P9s53HAowRTrm3fNsWju5yeN4YBfNDq7Z99Q=     1  20161224.0   \n",
       "49602690  zzz1Dc3P9s53HAowRTrm3fNsWju5yeN4YBfNDq7Z99Q=     1  20161226.0   \n",
       "49602694  zzz1Dc3P9s53HAowRTrm3fNsWju5yeN4YBfNDq7Z99Q=     1  20161231.0   \n",
       "\n",
       "          num_25  num_50  num_75  num_985  num_100  num_unq  total_secs  \n",
       "11           2.0     0.0     1.0      0.0     25.0     28.0    5773.013  \n",
       "23           0.0     0.0     0.0      0.0    125.0    125.0   29907.168  \n",
       "35           1.0     0.0     0.0      0.0    142.0    140.0   34851.820  \n",
       "47           0.0     0.0     0.0      0.0    142.0    138.0   34282.619  \n",
       "59           0.0     0.0     1.0      0.0    130.0    129.0   31645.196  \n",
       "...          ...     ...     ...      ...      ...      ...         ...  \n",
       "49602558    22.0     3.0     2.0      8.0     58.0     54.0   15781.199  \n",
       "49602682     1.0     0.0     0.0      0.0      8.0      8.0    2101.024  \n",
       "49602686     0.0     0.0     0.0      1.0      0.0      1.0     270.966  \n",
       "49602690     2.0     0.0     0.0      0.0      0.0      2.0      51.318  \n",
       "49602694     1.0     0.0     0.0      2.0      7.0      9.0    2247.724  \n",
       "\n",
       "[1438387 rows x 10 columns]"
      ]
     },
     "execution_count": 10,
     "metadata": {},
     "output_type": "execute_result"
    }
   ],
   "source": [
    "Train_UL"
   ]
  },
  {
   "cell_type": "code",
   "execution_count": null,
   "metadata": {},
   "outputs": [],
   "source": [
    "#A user may continue to use KKBOX for free(free tier) after his membership expiry. \n",
    "#So there may be logs in jan after expiry date which shouldn't be considered."
   ]
  },
  {
   "cell_type": "markdown",
   "metadata": {},
   "source": [
    "### Sum features:"
   ]
  },
  {
   "cell_type": "code",
   "execution_count": 11,
   "metadata": {},
   "outputs": [],
   "source": [
    "user_logs_num25_sum=Train_UL.groupby(['msno'])['num_25'].sum()\n",
    "user_logs_num50_sum=Train_UL.groupby(['msno'])['num_50'].sum()\n",
    "user_logs_num75_sum=Train_UL.groupby(['msno'])['num_75'].sum()\n",
    "user_logs_num985_sum=Train_UL.groupby(['msno'])['num_985'].sum()\n",
    "user_logs_num100_sum=Train_UL.groupby(['msno'])['num_100'].sum()\n",
    "user_logs_num_unq_sum=Train_UL.groupby(['msno'])['num_unq'].sum()\n",
    "user_logs_total_sec_sum=Train_UL.groupby(['msno'])['total_secs'].sum()"
   ]
  },
  {
   "cell_type": "code",
   "execution_count": 12,
   "metadata": {},
   "outputs": [],
   "source": [
    "user_logs_num25_sum.to_csv('L15_user_logs_num25_sum.csv') #L5=last 15 days\n",
    "user_logs_num50_sum.to_csv('L15_user_logs_num50_sum.csv')\n",
    "user_logs_num75_sum.to_csv('L15_user_logs_num75_sum.csv')\n",
    "user_logs_num985_sum.to_csv('L15_user_logs_num985_sum.csv')\n",
    "user_logs_num100_sum.to_csv('L15_user_logs_num100_sum.csv')\n",
    "user_logs_num_unq_sum.to_csv('L15_user_logs_num_unq_sum.csv')\n",
    "user_logs_total_sec_sum.to_csv('L15_user_logs_total_sec_sum.csv')"
   ]
  },
  {
   "cell_type": "markdown",
   "metadata": {},
   "source": [
    "### Count feature:"
   ]
  },
  {
   "cell_type": "code",
   "execution_count": 13,
   "metadata": {},
   "outputs": [],
   "source": [
    "#count feature\n",
    "user_logs_num100_mean=Train_UL.groupby(['msno'])['num_100'].count()"
   ]
  },
  {
   "cell_type": "code",
   "execution_count": 14,
   "metadata": {},
   "outputs": [],
   "source": [
    "user_logs_num100_mean.to_csv('L15_user_logs_num100_mean.csv')"
   ]
  },
  {
   "cell_type": "markdown",
   "metadata": {},
   "source": [
    "### Standard deviation features:"
   ]
  },
  {
   "cell_type": "code",
   "execution_count": 15,
   "metadata": {},
   "outputs": [],
   "source": [
    "user_logs_num25_std=Train_UL.groupby(['msno'])['num_25'].std()\n",
    "user_logs_num50_std=Train_UL.groupby(['msno'])['num_50'].std()\n",
    "user_logs_num75_std=Train_UL.groupby(['msno'])['num_75'].std()\n",
    "user_logs_num985_std=Train_UL.groupby(['msno'])['num_985'].std()\n",
    "user_logs_num100_std=Train_UL.groupby(['msno'])['num_100'].std()\n",
    "user_logs_num_unq_std=Train_UL.groupby(['msno'])['num_unq'].std()\n",
    "user_logs_total_sec_std=Train_UL.groupby(['msno'])['total_secs'].std()"
   ]
  },
  {
   "cell_type": "code",
   "execution_count": 16,
   "metadata": {},
   "outputs": [],
   "source": [
    "user_logs_num25_std.to_csv('user_logs_L15_num25_std.csv')\n",
    "user_logs_num50_std.to_csv('user_logs_L15_num50_std.csv')\n",
    "user_logs_num75_std.to_csv('user_logs_L15_num75_std.csv')\n",
    "user_logs_num985_std.to_csv('user_logs_L15_num985_std.csv')\n",
    "user_logs_num_unq_std.to_csv('user_logs_L15_num_unq_std.csv')\n",
    "user_logs_total_sec_std.to_csv('user_logs_L15_total_sec_std.csv')"
   ]
  },
  {
   "cell_type": "code",
   "execution_count": 17,
   "metadata": {},
   "outputs": [],
   "source": [
    "user_logs_num25_std"
   ]
  },
  {
   "cell_type": "code",
   "execution_count": 18,
   "metadata": {},
   "outputs": [
    {
     "data": {
      "text/plain": [
       "msno\n",
       "+++IZseRRiQS9aaSkH6cMYU6bGDcxUieAi/tH67sC5s=     3.0\n",
       "+++l/EXNMLTijfLBa8p2TUVVVp2aFGSuUI/h7mLmthw=     4.0\n",
       "+++snpr7pmobhLKUgSHTv/mpkqgBT0tQJ0zQj6qKrqc=    16.0\n",
       "++/9R3sX37CjxbY/AaGvbwr3QkwElKBCtSvVzhCBDOk=    15.0\n",
       "++0/NopttBsaAn6qHZA2AWWrDg7Me7UOMs1vsyo4tSI=    18.0\n",
       "                                                ... \n",
       "zztb7cCNxnkeZ33rHQ0Z3cnshdE8gn/nwMTiNP49b4o=    31.0\n",
       "zzvB5JRK4WBwtKJoNtnNF34r5dUAuenPpR9xrxdfMSI=    12.0\n",
       "zzwsW1MnZalh6V5BwYE+V6hFWyKJYOf+rFd+SWVXxp8=     0.0\n",
       "zzy7iqSpfcRq7R4hmKKuhI+CJRs79a6pteqEggpiNO0=    25.0\n",
       "zzz1Dc3P9s53HAowRTrm3fNsWju5yeN4YBfNDq7Z99Q=     4.0\n",
       "Name: num_25, Length: 275625, dtype: float64"
      ]
     },
     "execution_count": 18,
     "metadata": {},
     "output_type": "execute_result"
    }
   ],
   "source": [
    "user_logs_num25_sum #only 275625 users info are there in this chunk"
   ]
  },
  {
   "cell_type": "code",
   "execution_count": 19,
   "metadata": {},
   "outputs": [
    {
     "data": {
      "text/plain": [
       "3.0"
      ]
     },
     "execution_count": 19,
     "metadata": {},
     "output_type": "execute_result"
    }
   ],
   "source": [
    "user_logs_num25_sum['+++IZseRRiQS9aaSkH6cMYU6bGDcxUieAi/tH67sC5s=']\n"
   ]
  },
  {
   "cell_type": "code",
   "execution_count": null,
   "metadata": {},
   "outputs": [],
   "source": [
    "#repeat for remaining chunks"
   ]
  },
  {
   "cell_type": "markdown",
   "metadata": {},
   "source": [
    "## Final user_log feature:"
   ]
  },
  {
   "cell_type": "code",
   "execution_count": null,
   "metadata": {},
   "outputs": [],
   "source": [
    "import pandas as pd\n",
    "\n",
    "user_logs=pd.read_csv('user_logs.csv',nrows=80000000)"
   ]
  },
  {
   "cell_type": "code",
   "execution_count": 5,
   "metadata": {},
   "outputs": [],
   "source": [
    "Train_UL=pd.merge(Train_msno, user_logs, on='msno', how='left')"
   ]
  },
  {
   "cell_type": "code",
   "execution_count": 6,
   "metadata": {},
   "outputs": [],
   "source": [
    "#select january dates\n",
    "Train_UL=Train_UL[Train_UL['date']==20161231]"
   ]
  },
  {
   "cell_type": "code",
   "execution_count": 7,
   "metadata": {},
   "outputs": [
    {
     "data": {
      "text/html": [
       "<div>\n",
       "<style scoped>\n",
       "    .dataframe tbody tr th:only-of-type {\n",
       "        vertical-align: middle;\n",
       "    }\n",
       "\n",
       "    .dataframe tbody tr th {\n",
       "        vertical-align: top;\n",
       "    }\n",
       "\n",
       "    .dataframe thead th {\n",
       "        text-align: right;\n",
       "    }\n",
       "</style>\n",
       "<table border=\"1\" class=\"dataframe\">\n",
       "  <thead>\n",
       "    <tr style=\"text-align: right;\">\n",
       "      <th></th>\n",
       "      <th>msno</th>\n",
       "      <th>Label</th>\n",
       "      <th>date</th>\n",
       "      <th>num_25</th>\n",
       "      <th>num_50</th>\n",
       "      <th>num_75</th>\n",
       "      <th>num_985</th>\n",
       "      <th>num_100</th>\n",
       "      <th>num_unq</th>\n",
       "      <th>total_secs</th>\n",
       "    </tr>\n",
       "  </thead>\n",
       "  <tbody>\n",
       "    <tr>\n",
       "      <th>307</th>\n",
       "      <td>+++snpr7pmobhLKUgSHTv/mpkqgBT0tQJ0zQj6qKrqc=</td>\n",
       "      <td>1</td>\n",
       "      <td>20161231.0</td>\n",
       "      <td>5.0</td>\n",
       "      <td>8.0</td>\n",
       "      <td>4.0</td>\n",
       "      <td>2.0</td>\n",
       "      <td>13.0</td>\n",
       "      <td>26.0</td>\n",
       "      <td>4651.419</td>\n",
       "    </tr>\n",
       "    <tr>\n",
       "      <th>712</th>\n",
       "      <td>++1G0wVY14Lp0VXak1ymLhPUdXPSFJVBnjWwzGxBKJs=</td>\n",
       "      <td>1</td>\n",
       "      <td>20161231.0</td>\n",
       "      <td>0.0</td>\n",
       "      <td>0.0</td>\n",
       "      <td>0.0</td>\n",
       "      <td>0.0</td>\n",
       "      <td>6.0</td>\n",
       "      <td>6.0</td>\n",
       "      <td>1272.000</td>\n",
       "    </tr>\n",
       "    <tr>\n",
       "      <th>922</th>\n",
       "      <td>++3Z+W8OPnpbHYfrKwqRKN1bF83XEbxjdYUolhGdHZg=</td>\n",
       "      <td>1</td>\n",
       "      <td>20161231.0</td>\n",
       "      <td>18.0</td>\n",
       "      <td>1.0</td>\n",
       "      <td>2.0</td>\n",
       "      <td>0.0</td>\n",
       "      <td>14.0</td>\n",
       "      <td>19.0</td>\n",
       "      <td>4435.640</td>\n",
       "    </tr>\n",
       "    <tr>\n",
       "      <th>970</th>\n",
       "      <td>++3fWHRDC5GWWlovHcrOKWNwZYOjWWkJyeLlL65uv78=</td>\n",
       "      <td>1</td>\n",
       "      <td>20161231.0</td>\n",
       "      <td>0.0</td>\n",
       "      <td>2.0</td>\n",
       "      <td>0.0</td>\n",
       "      <td>0.0</td>\n",
       "      <td>61.0</td>\n",
       "      <td>48.0</td>\n",
       "      <td>11374.038</td>\n",
       "    </tr>\n",
       "    <tr>\n",
       "      <th>1305</th>\n",
       "      <td>++5wYjoMgQHoRuD3GbbvmphZbBBwymzv5Q4l8sywtuU=</td>\n",
       "      <td>1</td>\n",
       "      <td>20161231.0</td>\n",
       "      <td>2.0</td>\n",
       "      <td>0.0</td>\n",
       "      <td>0.0</td>\n",
       "      <td>1.0</td>\n",
       "      <td>40.0</td>\n",
       "      <td>35.0</td>\n",
       "      <td>9516.530</td>\n",
       "    </tr>\n",
       "    <tr>\n",
       "      <th>...</th>\n",
       "      <td>...</td>\n",
       "      <td>...</td>\n",
       "      <td>...</td>\n",
       "      <td>...</td>\n",
       "      <td>...</td>\n",
       "      <td>...</td>\n",
       "      <td>...</td>\n",
       "      <td>...</td>\n",
       "      <td>...</td>\n",
       "      <td>...</td>\n",
       "    </tr>\n",
       "    <tr>\n",
       "      <th>49599768</th>\n",
       "      <td>zzlcbpoKog6kvPihC0k0kEP0fN9pRC71yrrtE6BQVdc=</td>\n",
       "      <td>1</td>\n",
       "      <td>20161231.0</td>\n",
       "      <td>28.0</td>\n",
       "      <td>2.0</td>\n",
       "      <td>1.0</td>\n",
       "      <td>3.0</td>\n",
       "      <td>16.0</td>\n",
       "      <td>49.0</td>\n",
       "      <td>4952.683</td>\n",
       "    </tr>\n",
       "    <tr>\n",
       "      <th>49599862</th>\n",
       "      <td>zzm2UvJnzuTRkXaiaZHtbJwPG9jZQZkZxG0n4PYDTvw=</td>\n",
       "      <td>1</td>\n",
       "      <td>20161231.0</td>\n",
       "      <td>0.0</td>\n",
       "      <td>0.0</td>\n",
       "      <td>0.0</td>\n",
       "      <td>0.0</td>\n",
       "      <td>9.0</td>\n",
       "      <td>8.0</td>\n",
       "      <td>2229.000</td>\n",
       "    </tr>\n",
       "    <tr>\n",
       "      <th>49601446</th>\n",
       "      <td>zzsusjoGJ6jH+qVF5cMfJGphBO7MR4P4P1rD7qxITX0=</td>\n",
       "      <td>1</td>\n",
       "      <td>20161231.0</td>\n",
       "      <td>0.0</td>\n",
       "      <td>0.0</td>\n",
       "      <td>0.0</td>\n",
       "      <td>0.0</td>\n",
       "      <td>40.0</td>\n",
       "      <td>40.0</td>\n",
       "      <td>9567.614</td>\n",
       "    </tr>\n",
       "    <tr>\n",
       "      <th>49601649</th>\n",
       "      <td>zztb7cCNxnkeZ33rHQ0Z3cnshdE8gn/nwMTiNP49b4o=</td>\n",
       "      <td>1</td>\n",
       "      <td>20161231.0</td>\n",
       "      <td>4.0</td>\n",
       "      <td>1.0</td>\n",
       "      <td>0.0</td>\n",
       "      <td>0.0</td>\n",
       "      <td>75.0</td>\n",
       "      <td>78.0</td>\n",
       "      <td>18800.882</td>\n",
       "    </tr>\n",
       "    <tr>\n",
       "      <th>49602694</th>\n",
       "      <td>zzz1Dc3P9s53HAowRTrm3fNsWju5yeN4YBfNDq7Z99Q=</td>\n",
       "      <td>1</td>\n",
       "      <td>20161231.0</td>\n",
       "      <td>1.0</td>\n",
       "      <td>0.0</td>\n",
       "      <td>0.0</td>\n",
       "      <td>2.0</td>\n",
       "      <td>7.0</td>\n",
       "      <td>9.0</td>\n",
       "      <td>2247.724</td>\n",
       "    </tr>\n",
       "  </tbody>\n",
       "</table>\n",
       "<p>89820 rows × 10 columns</p>\n",
       "</div>"
      ],
      "text/plain": [
       "                                                  msno Label        date  \\\n",
       "307       +++snpr7pmobhLKUgSHTv/mpkqgBT0tQJ0zQj6qKrqc=     1  20161231.0   \n",
       "712       ++1G0wVY14Lp0VXak1ymLhPUdXPSFJVBnjWwzGxBKJs=     1  20161231.0   \n",
       "922       ++3Z+W8OPnpbHYfrKwqRKN1bF83XEbxjdYUolhGdHZg=     1  20161231.0   \n",
       "970       ++3fWHRDC5GWWlovHcrOKWNwZYOjWWkJyeLlL65uv78=     1  20161231.0   \n",
       "1305      ++5wYjoMgQHoRuD3GbbvmphZbBBwymzv5Q4l8sywtuU=     1  20161231.0   \n",
       "...                                                ...   ...         ...   \n",
       "49599768  zzlcbpoKog6kvPihC0k0kEP0fN9pRC71yrrtE6BQVdc=     1  20161231.0   \n",
       "49599862  zzm2UvJnzuTRkXaiaZHtbJwPG9jZQZkZxG0n4PYDTvw=     1  20161231.0   \n",
       "49601446  zzsusjoGJ6jH+qVF5cMfJGphBO7MR4P4P1rD7qxITX0=     1  20161231.0   \n",
       "49601649  zztb7cCNxnkeZ33rHQ0Z3cnshdE8gn/nwMTiNP49b4o=     1  20161231.0   \n",
       "49602694  zzz1Dc3P9s53HAowRTrm3fNsWju5yeN4YBfNDq7Z99Q=     1  20161231.0   \n",
       "\n",
       "          num_25  num_50  num_75  num_985  num_100  num_unq  total_secs  \n",
       "307          5.0     8.0     4.0      2.0     13.0     26.0    4651.419  \n",
       "712          0.0     0.0     0.0      0.0      6.0      6.0    1272.000  \n",
       "922         18.0     1.0     2.0      0.0     14.0     19.0    4435.640  \n",
       "970          0.0     2.0     0.0      0.0     61.0     48.0   11374.038  \n",
       "1305         2.0     0.0     0.0      1.0     40.0     35.0    9516.530  \n",
       "...          ...     ...     ...      ...      ...      ...         ...  \n",
       "49599768    28.0     2.0     1.0      3.0     16.0     49.0    4952.683  \n",
       "49599862     0.0     0.0     0.0      0.0      9.0      8.0    2229.000  \n",
       "49601446     0.0     0.0     0.0      0.0     40.0     40.0    9567.614  \n",
       "49601649     4.0     1.0     0.0      0.0     75.0     78.0   18800.882  \n",
       "49602694     1.0     0.0     0.0      2.0      7.0      9.0    2247.724  \n",
       "\n",
       "[89820 rows x 10 columns]"
      ]
     },
     "execution_count": 7,
     "metadata": {},
     "output_type": "execute_result"
    }
   ],
   "source": [
    "Train_UL"
   ]
  },
  {
   "cell_type": "code",
   "execution_count": 8,
   "metadata": {},
   "outputs": [],
   "source": [
    "Train_UL.to_csv('UL_final_day_1.csv')"
   ]
  },
  {
   "cell_type": "code",
   "execution_count": null,
   "metadata": {},
   "outputs": [],
   "source": [
    "#repeat for remaining chunks"
   ]
  },
  {
   "cell_type": "code",
   "execution_count": 4,
   "metadata": {},
   "outputs": [],
   "source": [
    "#https://stackoverflow.com/a/51118604\n",
    "from os import listdir\n",
    "\n",
    "path = 'Train_copy/Ul_fi/'\n",
    "filepaths = [path+f for f in listdir('Train_copy/Ul_fi') if f.endswith('.csv')]\n",
    "df = pd.concat(map(pd.read_csv, filepaths))"
   ]
  },
  {
   "cell_type": "code",
   "execution_count": 5,
   "metadata": {},
   "outputs": [
    {
     "data": {
      "text/html": [
       "<div>\n",
       "<style scoped>\n",
       "    .dataframe tbody tr th:only-of-type {\n",
       "        vertical-align: middle;\n",
       "    }\n",
       "\n",
       "    .dataframe tbody tr th {\n",
       "        vertical-align: top;\n",
       "    }\n",
       "\n",
       "    .dataframe thead th {\n",
       "        text-align: right;\n",
       "    }\n",
       "</style>\n",
       "<table border=\"1\" class=\"dataframe\">\n",
       "  <thead>\n",
       "    <tr style=\"text-align: right;\">\n",
       "      <th></th>\n",
       "      <th>Unnamed: 0</th>\n",
       "      <th>msno</th>\n",
       "      <th>Label</th>\n",
       "      <th>date</th>\n",
       "      <th>num_25</th>\n",
       "      <th>num_50</th>\n",
       "      <th>num_75</th>\n",
       "      <th>num_985</th>\n",
       "      <th>num_100</th>\n",
       "      <th>num_unq</th>\n",
       "      <th>total_secs</th>\n",
       "    </tr>\n",
       "  </thead>\n",
       "  <tbody>\n",
       "    <tr>\n",
       "      <th>0</th>\n",
       "      <td>307</td>\n",
       "      <td>+++snpr7pmobhLKUgSHTv/mpkqgBT0tQJ0zQj6qKrqc=</td>\n",
       "      <td>1</td>\n",
       "      <td>20161231.0</td>\n",
       "      <td>5.0</td>\n",
       "      <td>8.0</td>\n",
       "      <td>4.0</td>\n",
       "      <td>2.0</td>\n",
       "      <td>13.0</td>\n",
       "      <td>26.0</td>\n",
       "      <td>4651.419</td>\n",
       "    </tr>\n",
       "    <tr>\n",
       "      <th>1</th>\n",
       "      <td>712</td>\n",
       "      <td>++1G0wVY14Lp0VXak1ymLhPUdXPSFJVBnjWwzGxBKJs=</td>\n",
       "      <td>1</td>\n",
       "      <td>20161231.0</td>\n",
       "      <td>0.0</td>\n",
       "      <td>0.0</td>\n",
       "      <td>0.0</td>\n",
       "      <td>0.0</td>\n",
       "      <td>6.0</td>\n",
       "      <td>6.0</td>\n",
       "      <td>1272.000</td>\n",
       "    </tr>\n",
       "    <tr>\n",
       "      <th>2</th>\n",
       "      <td>922</td>\n",
       "      <td>++3Z+W8OPnpbHYfrKwqRKN1bF83XEbxjdYUolhGdHZg=</td>\n",
       "      <td>1</td>\n",
       "      <td>20161231.0</td>\n",
       "      <td>18.0</td>\n",
       "      <td>1.0</td>\n",
       "      <td>2.0</td>\n",
       "      <td>0.0</td>\n",
       "      <td>14.0</td>\n",
       "      <td>19.0</td>\n",
       "      <td>4435.640</td>\n",
       "    </tr>\n",
       "    <tr>\n",
       "      <th>3</th>\n",
       "      <td>970</td>\n",
       "      <td>++3fWHRDC5GWWlovHcrOKWNwZYOjWWkJyeLlL65uv78=</td>\n",
       "      <td>1</td>\n",
       "      <td>20161231.0</td>\n",
       "      <td>0.0</td>\n",
       "      <td>2.0</td>\n",
       "      <td>0.0</td>\n",
       "      <td>0.0</td>\n",
       "      <td>61.0</td>\n",
       "      <td>48.0</td>\n",
       "      <td>11374.038</td>\n",
       "    </tr>\n",
       "    <tr>\n",
       "      <th>4</th>\n",
       "      <td>1305</td>\n",
       "      <td>++5wYjoMgQHoRuD3GbbvmphZbBBwymzv5Q4l8sywtuU=</td>\n",
       "      <td>1</td>\n",
       "      <td>20161231.0</td>\n",
       "      <td>2.0</td>\n",
       "      <td>0.0</td>\n",
       "      <td>0.0</td>\n",
       "      <td>1.0</td>\n",
       "      <td>40.0</td>\n",
       "      <td>35.0</td>\n",
       "      <td>9516.530</td>\n",
       "    </tr>\n",
       "    <tr>\n",
       "      <th>...</th>\n",
       "      <td>...</td>\n",
       "      <td>...</td>\n",
       "      <td>...</td>\n",
       "      <td>...</td>\n",
       "      <td>...</td>\n",
       "      <td>...</td>\n",
       "      <td>...</td>\n",
       "      <td>...</td>\n",
       "      <td>...</td>\n",
       "      <td>...</td>\n",
       "      <td>...</td>\n",
       "    </tr>\n",
       "    <tr>\n",
       "      <th>89158</th>\n",
       "      <td>49607190</td>\n",
       "      <td>zzuGxQfF86Zsx5nqF1Yh+oJpEIfdjFKKYpTqFZMdxzk=</td>\n",
       "      <td>1</td>\n",
       "      <td>20161231.0</td>\n",
       "      <td>1.0</td>\n",
       "      <td>0.0</td>\n",
       "      <td>1.0</td>\n",
       "      <td>0.0</td>\n",
       "      <td>8.0</td>\n",
       "      <td>2.0</td>\n",
       "      <td>1657.772</td>\n",
       "    </tr>\n",
       "    <tr>\n",
       "      <th>89159</th>\n",
       "      <td>49607270</td>\n",
       "      <td>zzv/igs0VigNppe7WR8qgz1h6aXFFzQLu5paAswIbcQ=</td>\n",
       "      <td>1</td>\n",
       "      <td>20161231.0</td>\n",
       "      <td>3.0</td>\n",
       "      <td>0.0</td>\n",
       "      <td>1.0</td>\n",
       "      <td>1.0</td>\n",
       "      <td>95.0</td>\n",
       "      <td>91.0</td>\n",
       "      <td>25433.592</td>\n",
       "    </tr>\n",
       "    <tr>\n",
       "      <th>89160</th>\n",
       "      <td>49607511</td>\n",
       "      <td>zzwlIVmSuehTevzOi+WkcC7b3+MBYDiE4qybszTyhII=</td>\n",
       "      <td>1</td>\n",
       "      <td>20161231.0</td>\n",
       "      <td>1.0</td>\n",
       "      <td>1.0</td>\n",
       "      <td>0.0</td>\n",
       "      <td>0.0</td>\n",
       "      <td>18.0</td>\n",
       "      <td>20.0</td>\n",
       "      <td>4154.949</td>\n",
       "    </tr>\n",
       "    <tr>\n",
       "      <th>89161</th>\n",
       "      <td>49607670</td>\n",
       "      <td>zzxPS8+wCuE4HE85EDp4WBHgS5l548vfwXJbQq1HZ9I=</td>\n",
       "      <td>1</td>\n",
       "      <td>20161231.0</td>\n",
       "      <td>18.0</td>\n",
       "      <td>5.0</td>\n",
       "      <td>3.0</td>\n",
       "      <td>3.0</td>\n",
       "      <td>48.0</td>\n",
       "      <td>66.0</td>\n",
       "      <td>14269.269</td>\n",
       "    </tr>\n",
       "    <tr>\n",
       "      <th>89162</th>\n",
       "      <td>49608078</td>\n",
       "      <td>zzyHq6TK2+cBkeGFUHvh12Z7UxFZiSM7dOOSllSBPDw=</td>\n",
       "      <td>0</td>\n",
       "      <td>20161231.0</td>\n",
       "      <td>0.0</td>\n",
       "      <td>0.0</td>\n",
       "      <td>0.0</td>\n",
       "      <td>1.0</td>\n",
       "      <td>173.0</td>\n",
       "      <td>100.0</td>\n",
       "      <td>38760.877</td>\n",
       "    </tr>\n",
       "  </tbody>\n",
       "</table>\n",
       "<p>438293 rows × 11 columns</p>\n",
       "</div>"
      ],
      "text/plain": [
       "      Unnamed: 0                                          msno Label  \\\n",
       "0            307  +++snpr7pmobhLKUgSHTv/mpkqgBT0tQJ0zQj6qKrqc=     1   \n",
       "1            712  ++1G0wVY14Lp0VXak1ymLhPUdXPSFJVBnjWwzGxBKJs=     1   \n",
       "2            922  ++3Z+W8OPnpbHYfrKwqRKN1bF83XEbxjdYUolhGdHZg=     1   \n",
       "3            970  ++3fWHRDC5GWWlovHcrOKWNwZYOjWWkJyeLlL65uv78=     1   \n",
       "4           1305  ++5wYjoMgQHoRuD3GbbvmphZbBBwymzv5Q4l8sywtuU=     1   \n",
       "...          ...                                           ...   ...   \n",
       "89158   49607190  zzuGxQfF86Zsx5nqF1Yh+oJpEIfdjFKKYpTqFZMdxzk=     1   \n",
       "89159   49607270  zzv/igs0VigNppe7WR8qgz1h6aXFFzQLu5paAswIbcQ=     1   \n",
       "89160   49607511  zzwlIVmSuehTevzOi+WkcC7b3+MBYDiE4qybszTyhII=     1   \n",
       "89161   49607670  zzxPS8+wCuE4HE85EDp4WBHgS5l548vfwXJbQq1HZ9I=     1   \n",
       "89162   49608078  zzyHq6TK2+cBkeGFUHvh12Z7UxFZiSM7dOOSllSBPDw=     0   \n",
       "\n",
       "             date  num_25  num_50  num_75  num_985  num_100  num_unq  \\\n",
       "0      20161231.0     5.0     8.0     4.0      2.0     13.0     26.0   \n",
       "1      20161231.0     0.0     0.0     0.0      0.0      6.0      6.0   \n",
       "2      20161231.0    18.0     1.0     2.0      0.0     14.0     19.0   \n",
       "3      20161231.0     0.0     2.0     0.0      0.0     61.0     48.0   \n",
       "4      20161231.0     2.0     0.0     0.0      1.0     40.0     35.0   \n",
       "...           ...     ...     ...     ...      ...      ...      ...   \n",
       "89158  20161231.0     1.0     0.0     1.0      0.0      8.0      2.0   \n",
       "89159  20161231.0     3.0     0.0     1.0      1.0     95.0     91.0   \n",
       "89160  20161231.0     1.0     1.0     0.0      0.0     18.0     20.0   \n",
       "89161  20161231.0    18.0     5.0     3.0      3.0     48.0     66.0   \n",
       "89162  20161231.0     0.0     0.0     0.0      1.0    173.0    100.0   \n",
       "\n",
       "       total_secs  \n",
       "0        4651.419  \n",
       "1        1272.000  \n",
       "2        4435.640  \n",
       "3       11374.038  \n",
       "4        9516.530  \n",
       "...           ...  \n",
       "89158    1657.772  \n",
       "89159   25433.592  \n",
       "89160    4154.949  \n",
       "89161   14269.269  \n",
       "89162   38760.877  \n",
       "\n",
       "[438293 rows x 11 columns]"
      ]
     },
     "execution_count": 5,
     "metadata": {},
     "output_type": "execute_result"
    }
   ],
   "source": [
    "df #only less than half the users have logs on their expiry date"
   ]
  },
  {
   "cell_type": "code",
   "execution_count": 6,
   "metadata": {},
   "outputs": [],
   "source": [
    "df=pd.merge(Train_msno['msno'], df, on='msno', how='left')"
   ]
  },
  {
   "cell_type": "code",
   "execution_count": 7,
   "metadata": {},
   "outputs": [
    {
     "data": {
      "text/html": [
       "<div>\n",
       "<style scoped>\n",
       "    .dataframe tbody tr th:only-of-type {\n",
       "        vertical-align: middle;\n",
       "    }\n",
       "\n",
       "    .dataframe tbody tr th {\n",
       "        vertical-align: top;\n",
       "    }\n",
       "\n",
       "    .dataframe thead th {\n",
       "        text-align: right;\n",
       "    }\n",
       "</style>\n",
       "<table border=\"1\" class=\"dataframe\">\n",
       "  <thead>\n",
       "    <tr style=\"text-align: right;\">\n",
       "      <th></th>\n",
       "      <th>msno</th>\n",
       "      <th>Unnamed: 0</th>\n",
       "      <th>Label</th>\n",
       "      <th>date</th>\n",
       "      <th>num_25</th>\n",
       "      <th>num_50</th>\n",
       "      <th>num_75</th>\n",
       "      <th>num_985</th>\n",
       "      <th>num_100</th>\n",
       "      <th>num_unq</th>\n",
       "      <th>total_secs</th>\n",
       "    </tr>\n",
       "  </thead>\n",
       "  <tbody>\n",
       "    <tr>\n",
       "      <th>0</th>\n",
       "      <td>+++IZseRRiQS9aaSkH6cMYU6bGDcxUieAi/tH67sC5s=</td>\n",
       "      <td>NaN</td>\n",
       "      <td>NaN</td>\n",
       "      <td>NaN</td>\n",
       "      <td>NaN</td>\n",
       "      <td>NaN</td>\n",
       "      <td>NaN</td>\n",
       "      <td>NaN</td>\n",
       "      <td>NaN</td>\n",
       "      <td>NaN</td>\n",
       "      <td>NaN</td>\n",
       "    </tr>\n",
       "    <tr>\n",
       "      <th>1</th>\n",
       "      <td>+++hVY1rZox/33YtvDgmKA2Frg/2qhkz12B9ylCvh8o=</td>\n",
       "      <td>130</td>\n",
       "      <td>1</td>\n",
       "      <td>20161231.0</td>\n",
       "      <td>4.0</td>\n",
       "      <td>1.0</td>\n",
       "      <td>2.0</td>\n",
       "      <td>2.0</td>\n",
       "      <td>21.0</td>\n",
       "      <td>21.0</td>\n",
       "      <td>6005.723</td>\n",
       "    </tr>\n",
       "    <tr>\n",
       "      <th>2</th>\n",
       "      <td>+++l/EXNMLTijfLBa8p2TUVVVp2aFGSuUI/h7mLmthw=</td>\n",
       "      <td>206</td>\n",
       "      <td>1</td>\n",
       "      <td>20161231.0</td>\n",
       "      <td>1.0</td>\n",
       "      <td>1.0</td>\n",
       "      <td>0.0</td>\n",
       "      <td>1.0</td>\n",
       "      <td>13.0</td>\n",
       "      <td>16.0</td>\n",
       "      <td>3405.733</td>\n",
       "    </tr>\n",
       "    <tr>\n",
       "      <th>3</th>\n",
       "      <td>+++snpr7pmobhLKUgSHTv/mpkqgBT0tQJ0zQj6qKrqc=</td>\n",
       "      <td>307</td>\n",
       "      <td>1</td>\n",
       "      <td>20161231.0</td>\n",
       "      <td>5.0</td>\n",
       "      <td>8.0</td>\n",
       "      <td>4.0</td>\n",
       "      <td>2.0</td>\n",
       "      <td>13.0</td>\n",
       "      <td>26.0</td>\n",
       "      <td>4651.419</td>\n",
       "    </tr>\n",
       "    <tr>\n",
       "      <th>4</th>\n",
       "      <td>++/9R3sX37CjxbY/AaGvbwr3QkwElKBCtSvVzhCBDOk=</td>\n",
       "      <td>422</td>\n",
       "      <td>1</td>\n",
       "      <td>20161231.0</td>\n",
       "      <td>0.0</td>\n",
       "      <td>0.0</td>\n",
       "      <td>1.0</td>\n",
       "      <td>0.0</td>\n",
       "      <td>24.0</td>\n",
       "      <td>2.0</td>\n",
       "      <td>5680.686</td>\n",
       "    </tr>\n",
       "    <tr>\n",
       "      <th>...</th>\n",
       "      <td>...</td>\n",
       "      <td>...</td>\n",
       "      <td>...</td>\n",
       "      <td>...</td>\n",
       "      <td>...</td>\n",
       "      <td>...</td>\n",
       "      <td>...</td>\n",
       "      <td>...</td>\n",
       "      <td>...</td>\n",
       "      <td>...</td>\n",
       "      <td>...</td>\n",
       "    </tr>\n",
       "    <tr>\n",
       "      <th>956322</th>\n",
       "      <td>zzy7iqSpfcRq7R4hmKKuhI+CJRs79a6pteqEggpiNO0=</td>\n",
       "      <td>49601191</td>\n",
       "      <td>1</td>\n",
       "      <td>20161231.0</td>\n",
       "      <td>11.0</td>\n",
       "      <td>2.0</td>\n",
       "      <td>0.0</td>\n",
       "      <td>1.0</td>\n",
       "      <td>8.0</td>\n",
       "      <td>22.0</td>\n",
       "      <td>2157.864</td>\n",
       "    </tr>\n",
       "    <tr>\n",
       "      <th>956323</th>\n",
       "      <td>zzyHq6TK2+cBkeGFUHvh12Z7UxFZiSM7dOOSllSBPDw=</td>\n",
       "      <td>49608078</td>\n",
       "      <td>0</td>\n",
       "      <td>20161231.0</td>\n",
       "      <td>0.0</td>\n",
       "      <td>0.0</td>\n",
       "      <td>0.0</td>\n",
       "      <td>1.0</td>\n",
       "      <td>173.0</td>\n",
       "      <td>100.0</td>\n",
       "      <td>38760.877</td>\n",
       "    </tr>\n",
       "    <tr>\n",
       "      <th>956324</th>\n",
       "      <td>zzz1Dc3P9s53HAowRTrm3fNsWju5yeN4YBfNDq7Z99Q=</td>\n",
       "      <td>49602694</td>\n",
       "      <td>1</td>\n",
       "      <td>20161231.0</td>\n",
       "      <td>1.0</td>\n",
       "      <td>0.0</td>\n",
       "      <td>0.0</td>\n",
       "      <td>2.0</td>\n",
       "      <td>7.0</td>\n",
       "      <td>9.0</td>\n",
       "      <td>2247.724</td>\n",
       "    </tr>\n",
       "    <tr>\n",
       "      <th>956325</th>\n",
       "      <td>zzz4xr5LLzoxUqD6LfKiieCt8Or4dUWFQ0RA5gmkx8I=</td>\n",
       "      <td>NaN</td>\n",
       "      <td>NaN</td>\n",
       "      <td>NaN</td>\n",
       "      <td>NaN</td>\n",
       "      <td>NaN</td>\n",
       "      <td>NaN</td>\n",
       "      <td>NaN</td>\n",
       "      <td>NaN</td>\n",
       "      <td>NaN</td>\n",
       "      <td>NaN</td>\n",
       "    </tr>\n",
       "    <tr>\n",
       "      <th>956326</th>\n",
       "      <td>zzzN9thH22os1dRS0VHReY/8FTfGHOi86//d+wGGFsQ=</td>\n",
       "      <td>NaN</td>\n",
       "      <td>NaN</td>\n",
       "      <td>NaN</td>\n",
       "      <td>NaN</td>\n",
       "      <td>NaN</td>\n",
       "      <td>NaN</td>\n",
       "      <td>NaN</td>\n",
       "      <td>NaN</td>\n",
       "      <td>NaN</td>\n",
       "      <td>NaN</td>\n",
       "    </tr>\n",
       "  </tbody>\n",
       "</table>\n",
       "<p>956327 rows × 11 columns</p>\n",
       "</div>"
      ],
      "text/plain": [
       "                                                msno Unnamed: 0 Label  \\\n",
       "0       +++IZseRRiQS9aaSkH6cMYU6bGDcxUieAi/tH67sC5s=        NaN   NaN   \n",
       "1       +++hVY1rZox/33YtvDgmKA2Frg/2qhkz12B9ylCvh8o=        130     1   \n",
       "2       +++l/EXNMLTijfLBa8p2TUVVVp2aFGSuUI/h7mLmthw=        206     1   \n",
       "3       +++snpr7pmobhLKUgSHTv/mpkqgBT0tQJ0zQj6qKrqc=        307     1   \n",
       "4       ++/9R3sX37CjxbY/AaGvbwr3QkwElKBCtSvVzhCBDOk=        422     1   \n",
       "...                                              ...        ...   ...   \n",
       "956322  zzy7iqSpfcRq7R4hmKKuhI+CJRs79a6pteqEggpiNO0=   49601191     1   \n",
       "956323  zzyHq6TK2+cBkeGFUHvh12Z7UxFZiSM7dOOSllSBPDw=   49608078     0   \n",
       "956324  zzz1Dc3P9s53HAowRTrm3fNsWju5yeN4YBfNDq7Z99Q=   49602694     1   \n",
       "956325  zzz4xr5LLzoxUqD6LfKiieCt8Or4dUWFQ0RA5gmkx8I=        NaN   NaN   \n",
       "956326  zzzN9thH22os1dRS0VHReY/8FTfGHOi86//d+wGGFsQ=        NaN   NaN   \n",
       "\n",
       "              date  num_25  num_50  num_75  num_985  num_100  num_unq  \\\n",
       "0              NaN     NaN     NaN     NaN      NaN      NaN      NaN   \n",
       "1       20161231.0     4.0     1.0     2.0      2.0     21.0     21.0   \n",
       "2       20161231.0     1.0     1.0     0.0      1.0     13.0     16.0   \n",
       "3       20161231.0     5.0     8.0     4.0      2.0     13.0     26.0   \n",
       "4       20161231.0     0.0     0.0     1.0      0.0     24.0      2.0   \n",
       "...            ...     ...     ...     ...      ...      ...      ...   \n",
       "956322  20161231.0    11.0     2.0     0.0      1.0      8.0     22.0   \n",
       "956323  20161231.0     0.0     0.0     0.0      1.0    173.0    100.0   \n",
       "956324  20161231.0     1.0     0.0     0.0      2.0      7.0      9.0   \n",
       "956325         NaN     NaN     NaN     NaN      NaN      NaN      NaN   \n",
       "956326         NaN     NaN     NaN     NaN      NaN      NaN      NaN   \n",
       "\n",
       "        total_secs  \n",
       "0              NaN  \n",
       "1         6005.723  \n",
       "2         3405.733  \n",
       "3         4651.419  \n",
       "4         5680.686  \n",
       "...            ...  \n",
       "956322    2157.864  \n",
       "956323   38760.877  \n",
       "956324    2247.724  \n",
       "956325         NaN  \n",
       "956326         NaN  \n",
       "\n",
       "[956327 rows x 11 columns]"
      ]
     },
     "execution_count": 7,
     "metadata": {},
     "output_type": "execute_result"
    }
   ],
   "source": [
    "df"
   ]
  },
  {
   "cell_type": "code",
   "execution_count": 9,
   "metadata": {},
   "outputs": [],
   "source": [
    "df=df.drop(['Unnamed: 0','Label','date','msno'],axis=1)"
   ]
  },
  {
   "cell_type": "code",
   "execution_count": 10,
   "metadata": {},
   "outputs": [
    {
     "data": {
      "text/html": [
       "<div>\n",
       "<style scoped>\n",
       "    .dataframe tbody tr th:only-of-type {\n",
       "        vertical-align: middle;\n",
       "    }\n",
       "\n",
       "    .dataframe tbody tr th {\n",
       "        vertical-align: top;\n",
       "    }\n",
       "\n",
       "    .dataframe thead th {\n",
       "        text-align: right;\n",
       "    }\n",
       "</style>\n",
       "<table border=\"1\" class=\"dataframe\">\n",
       "  <thead>\n",
       "    <tr style=\"text-align: right;\">\n",
       "      <th></th>\n",
       "      <th>num_25</th>\n",
       "      <th>num_50</th>\n",
       "      <th>num_75</th>\n",
       "      <th>num_985</th>\n",
       "      <th>num_100</th>\n",
       "      <th>num_unq</th>\n",
       "      <th>total_secs</th>\n",
       "    </tr>\n",
       "  </thead>\n",
       "  <tbody>\n",
       "    <tr>\n",
       "      <th>0</th>\n",
       "      <td>NaN</td>\n",
       "      <td>NaN</td>\n",
       "      <td>NaN</td>\n",
       "      <td>NaN</td>\n",
       "      <td>NaN</td>\n",
       "      <td>NaN</td>\n",
       "      <td>NaN</td>\n",
       "    </tr>\n",
       "    <tr>\n",
       "      <th>1</th>\n",
       "      <td>4.0</td>\n",
       "      <td>1.0</td>\n",
       "      <td>2.0</td>\n",
       "      <td>2.0</td>\n",
       "      <td>21.0</td>\n",
       "      <td>21.0</td>\n",
       "      <td>6005.723</td>\n",
       "    </tr>\n",
       "    <tr>\n",
       "      <th>2</th>\n",
       "      <td>1.0</td>\n",
       "      <td>1.0</td>\n",
       "      <td>0.0</td>\n",
       "      <td>1.0</td>\n",
       "      <td>13.0</td>\n",
       "      <td>16.0</td>\n",
       "      <td>3405.733</td>\n",
       "    </tr>\n",
       "    <tr>\n",
       "      <th>3</th>\n",
       "      <td>5.0</td>\n",
       "      <td>8.0</td>\n",
       "      <td>4.0</td>\n",
       "      <td>2.0</td>\n",
       "      <td>13.0</td>\n",
       "      <td>26.0</td>\n",
       "      <td>4651.419</td>\n",
       "    </tr>\n",
       "    <tr>\n",
       "      <th>4</th>\n",
       "      <td>0.0</td>\n",
       "      <td>0.0</td>\n",
       "      <td>1.0</td>\n",
       "      <td>0.0</td>\n",
       "      <td>24.0</td>\n",
       "      <td>2.0</td>\n",
       "      <td>5680.686</td>\n",
       "    </tr>\n",
       "  </tbody>\n",
       "</table>\n",
       "</div>"
      ],
      "text/plain": [
       "   num_25  num_50  num_75  num_985  num_100  num_unq  total_secs\n",
       "0     NaN     NaN     NaN      NaN      NaN      NaN         NaN\n",
       "1     4.0     1.0     2.0      2.0     21.0     21.0    6005.723\n",
       "2     1.0     1.0     0.0      1.0     13.0     16.0    3405.733\n",
       "3     5.0     8.0     4.0      2.0     13.0     26.0    4651.419\n",
       "4     0.0     0.0     1.0      0.0     24.0      2.0    5680.686"
      ]
     },
     "execution_count": 10,
     "metadata": {},
     "output_type": "execute_result"
    }
   ],
   "source": [
    "df.head()"
   ]
  },
  {
   "cell_type": "code",
   "execution_count": 11,
   "metadata": {},
   "outputs": [],
   "source": [
    "np.save('final_day_log',np.array(df)) #log of the expiry date"
   ]
  },
  {
   "cell_type": "code",
   "execution_count": null,
   "metadata": {},
   "outputs": [],
   "source": []
  },
  {
   "cell_type": "code",
   "execution_count": null,
   "metadata": {},
   "outputs": [],
   "source": []
  }
 ],
 "metadata": {
  "kernelspec": {
   "display_name": "Python 3",
   "language": "python",
   "name": "python3"
  },
  "language_info": {
   "codemirror_mode": {
    "name": "ipython",
    "version": 3
   },
   "file_extension": ".py",
   "mimetype": "text/x-python",
   "name": "python",
   "nbconvert_exporter": "python",
   "pygments_lexer": "ipython3",
   "version": "3.6.5"
  }
 },
 "nbformat": 4,
 "nbformat_minor": 4
}
