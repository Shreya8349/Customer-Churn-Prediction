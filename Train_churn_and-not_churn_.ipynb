{
 "cells": [
  {
   "cell_type": "markdown",
   "metadata": {},
   "source": [
    "## Steps:\n",
    "#### 1.Last expiry date in jan:\n",
    "FInal tranact expiry\n",
    "\n",
    "#### 2.first transaction after transaction that caused expiry date in jan:\n",
    "* Check expiry later than jan 31 and order ascendingly.\n",
    "* remove 'is_Cancel'=1 transactions.\n",
    "* choose transactions later than december 31.\n",
    "* choose first row for each user.\n",
    "* choose transaction_date column. \n",
    "\n",
    "Subtract 1 from 2. if its <31 then no churn. otherwise churn.\n",
    "Users who are missing in 2,never done any transaction again. meaning they churned."
   ]
  },
  {
   "cell_type": "code",
   "execution_count": 1,
   "metadata": {},
   "outputs": [],
   "source": [
    "import pandas as pd\n",
    "\n",
    "transaction=pd.read_csv('transactions.csv')"
   ]
  },
  {
   "cell_type": "code",
   "execution_count": 2,
   "metadata": {},
   "outputs": [],
   "source": [
    "import numpy as np\n",
    "\n",
    "transaction_last_expiry_msno_final=np.load('transaction_last_expiry_msno_final.npy', allow_pickle=True)"
   ]
  },
  {
   "cell_type": "code",
   "execution_count": 3,
   "metadata": {},
   "outputs": [],
   "source": [
    "Train_msno_and_label_order=np.load('Train_msno_and_label_order.npy', allow_pickle=True)"
   ]
  },
  {
   "cell_type": "code",
   "execution_count": 7,
   "metadata": {},
   "outputs": [],
   "source": [
    "#select msno only in train\n",
    "transaction_train_msno=transaction[transaction['msno'].isin(Train_msno_and_label_order[:,0])]"
   ]
  },
  {
   "cell_type": "code",
   "execution_count": 8,
   "metadata": {},
   "outputs": [],
   "source": [
    "#Users with expiry date after jan. \n",
    "transaction_train_msno_churn=transaction_train_msno[transaction_train_msno['membership_expire_date']>20170131]"
   ]
  },
  {
   "cell_type": "code",
   "execution_count": 9,
   "metadata": {},
   "outputs": [],
   "source": [
    "transaction_train_msno_churn=transaction_train_msno_churn.sort_values(by=['msno','transaction_date'],ascending=[True,True])"
   ]
  },
  {
   "cell_type": "code",
   "execution_count": 10,
   "metadata": {
    "scrolled": false
   },
   "outputs": [
    {
     "data": {
      "text/html": [
       "<div>\n",
       "<style scoped>\n",
       "    .dataframe tbody tr th:only-of-type {\n",
       "        vertical-align: middle;\n",
       "    }\n",
       "\n",
       "    .dataframe tbody tr th {\n",
       "        vertical-align: top;\n",
       "    }\n",
       "\n",
       "    .dataframe thead th {\n",
       "        text-align: right;\n",
       "    }\n",
       "</style>\n",
       "<table border=\"1\" class=\"dataframe\">\n",
       "  <thead>\n",
       "    <tr style=\"text-align: right;\">\n",
       "      <th></th>\n",
       "      <th>msno</th>\n",
       "      <th>payment_method_id</th>\n",
       "      <th>payment_plan_days</th>\n",
       "      <th>plan_list_price</th>\n",
       "      <th>actual_amount_paid</th>\n",
       "      <th>is_auto_renew</th>\n",
       "      <th>transaction_date</th>\n",
       "      <th>membership_expire_date</th>\n",
       "      <th>is_cancel</th>\n",
       "    </tr>\n",
       "  </thead>\n",
       "  <tbody>\n",
       "    <tr>\n",
       "      <th>58566</th>\n",
       "      <td>+++hVY1rZox/33YtvDgmKA2Frg/2qhkz12B9ylCvh8o=</td>\n",
       "      <td>41</td>\n",
       "      <td>30</td>\n",
       "      <td>99</td>\n",
       "      <td>99</td>\n",
       "      <td>1</td>\n",
       "      <td>20170115</td>\n",
       "      <td>20170215</td>\n",
       "      <td>0</td>\n",
       "    </tr>\n",
       "    <tr>\n",
       "      <th>1914756</th>\n",
       "      <td>+++hVY1rZox/33YtvDgmKA2Frg/2qhkz12B9ylCvh8o=</td>\n",
       "      <td>41</td>\n",
       "      <td>30</td>\n",
       "      <td>99</td>\n",
       "      <td>99</td>\n",
       "      <td>1</td>\n",
       "      <td>20170215</td>\n",
       "      <td>20170315</td>\n",
       "      <td>0</td>\n",
       "    </tr>\n",
       "    <tr>\n",
       "      <th>18666063</th>\n",
       "      <td>+++l/EXNMLTijfLBa8p2TUVVVp2aFGSuUI/h7mLmthw=</td>\n",
       "      <td>39</td>\n",
       "      <td>30</td>\n",
       "      <td>149</td>\n",
       "      <td>149</td>\n",
       "      <td>1</td>\n",
       "      <td>20161231</td>\n",
       "      <td>20170219</td>\n",
       "      <td>0</td>\n",
       "    </tr>\n",
       "    <tr>\n",
       "      <th>16166417</th>\n",
       "      <td>+++l/EXNMLTijfLBa8p2TUVVVp2aFGSuUI/h7mLmthw=</td>\n",
       "      <td>39</td>\n",
       "      <td>30</td>\n",
       "      <td>149</td>\n",
       "      <td>149</td>\n",
       "      <td>1</td>\n",
       "      <td>20170131</td>\n",
       "      <td>20170319</td>\n",
       "      <td>0</td>\n",
       "    </tr>\n",
       "    <tr>\n",
       "      <th>8526712</th>\n",
       "      <td>+++snpr7pmobhLKUgSHTv/mpkqgBT0tQJ0zQj6qKrqc=</td>\n",
       "      <td>41</td>\n",
       "      <td>30</td>\n",
       "      <td>149</td>\n",
       "      <td>149</td>\n",
       "      <td>1</td>\n",
       "      <td>20170126</td>\n",
       "      <td>20170226</td>\n",
       "      <td>0</td>\n",
       "    </tr>\n",
       "    <tr>\n",
       "      <th>...</th>\n",
       "      <td>...</td>\n",
       "      <td>...</td>\n",
       "      <td>...</td>\n",
       "      <td>...</td>\n",
       "      <td>...</td>\n",
       "      <td>...</td>\n",
       "      <td>...</td>\n",
       "      <td>...</td>\n",
       "      <td>...</td>\n",
       "    </tr>\n",
       "    <tr>\n",
       "      <th>1862627</th>\n",
       "      <td>zzz1Dc3P9s53HAowRTrm3fNsWju5yeN4YBfNDq7Z99Q=</td>\n",
       "      <td>39</td>\n",
       "      <td>30</td>\n",
       "      <td>149</td>\n",
       "      <td>149</td>\n",
       "      <td>1</td>\n",
       "      <td>20161231</td>\n",
       "      <td>20170224</td>\n",
       "      <td>0</td>\n",
       "    </tr>\n",
       "    <tr>\n",
       "      <th>2006696</th>\n",
       "      <td>zzz1Dc3P9s53HAowRTrm3fNsWju5yeN4YBfNDq7Z99Q=</td>\n",
       "      <td>39</td>\n",
       "      <td>30</td>\n",
       "      <td>149</td>\n",
       "      <td>149</td>\n",
       "      <td>1</td>\n",
       "      <td>20170131</td>\n",
       "      <td>20170324</td>\n",
       "      <td>0</td>\n",
       "    </tr>\n",
       "    <tr>\n",
       "      <th>15515807</th>\n",
       "      <td>zzz4xr5LLzoxUqD6LfKiieCt8Or4dUWFQ0RA5gmkx8I=</td>\n",
       "      <td>41</td>\n",
       "      <td>30</td>\n",
       "      <td>149</td>\n",
       "      <td>149</td>\n",
       "      <td>1</td>\n",
       "      <td>20170104</td>\n",
       "      <td>20170205</td>\n",
       "      <td>0</td>\n",
       "    </tr>\n",
       "    <tr>\n",
       "      <th>20411713</th>\n",
       "      <td>zzzN9thH22os1dRS0VHReY/8FTfGHOi86//d+wGGFsQ=</td>\n",
       "      <td>41</td>\n",
       "      <td>30</td>\n",
       "      <td>99</td>\n",
       "      <td>99</td>\n",
       "      <td>1</td>\n",
       "      <td>20170104</td>\n",
       "      <td>20170204</td>\n",
       "      <td>0</td>\n",
       "    </tr>\n",
       "    <tr>\n",
       "      <th>13506846</th>\n",
       "      <td>zzzN9thH22os1dRS0VHReY/8FTfGHOi86//d+wGGFsQ=</td>\n",
       "      <td>41</td>\n",
       "      <td>30</td>\n",
       "      <td>99</td>\n",
       "      <td>99</td>\n",
       "      <td>1</td>\n",
       "      <td>20170202</td>\n",
       "      <td>20170202</td>\n",
       "      <td>1</td>\n",
       "    </tr>\n",
       "  </tbody>\n",
       "</table>\n",
       "<p>1769835 rows × 9 columns</p>\n",
       "</div>"
      ],
      "text/plain": [
       "                                                  msno  payment_method_id  \\\n",
       "58566     +++hVY1rZox/33YtvDgmKA2Frg/2qhkz12B9ylCvh8o=                 41   \n",
       "1914756   +++hVY1rZox/33YtvDgmKA2Frg/2qhkz12B9ylCvh8o=                 41   \n",
       "18666063  +++l/EXNMLTijfLBa8p2TUVVVp2aFGSuUI/h7mLmthw=                 39   \n",
       "16166417  +++l/EXNMLTijfLBa8p2TUVVVp2aFGSuUI/h7mLmthw=                 39   \n",
       "8526712   +++snpr7pmobhLKUgSHTv/mpkqgBT0tQJ0zQj6qKrqc=                 41   \n",
       "...                                                ...                ...   \n",
       "1862627   zzz1Dc3P9s53HAowRTrm3fNsWju5yeN4YBfNDq7Z99Q=                 39   \n",
       "2006696   zzz1Dc3P9s53HAowRTrm3fNsWju5yeN4YBfNDq7Z99Q=                 39   \n",
       "15515807  zzz4xr5LLzoxUqD6LfKiieCt8Or4dUWFQ0RA5gmkx8I=                 41   \n",
       "20411713  zzzN9thH22os1dRS0VHReY/8FTfGHOi86//d+wGGFsQ=                 41   \n",
       "13506846  zzzN9thH22os1dRS0VHReY/8FTfGHOi86//d+wGGFsQ=                 41   \n",
       "\n",
       "          payment_plan_days  plan_list_price  actual_amount_paid  \\\n",
       "58566                    30               99                  99   \n",
       "1914756                  30               99                  99   \n",
       "18666063                 30              149                 149   \n",
       "16166417                 30              149                 149   \n",
       "8526712                  30              149                 149   \n",
       "...                     ...              ...                 ...   \n",
       "1862627                  30              149                 149   \n",
       "2006696                  30              149                 149   \n",
       "15515807                 30              149                 149   \n",
       "20411713                 30               99                  99   \n",
       "13506846                 30               99                  99   \n",
       "\n",
       "          is_auto_renew  transaction_date  membership_expire_date  is_cancel  \n",
       "58566                 1          20170115                20170215          0  \n",
       "1914756               1          20170215                20170315          0  \n",
       "18666063              1          20161231                20170219          0  \n",
       "16166417              1          20170131                20170319          0  \n",
       "8526712               1          20170126                20170226          0  \n",
       "...                 ...               ...                     ...        ...  \n",
       "1862627               1          20161231                20170224          0  \n",
       "2006696               1          20170131                20170324          0  \n",
       "15515807              1          20170104                20170205          0  \n",
       "20411713              1          20170104                20170204          0  \n",
       "13506846              1          20170202                20170202          1  \n",
       "\n",
       "[1769835 rows x 9 columns]"
      ]
     },
     "execution_count": 10,
     "metadata": {},
     "output_type": "execute_result"
    }
   ],
   "source": [
    "transaction_train_msno_churn"
   ]
  },
  {
   "cell_type": "code",
   "execution_count": 11,
   "metadata": {},
   "outputs": [],
   "source": [
    "#remove is_cancel=1 transactions\n",
    "transaction_train_msno_churn=transaction_train_msno_churn[transaction_train_msno_churn['is_cancel']==0]"
   ]
  },
  {
   "cell_type": "code",
   "execution_count": 12,
   "metadata": {},
   "outputs": [],
   "source": [
    "#transaction later than dec 31\n",
    "transaction_train_msno_churn=transaction_train_msno_churn[transaction_train_msno_churn['transaction_date']>20161231]"
   ]
  },
  {
   "cell_type": "code",
   "execution_count": 13,
   "metadata": {},
   "outputs": [],
   "source": [
    "#https://stackoverflow.com/a/15705958\n",
    "#there are also other ways to do this. eg:drop duplicates will work.\n",
    "index=transaction_train_msno_churn.groupby(['msno'])['transaction_date'].transform(min) == transaction_train_msno_churn['transaction_date']"
   ]
  },
  {
   "cell_type": "code",
   "execution_count": 14,
   "metadata": {},
   "outputs": [],
   "source": [
    "transaction_train_msno_churn=transaction_train_msno_churn[index]"
   ]
  },
  {
   "cell_type": "code",
   "execution_count": 15,
   "metadata": {},
   "outputs": [
    {
     "data": {
      "text/html": [
       "<div>\n",
       "<style scoped>\n",
       "    .dataframe tbody tr th:only-of-type {\n",
       "        vertical-align: middle;\n",
       "    }\n",
       "\n",
       "    .dataframe tbody tr th {\n",
       "        vertical-align: top;\n",
       "    }\n",
       "\n",
       "    .dataframe thead th {\n",
       "        text-align: right;\n",
       "    }\n",
       "</style>\n",
       "<table border=\"1\" class=\"dataframe\">\n",
       "  <thead>\n",
       "    <tr style=\"text-align: right;\">\n",
       "      <th></th>\n",
       "      <th>msno</th>\n",
       "      <th>payment_method_id</th>\n",
       "      <th>payment_plan_days</th>\n",
       "      <th>plan_list_price</th>\n",
       "      <th>actual_amount_paid</th>\n",
       "      <th>is_auto_renew</th>\n",
       "      <th>transaction_date</th>\n",
       "      <th>membership_expire_date</th>\n",
       "      <th>is_cancel</th>\n",
       "    </tr>\n",
       "  </thead>\n",
       "  <tbody>\n",
       "    <tr>\n",
       "      <th>58566</th>\n",
       "      <td>+++hVY1rZox/33YtvDgmKA2Frg/2qhkz12B9ylCvh8o=</td>\n",
       "      <td>41</td>\n",
       "      <td>30</td>\n",
       "      <td>99</td>\n",
       "      <td>99</td>\n",
       "      <td>1</td>\n",
       "      <td>20170115</td>\n",
       "      <td>20170215</td>\n",
       "      <td>0</td>\n",
       "    </tr>\n",
       "    <tr>\n",
       "      <th>16166417</th>\n",
       "      <td>+++l/EXNMLTijfLBa8p2TUVVVp2aFGSuUI/h7mLmthw=</td>\n",
       "      <td>39</td>\n",
       "      <td>30</td>\n",
       "      <td>149</td>\n",
       "      <td>149</td>\n",
       "      <td>1</td>\n",
       "      <td>20170131</td>\n",
       "      <td>20170319</td>\n",
       "      <td>0</td>\n",
       "    </tr>\n",
       "    <tr>\n",
       "      <th>8526712</th>\n",
       "      <td>+++snpr7pmobhLKUgSHTv/mpkqgBT0tQJ0zQj6qKrqc=</td>\n",
       "      <td>41</td>\n",
       "      <td>30</td>\n",
       "      <td>149</td>\n",
       "      <td>149</td>\n",
       "      <td>1</td>\n",
       "      <td>20170126</td>\n",
       "      <td>20170226</td>\n",
       "      <td>0</td>\n",
       "    </tr>\n",
       "    <tr>\n",
       "      <th>6934298</th>\n",
       "      <td>++/9R3sX37CjxbY/AaGvbwr3QkwElKBCtSvVzhCBDOk=</td>\n",
       "      <td>41</td>\n",
       "      <td>30</td>\n",
       "      <td>149</td>\n",
       "      <td>149</td>\n",
       "      <td>1</td>\n",
       "      <td>20170115</td>\n",
       "      <td>20170215</td>\n",
       "      <td>0</td>\n",
       "    </tr>\n",
       "    <tr>\n",
       "      <th>12261060</th>\n",
       "      <td>++/UDNo9DLrxT8QVGiDi1OnWfczAdEwThaVyD0fXO50=</td>\n",
       "      <td>39</td>\n",
       "      <td>30</td>\n",
       "      <td>149</td>\n",
       "      <td>149</td>\n",
       "      <td>1</td>\n",
       "      <td>20170131</td>\n",
       "      <td>20170323</td>\n",
       "      <td>0</td>\n",
       "    </tr>\n",
       "    <tr>\n",
       "      <th>...</th>\n",
       "      <td>...</td>\n",
       "      <td>...</td>\n",
       "      <td>...</td>\n",
       "      <td>...</td>\n",
       "      <td>...</td>\n",
       "      <td>...</td>\n",
       "      <td>...</td>\n",
       "      <td>...</td>\n",
       "      <td>...</td>\n",
       "    </tr>\n",
       "    <tr>\n",
       "      <th>17324717</th>\n",
       "      <td>zzxqpgPX1epGyR3SVRKb3XitWdt+JqDURxV5ea1D7Cg=</td>\n",
       "      <td>38</td>\n",
       "      <td>30</td>\n",
       "      <td>149</td>\n",
       "      <td>149</td>\n",
       "      <td>0</td>\n",
       "      <td>20170127</td>\n",
       "      <td>20170301</td>\n",
       "      <td>0</td>\n",
       "    </tr>\n",
       "    <tr>\n",
       "      <th>6971843</th>\n",
       "      <td>zzy7iqSpfcRq7R4hmKKuhI+CJRs79a6pteqEggpiNO0=</td>\n",
       "      <td>36</td>\n",
       "      <td>30</td>\n",
       "      <td>180</td>\n",
       "      <td>180</td>\n",
       "      <td>0</td>\n",
       "      <td>20170131</td>\n",
       "      <td>20170302</td>\n",
       "      <td>0</td>\n",
       "    </tr>\n",
       "    <tr>\n",
       "      <th>2006696</th>\n",
       "      <td>zzz1Dc3P9s53HAowRTrm3fNsWju5yeN4YBfNDq7Z99Q=</td>\n",
       "      <td>39</td>\n",
       "      <td>30</td>\n",
       "      <td>149</td>\n",
       "      <td>149</td>\n",
       "      <td>1</td>\n",
       "      <td>20170131</td>\n",
       "      <td>20170324</td>\n",
       "      <td>0</td>\n",
       "    </tr>\n",
       "    <tr>\n",
       "      <th>15515807</th>\n",
       "      <td>zzz4xr5LLzoxUqD6LfKiieCt8Or4dUWFQ0RA5gmkx8I=</td>\n",
       "      <td>41</td>\n",
       "      <td>30</td>\n",
       "      <td>149</td>\n",
       "      <td>149</td>\n",
       "      <td>1</td>\n",
       "      <td>20170104</td>\n",
       "      <td>20170205</td>\n",
       "      <td>0</td>\n",
       "    </tr>\n",
       "    <tr>\n",
       "      <th>20411713</th>\n",
       "      <td>zzzN9thH22os1dRS0VHReY/8FTfGHOi86//d+wGGFsQ=</td>\n",
       "      <td>41</td>\n",
       "      <td>30</td>\n",
       "      <td>99</td>\n",
       "      <td>99</td>\n",
       "      <td>1</td>\n",
       "      <td>20170104</td>\n",
       "      <td>20170204</td>\n",
       "      <td>0</td>\n",
       "    </tr>\n",
       "  </tbody>\n",
       "</table>\n",
       "<p>885645 rows × 9 columns</p>\n",
       "</div>"
      ],
      "text/plain": [
       "                                                  msno  payment_method_id  \\\n",
       "58566     +++hVY1rZox/33YtvDgmKA2Frg/2qhkz12B9ylCvh8o=                 41   \n",
       "16166417  +++l/EXNMLTijfLBa8p2TUVVVp2aFGSuUI/h7mLmthw=                 39   \n",
       "8526712   +++snpr7pmobhLKUgSHTv/mpkqgBT0tQJ0zQj6qKrqc=                 41   \n",
       "6934298   ++/9R3sX37CjxbY/AaGvbwr3QkwElKBCtSvVzhCBDOk=                 41   \n",
       "12261060  ++/UDNo9DLrxT8QVGiDi1OnWfczAdEwThaVyD0fXO50=                 39   \n",
       "...                                                ...                ...   \n",
       "17324717  zzxqpgPX1epGyR3SVRKb3XitWdt+JqDURxV5ea1D7Cg=                 38   \n",
       "6971843   zzy7iqSpfcRq7R4hmKKuhI+CJRs79a6pteqEggpiNO0=                 36   \n",
       "2006696   zzz1Dc3P9s53HAowRTrm3fNsWju5yeN4YBfNDq7Z99Q=                 39   \n",
       "15515807  zzz4xr5LLzoxUqD6LfKiieCt8Or4dUWFQ0RA5gmkx8I=                 41   \n",
       "20411713  zzzN9thH22os1dRS0VHReY/8FTfGHOi86//d+wGGFsQ=                 41   \n",
       "\n",
       "          payment_plan_days  plan_list_price  actual_amount_paid  \\\n",
       "58566                    30               99                  99   \n",
       "16166417                 30              149                 149   \n",
       "8526712                  30              149                 149   \n",
       "6934298                  30              149                 149   \n",
       "12261060                 30              149                 149   \n",
       "...                     ...              ...                 ...   \n",
       "17324717                 30              149                 149   \n",
       "6971843                  30              180                 180   \n",
       "2006696                  30              149                 149   \n",
       "15515807                 30              149                 149   \n",
       "20411713                 30               99                  99   \n",
       "\n",
       "          is_auto_renew  transaction_date  membership_expire_date  is_cancel  \n",
       "58566                 1          20170115                20170215          0  \n",
       "16166417              1          20170131                20170319          0  \n",
       "8526712               1          20170126                20170226          0  \n",
       "6934298               1          20170115                20170215          0  \n",
       "12261060              1          20170131                20170323          0  \n",
       "...                 ...               ...                     ...        ...  \n",
       "17324717              0          20170127                20170301          0  \n",
       "6971843               0          20170131                20170302          0  \n",
       "2006696               1          20170131                20170324          0  \n",
       "15515807              1          20170104                20170205          0  \n",
       "20411713              1          20170104                20170204          0  \n",
       "\n",
       "[885645 rows x 9 columns]"
      ]
     },
     "execution_count": 15,
     "metadata": {},
     "output_type": "execute_result"
    }
   ],
   "source": [
    "transaction_train_msno_churn #contains users who have transacted after expiry in jan and their first transaction after jan"
   ]
  },
  {
   "cell_type": "code",
   "execution_count": 16,
   "metadata": {},
   "outputs": [],
   "source": [
    "#load final transact \n",
    "import pandas as pd\n",
    "\n",
    "final_transact=pd.read_csv('final_transact_train.csv')"
   ]
  },
  {
   "cell_type": "code",
   "execution_count": 17,
   "metadata": {},
   "outputs": [
    {
     "data": {
      "text/html": [
       "<div>\n",
       "<style scoped>\n",
       "    .dataframe tbody tr th:only-of-type {\n",
       "        vertical-align: middle;\n",
       "    }\n",
       "\n",
       "    .dataframe tbody tr th {\n",
       "        vertical-align: top;\n",
       "    }\n",
       "\n",
       "    .dataframe thead th {\n",
       "        text-align: right;\n",
       "    }\n",
       "</style>\n",
       "<table border=\"1\" class=\"dataframe\">\n",
       "  <thead>\n",
       "    <tr style=\"text-align: right;\">\n",
       "      <th></th>\n",
       "      <th>Unnamed: 0</th>\n",
       "      <th>msno</th>\n",
       "      <th>Label</th>\n",
       "      <th>payment_method_id</th>\n",
       "      <th>payment_plan_days</th>\n",
       "      <th>plan_list_price</th>\n",
       "      <th>actual_amount_paid</th>\n",
       "      <th>is_auto_renew</th>\n",
       "      <th>transaction_date</th>\n",
       "      <th>membership_expire_date</th>\n",
       "      <th>is_cancel</th>\n",
       "    </tr>\n",
       "  </thead>\n",
       "  <tbody>\n",
       "    <tr>\n",
       "      <th>0</th>\n",
       "      <td>0</td>\n",
       "      <td>+++IZseRRiQS9aaSkH6cMYU6bGDcxUieAi/tH67sC5s=</td>\n",
       "      <td>0</td>\n",
       "      <td>38.0</td>\n",
       "      <td>410.0</td>\n",
       "      <td>1788.0</td>\n",
       "      <td>1788.0</td>\n",
       "      <td>0.0</td>\n",
       "      <td>20151121.0</td>\n",
       "      <td>20170104.0</td>\n",
       "      <td>0.0</td>\n",
       "    </tr>\n",
       "    <tr>\n",
       "      <th>1</th>\n",
       "      <td>1</td>\n",
       "      <td>+++hVY1rZox/33YtvDgmKA2Frg/2qhkz12B9ylCvh8o=</td>\n",
       "      <td>1</td>\n",
       "      <td>41.0</td>\n",
       "      <td>30.0</td>\n",
       "      <td>99.0</td>\n",
       "      <td>99.0</td>\n",
       "      <td>1.0</td>\n",
       "      <td>20161215.0</td>\n",
       "      <td>20170115.0</td>\n",
       "      <td>0.0</td>\n",
       "    </tr>\n",
       "    <tr>\n",
       "      <th>2</th>\n",
       "      <td>2</td>\n",
       "      <td>+++l/EXNMLTijfLBa8p2TUVVVp2aFGSuUI/h7mLmthw=</td>\n",
       "      <td>1</td>\n",
       "      <td>39.0</td>\n",
       "      <td>30.0</td>\n",
       "      <td>149.0</td>\n",
       "      <td>149.0</td>\n",
       "      <td>1.0</td>\n",
       "      <td>20161130.0</td>\n",
       "      <td>20170119.0</td>\n",
       "      <td>0.0</td>\n",
       "    </tr>\n",
       "    <tr>\n",
       "      <th>3</th>\n",
       "      <td>3</td>\n",
       "      <td>+++snpr7pmobhLKUgSHTv/mpkqgBT0tQJ0zQj6qKrqc=</td>\n",
       "      <td>1</td>\n",
       "      <td>41.0</td>\n",
       "      <td>30.0</td>\n",
       "      <td>149.0</td>\n",
       "      <td>149.0</td>\n",
       "      <td>1.0</td>\n",
       "      <td>20161226.0</td>\n",
       "      <td>20170126.0</td>\n",
       "      <td>0.0</td>\n",
       "    </tr>\n",
       "    <tr>\n",
       "      <th>4</th>\n",
       "      <td>4</td>\n",
       "      <td>++/9R3sX37CjxbY/AaGvbwr3QkwElKBCtSvVzhCBDOk=</td>\n",
       "      <td>1</td>\n",
       "      <td>41.0</td>\n",
       "      <td>30.0</td>\n",
       "      <td>149.0</td>\n",
       "      <td>149.0</td>\n",
       "      <td>1.0</td>\n",
       "      <td>20161215.0</td>\n",
       "      <td>20170115.0</td>\n",
       "      <td>0.0</td>\n",
       "    </tr>\n",
       "    <tr>\n",
       "      <th>...</th>\n",
       "      <td>...</td>\n",
       "      <td>...</td>\n",
       "      <td>...</td>\n",
       "      <td>...</td>\n",
       "      <td>...</td>\n",
       "      <td>...</td>\n",
       "      <td>...</td>\n",
       "      <td>...</td>\n",
       "      <td>...</td>\n",
       "      <td>...</td>\n",
       "      <td>...</td>\n",
       "    </tr>\n",
       "    <tr>\n",
       "      <th>956322</th>\n",
       "      <td>956322</td>\n",
       "      <td>zzy7iqSpfcRq7R4hmKKuhI+CJRs79a6pteqEggpiNO0=</td>\n",
       "      <td>1</td>\n",
       "      <td>36.0</td>\n",
       "      <td>30.0</td>\n",
       "      <td>180.0</td>\n",
       "      <td>180.0</td>\n",
       "      <td>0.0</td>\n",
       "      <td>20161230.0</td>\n",
       "      <td>20170129.0</td>\n",
       "      <td>0.0</td>\n",
       "    </tr>\n",
       "    <tr>\n",
       "      <th>956323</th>\n",
       "      <td>956323</td>\n",
       "      <td>zzyHq6TK2+cBkeGFUHvh12Z7UxFZiSM7dOOSllSBPDw=</td>\n",
       "      <td>0</td>\n",
       "      <td>41.0</td>\n",
       "      <td>30.0</td>\n",
       "      <td>149.0</td>\n",
       "      <td>149.0</td>\n",
       "      <td>1.0</td>\n",
       "      <td>20161214.0</td>\n",
       "      <td>20170114.0</td>\n",
       "      <td>0.0</td>\n",
       "    </tr>\n",
       "    <tr>\n",
       "      <th>956324</th>\n",
       "      <td>956324</td>\n",
       "      <td>zzz1Dc3P9s53HAowRTrm3fNsWju5yeN4YBfNDq7Z99Q=</td>\n",
       "      <td>1</td>\n",
       "      <td>39.0</td>\n",
       "      <td>30.0</td>\n",
       "      <td>149.0</td>\n",
       "      <td>149.0</td>\n",
       "      <td>1.0</td>\n",
       "      <td>20161130.0</td>\n",
       "      <td>20170124.0</td>\n",
       "      <td>0.0</td>\n",
       "    </tr>\n",
       "    <tr>\n",
       "      <th>956325</th>\n",
       "      <td>956325</td>\n",
       "      <td>zzz4xr5LLzoxUqD6LfKiieCt8Or4dUWFQ0RA5gmkx8I=</td>\n",
       "      <td>1</td>\n",
       "      <td>41.0</td>\n",
       "      <td>30.0</td>\n",
       "      <td>149.0</td>\n",
       "      <td>149.0</td>\n",
       "      <td>1.0</td>\n",
       "      <td>20161204.0</td>\n",
       "      <td>20170105.0</td>\n",
       "      <td>0.0</td>\n",
       "    </tr>\n",
       "    <tr>\n",
       "      <th>956326</th>\n",
       "      <td>956326</td>\n",
       "      <td>zzzN9thH22os1dRS0VHReY/8FTfGHOi86//d+wGGFsQ=</td>\n",
       "      <td>1</td>\n",
       "      <td>41.0</td>\n",
       "      <td>30.0</td>\n",
       "      <td>99.0</td>\n",
       "      <td>99.0</td>\n",
       "      <td>1.0</td>\n",
       "      <td>20161204.0</td>\n",
       "      <td>20170104.0</td>\n",
       "      <td>0.0</td>\n",
       "    </tr>\n",
       "  </tbody>\n",
       "</table>\n",
       "<p>956327 rows × 11 columns</p>\n",
       "</div>"
      ],
      "text/plain": [
       "        Unnamed: 0                                          msno  Label  \\\n",
       "0                0  +++IZseRRiQS9aaSkH6cMYU6bGDcxUieAi/tH67sC5s=      0   \n",
       "1                1  +++hVY1rZox/33YtvDgmKA2Frg/2qhkz12B9ylCvh8o=      1   \n",
       "2                2  +++l/EXNMLTijfLBa8p2TUVVVp2aFGSuUI/h7mLmthw=      1   \n",
       "3                3  +++snpr7pmobhLKUgSHTv/mpkqgBT0tQJ0zQj6qKrqc=      1   \n",
       "4                4  ++/9R3sX37CjxbY/AaGvbwr3QkwElKBCtSvVzhCBDOk=      1   \n",
       "...            ...                                           ...    ...   \n",
       "956322      956322  zzy7iqSpfcRq7R4hmKKuhI+CJRs79a6pteqEggpiNO0=      1   \n",
       "956323      956323  zzyHq6TK2+cBkeGFUHvh12Z7UxFZiSM7dOOSllSBPDw=      0   \n",
       "956324      956324  zzz1Dc3P9s53HAowRTrm3fNsWju5yeN4YBfNDq7Z99Q=      1   \n",
       "956325      956325  zzz4xr5LLzoxUqD6LfKiieCt8Or4dUWFQ0RA5gmkx8I=      1   \n",
       "956326      956326  zzzN9thH22os1dRS0VHReY/8FTfGHOi86//d+wGGFsQ=      1   \n",
       "\n",
       "        payment_method_id  payment_plan_days  plan_list_price  \\\n",
       "0                    38.0              410.0           1788.0   \n",
       "1                    41.0               30.0             99.0   \n",
       "2                    39.0               30.0            149.0   \n",
       "3                    41.0               30.0            149.0   \n",
       "4                    41.0               30.0            149.0   \n",
       "...                   ...                ...              ...   \n",
       "956322               36.0               30.0            180.0   \n",
       "956323               41.0               30.0            149.0   \n",
       "956324               39.0               30.0            149.0   \n",
       "956325               41.0               30.0            149.0   \n",
       "956326               41.0               30.0             99.0   \n",
       "\n",
       "        actual_amount_paid  is_auto_renew  transaction_date  \\\n",
       "0                   1788.0            0.0        20151121.0   \n",
       "1                     99.0            1.0        20161215.0   \n",
       "2                    149.0            1.0        20161130.0   \n",
       "3                    149.0            1.0        20161226.0   \n",
       "4                    149.0            1.0        20161215.0   \n",
       "...                    ...            ...               ...   \n",
       "956322               180.0            0.0        20161230.0   \n",
       "956323               149.0            1.0        20161214.0   \n",
       "956324               149.0            1.0        20161130.0   \n",
       "956325               149.0            1.0        20161204.0   \n",
       "956326                99.0            1.0        20161204.0   \n",
       "\n",
       "        membership_expire_date  is_cancel  \n",
       "0                   20170104.0        0.0  \n",
       "1                   20170115.0        0.0  \n",
       "2                   20170119.0        0.0  \n",
       "3                   20170126.0        0.0  \n",
       "4                   20170115.0        0.0  \n",
       "...                        ...        ...  \n",
       "956322              20170129.0        0.0  \n",
       "956323              20170114.0        0.0  \n",
       "956324              20170124.0        0.0  \n",
       "956325              20170105.0        0.0  \n",
       "956326              20170104.0        0.0  \n",
       "\n",
       "[956327 rows x 11 columns]"
      ]
     },
     "execution_count": 17,
     "metadata": {},
     "output_type": "execute_result"
    }
   ],
   "source": [
    "final_transact"
   ]
  },
  {
   "cell_type": "code",
   "execution_count": 18,
   "metadata": {},
   "outputs": [],
   "source": [
    "final_transact=final_transact[['msno','membership_expire_date']]"
   ]
  },
  {
   "cell_type": "code",
   "execution_count": 19,
   "metadata": {},
   "outputs": [],
   "source": [
    "final_transact.columns=['msno', 'jan_final_expiry']"
   ]
  },
  {
   "cell_type": "code",
   "execution_count": 20,
   "metadata": {},
   "outputs": [
    {
     "data": {
      "text/html": [
       "<div>\n",
       "<style scoped>\n",
       "    .dataframe tbody tr th:only-of-type {\n",
       "        vertical-align: middle;\n",
       "    }\n",
       "\n",
       "    .dataframe tbody tr th {\n",
       "        vertical-align: top;\n",
       "    }\n",
       "\n",
       "    .dataframe thead th {\n",
       "        text-align: right;\n",
       "    }\n",
       "</style>\n",
       "<table border=\"1\" class=\"dataframe\">\n",
       "  <thead>\n",
       "    <tr style=\"text-align: right;\">\n",
       "      <th></th>\n",
       "      <th>msno</th>\n",
       "      <th>jan_final_expiry</th>\n",
       "    </tr>\n",
       "  </thead>\n",
       "  <tbody>\n",
       "    <tr>\n",
       "      <th>0</th>\n",
       "      <td>+++IZseRRiQS9aaSkH6cMYU6bGDcxUieAi/tH67sC5s=</td>\n",
       "      <td>20170104.0</td>\n",
       "    </tr>\n",
       "    <tr>\n",
       "      <th>1</th>\n",
       "      <td>+++hVY1rZox/33YtvDgmKA2Frg/2qhkz12B9ylCvh8o=</td>\n",
       "      <td>20170115.0</td>\n",
       "    </tr>\n",
       "    <tr>\n",
       "      <th>2</th>\n",
       "      <td>+++l/EXNMLTijfLBa8p2TUVVVp2aFGSuUI/h7mLmthw=</td>\n",
       "      <td>20170119.0</td>\n",
       "    </tr>\n",
       "    <tr>\n",
       "      <th>3</th>\n",
       "      <td>+++snpr7pmobhLKUgSHTv/mpkqgBT0tQJ0zQj6qKrqc=</td>\n",
       "      <td>20170126.0</td>\n",
       "    </tr>\n",
       "    <tr>\n",
       "      <th>4</th>\n",
       "      <td>++/9R3sX37CjxbY/AaGvbwr3QkwElKBCtSvVzhCBDOk=</td>\n",
       "      <td>20170115.0</td>\n",
       "    </tr>\n",
       "  </tbody>\n",
       "</table>\n",
       "</div>"
      ],
      "text/plain": [
       "                                           msno  jan_final_expiry\n",
       "0  +++IZseRRiQS9aaSkH6cMYU6bGDcxUieAi/tH67sC5s=        20170104.0\n",
       "1  +++hVY1rZox/33YtvDgmKA2Frg/2qhkz12B9ylCvh8o=        20170115.0\n",
       "2  +++l/EXNMLTijfLBa8p2TUVVVp2aFGSuUI/h7mLmthw=        20170119.0\n",
       "3  +++snpr7pmobhLKUgSHTv/mpkqgBT0tQJ0zQj6qKrqc=        20170126.0\n",
       "4  ++/9R3sX37CjxbY/AaGvbwr3QkwElKBCtSvVzhCBDOk=        20170115.0"
      ]
     },
     "execution_count": 20,
     "metadata": {},
     "output_type": "execute_result"
    }
   ],
   "source": [
    "final_transact.head()"
   ]
  },
  {
   "cell_type": "code",
   "execution_count": 21,
   "metadata": {},
   "outputs": [],
   "source": [
    "final_transact=final_transact[final_transact['msno'].isin(transaction_train_msno_churn['msno'].values)]"
   ]
  },
  {
   "cell_type": "code",
   "execution_count": 22,
   "metadata": {},
   "outputs": [],
   "source": [
    "mer=pd.merge(transaction_train_msno_churn, final_transact, on='msno')"
   ]
  },
  {
   "cell_type": "code",
   "execution_count": 23,
   "metadata": {},
   "outputs": [],
   "source": [
    "mer=mer[['msno','transaction_date','jan_final_expiry']]"
   ]
  },
  {
   "cell_type": "code",
   "execution_count": 24,
   "metadata": {},
   "outputs": [
    {
     "data": {
      "text/html": [
       "<div>\n",
       "<style scoped>\n",
       "    .dataframe tbody tr th:only-of-type {\n",
       "        vertical-align: middle;\n",
       "    }\n",
       "\n",
       "    .dataframe tbody tr th {\n",
       "        vertical-align: top;\n",
       "    }\n",
       "\n",
       "    .dataframe thead th {\n",
       "        text-align: right;\n",
       "    }\n",
       "</style>\n",
       "<table border=\"1\" class=\"dataframe\">\n",
       "  <thead>\n",
       "    <tr style=\"text-align: right;\">\n",
       "      <th></th>\n",
       "      <th>msno</th>\n",
       "      <th>transaction_date</th>\n",
       "      <th>jan_final_expiry</th>\n",
       "    </tr>\n",
       "  </thead>\n",
       "  <tbody>\n",
       "    <tr>\n",
       "      <th>0</th>\n",
       "      <td>+++hVY1rZox/33YtvDgmKA2Frg/2qhkz12B9ylCvh8o=</td>\n",
       "      <td>20170115</td>\n",
       "      <td>20170115.0</td>\n",
       "    </tr>\n",
       "    <tr>\n",
       "      <th>1</th>\n",
       "      <td>+++l/EXNMLTijfLBa8p2TUVVVp2aFGSuUI/h7mLmthw=</td>\n",
       "      <td>20170131</td>\n",
       "      <td>20170119.0</td>\n",
       "    </tr>\n",
       "    <tr>\n",
       "      <th>2</th>\n",
       "      <td>+++snpr7pmobhLKUgSHTv/mpkqgBT0tQJ0zQj6qKrqc=</td>\n",
       "      <td>20170126</td>\n",
       "      <td>20170126.0</td>\n",
       "    </tr>\n",
       "    <tr>\n",
       "      <th>3</th>\n",
       "      <td>++/9R3sX37CjxbY/AaGvbwr3QkwElKBCtSvVzhCBDOk=</td>\n",
       "      <td>20170115</td>\n",
       "      <td>20170115.0</td>\n",
       "    </tr>\n",
       "    <tr>\n",
       "      <th>4</th>\n",
       "      <td>++/UDNo9DLrxT8QVGiDi1OnWfczAdEwThaVyD0fXO50=</td>\n",
       "      <td>20170131</td>\n",
       "      <td>20170123.0</td>\n",
       "    </tr>\n",
       "    <tr>\n",
       "      <th>...</th>\n",
       "      <td>...</td>\n",
       "      <td>...</td>\n",
       "      <td>...</td>\n",
       "    </tr>\n",
       "    <tr>\n",
       "      <th>885640</th>\n",
       "      <td>zzxqpgPX1epGyR3SVRKb3XitWdt+JqDURxV5ea1D7Cg=</td>\n",
       "      <td>20170127</td>\n",
       "      <td>20170130.0</td>\n",
       "    </tr>\n",
       "    <tr>\n",
       "      <th>885641</th>\n",
       "      <td>zzy7iqSpfcRq7R4hmKKuhI+CJRs79a6pteqEggpiNO0=</td>\n",
       "      <td>20170131</td>\n",
       "      <td>20170129.0</td>\n",
       "    </tr>\n",
       "    <tr>\n",
       "      <th>885642</th>\n",
       "      <td>zzz1Dc3P9s53HAowRTrm3fNsWju5yeN4YBfNDq7Z99Q=</td>\n",
       "      <td>20170131</td>\n",
       "      <td>20170124.0</td>\n",
       "    </tr>\n",
       "    <tr>\n",
       "      <th>885643</th>\n",
       "      <td>zzz4xr5LLzoxUqD6LfKiieCt8Or4dUWFQ0RA5gmkx8I=</td>\n",
       "      <td>20170104</td>\n",
       "      <td>20170105.0</td>\n",
       "    </tr>\n",
       "    <tr>\n",
       "      <th>885644</th>\n",
       "      <td>zzzN9thH22os1dRS0VHReY/8FTfGHOi86//d+wGGFsQ=</td>\n",
       "      <td>20170104</td>\n",
       "      <td>20170104.0</td>\n",
       "    </tr>\n",
       "  </tbody>\n",
       "</table>\n",
       "<p>885645 rows × 3 columns</p>\n",
       "</div>"
      ],
      "text/plain": [
       "                                                msno  transaction_date  \\\n",
       "0       +++hVY1rZox/33YtvDgmKA2Frg/2qhkz12B9ylCvh8o=          20170115   \n",
       "1       +++l/EXNMLTijfLBa8p2TUVVVp2aFGSuUI/h7mLmthw=          20170131   \n",
       "2       +++snpr7pmobhLKUgSHTv/mpkqgBT0tQJ0zQj6qKrqc=          20170126   \n",
       "3       ++/9R3sX37CjxbY/AaGvbwr3QkwElKBCtSvVzhCBDOk=          20170115   \n",
       "4       ++/UDNo9DLrxT8QVGiDi1OnWfczAdEwThaVyD0fXO50=          20170131   \n",
       "...                                              ...               ...   \n",
       "885640  zzxqpgPX1epGyR3SVRKb3XitWdt+JqDURxV5ea1D7Cg=          20170127   \n",
       "885641  zzy7iqSpfcRq7R4hmKKuhI+CJRs79a6pteqEggpiNO0=          20170131   \n",
       "885642  zzz1Dc3P9s53HAowRTrm3fNsWju5yeN4YBfNDq7Z99Q=          20170131   \n",
       "885643  zzz4xr5LLzoxUqD6LfKiieCt8Or4dUWFQ0RA5gmkx8I=          20170104   \n",
       "885644  zzzN9thH22os1dRS0VHReY/8FTfGHOi86//d+wGGFsQ=          20170104   \n",
       "\n",
       "        jan_final_expiry  \n",
       "0             20170115.0  \n",
       "1             20170119.0  \n",
       "2             20170126.0  \n",
       "3             20170115.0  \n",
       "4             20170123.0  \n",
       "...                  ...  \n",
       "885640        20170130.0  \n",
       "885641        20170129.0  \n",
       "885642        20170124.0  \n",
       "885643        20170105.0  \n",
       "885644        20170104.0  \n",
       "\n",
       "[885645 rows x 3 columns]"
      ]
     },
     "execution_count": 24,
     "metadata": {},
     "output_type": "execute_result"
    }
   ],
   "source": [
    "mer"
   ]
  },
  {
   "cell_type": "code",
   "execution_count": 25,
   "metadata": {},
   "outputs": [],
   "source": [
    "def fun(x):\n",
    "    '''returns true if no of days between x[1] and x[2] is less than or equal to 1 month'''\n",
    "    return (((x[1]//10000*365)+(x[1]%10000//100*30.4167)+(x[1]%100))-\n",
    "            ((x[2]//10000*365)+(x[2]%10000//100*30.4167)+(x[2]%100)))<31\n",
    "    "
   ]
  },
  {
   "cell_type": "code",
   "execution_count": 26,
   "metadata": {},
   "outputs": [],
   "source": [
    "c=mer.apply(fun, axis=1)"
   ]
  },
  {
   "cell_type": "code",
   "execution_count": 27,
   "metadata": {},
   "outputs": [
    {
     "data": {
      "text/plain": [
       "0    True\n",
       "1    True\n",
       "2    True\n",
       "3    True\n",
       "4    True\n",
       "dtype: bool"
      ]
     },
     "execution_count": 27,
     "metadata": {},
     "output_type": "execute_result"
    }
   ],
   "source": [
    "c[0:5]"
   ]
  },
  {
   "cell_type": "code",
   "execution_count": 28,
   "metadata": {},
   "outputs": [],
   "source": [
    "not_churn=mer[c]"
   ]
  },
  {
   "cell_type": "code",
   "execution_count": 29,
   "metadata": {},
   "outputs": [
    {
     "data": {
      "text/html": [
       "<div>\n",
       "<style scoped>\n",
       "    .dataframe tbody tr th:only-of-type {\n",
       "        vertical-align: middle;\n",
       "    }\n",
       "\n",
       "    .dataframe tbody tr th {\n",
       "        vertical-align: top;\n",
       "    }\n",
       "\n",
       "    .dataframe thead th {\n",
       "        text-align: right;\n",
       "    }\n",
       "</style>\n",
       "<table border=\"1\" class=\"dataframe\">\n",
       "  <thead>\n",
       "    <tr style=\"text-align: right;\">\n",
       "      <th></th>\n",
       "      <th>msno</th>\n",
       "      <th>transaction_date</th>\n",
       "      <th>jan_final_expiry</th>\n",
       "    </tr>\n",
       "  </thead>\n",
       "  <tbody>\n",
       "    <tr>\n",
       "      <th>0</th>\n",
       "      <td>+++hVY1rZox/33YtvDgmKA2Frg/2qhkz12B9ylCvh8o=</td>\n",
       "      <td>20170115</td>\n",
       "      <td>20170115.0</td>\n",
       "    </tr>\n",
       "    <tr>\n",
       "      <th>1</th>\n",
       "      <td>+++l/EXNMLTijfLBa8p2TUVVVp2aFGSuUI/h7mLmthw=</td>\n",
       "      <td>20170131</td>\n",
       "      <td>20170119.0</td>\n",
       "    </tr>\n",
       "    <tr>\n",
       "      <th>2</th>\n",
       "      <td>+++snpr7pmobhLKUgSHTv/mpkqgBT0tQJ0zQj6qKrqc=</td>\n",
       "      <td>20170126</td>\n",
       "      <td>20170126.0</td>\n",
       "    </tr>\n",
       "    <tr>\n",
       "      <th>3</th>\n",
       "      <td>++/9R3sX37CjxbY/AaGvbwr3QkwElKBCtSvVzhCBDOk=</td>\n",
       "      <td>20170115</td>\n",
       "      <td>20170115.0</td>\n",
       "    </tr>\n",
       "    <tr>\n",
       "      <th>4</th>\n",
       "      <td>++/UDNo9DLrxT8QVGiDi1OnWfczAdEwThaVyD0fXO50=</td>\n",
       "      <td>20170131</td>\n",
       "      <td>20170123.0</td>\n",
       "    </tr>\n",
       "    <tr>\n",
       "      <th>...</th>\n",
       "      <td>...</td>\n",
       "      <td>...</td>\n",
       "      <td>...</td>\n",
       "    </tr>\n",
       "    <tr>\n",
       "      <th>885640</th>\n",
       "      <td>zzxqpgPX1epGyR3SVRKb3XitWdt+JqDURxV5ea1D7Cg=</td>\n",
       "      <td>20170127</td>\n",
       "      <td>20170130.0</td>\n",
       "    </tr>\n",
       "    <tr>\n",
       "      <th>885641</th>\n",
       "      <td>zzy7iqSpfcRq7R4hmKKuhI+CJRs79a6pteqEggpiNO0=</td>\n",
       "      <td>20170131</td>\n",
       "      <td>20170129.0</td>\n",
       "    </tr>\n",
       "    <tr>\n",
       "      <th>885642</th>\n",
       "      <td>zzz1Dc3P9s53HAowRTrm3fNsWju5yeN4YBfNDq7Z99Q=</td>\n",
       "      <td>20170131</td>\n",
       "      <td>20170124.0</td>\n",
       "    </tr>\n",
       "    <tr>\n",
       "      <th>885643</th>\n",
       "      <td>zzz4xr5LLzoxUqD6LfKiieCt8Or4dUWFQ0RA5gmkx8I=</td>\n",
       "      <td>20170104</td>\n",
       "      <td>20170105.0</td>\n",
       "    </tr>\n",
       "    <tr>\n",
       "      <th>885644</th>\n",
       "      <td>zzzN9thH22os1dRS0VHReY/8FTfGHOi86//d+wGGFsQ=</td>\n",
       "      <td>20170104</td>\n",
       "      <td>20170104.0</td>\n",
       "    </tr>\n",
       "  </tbody>\n",
       "</table>\n",
       "<p>878969 rows × 3 columns</p>\n",
       "</div>"
      ],
      "text/plain": [
       "                                                msno  transaction_date  \\\n",
       "0       +++hVY1rZox/33YtvDgmKA2Frg/2qhkz12B9ylCvh8o=          20170115   \n",
       "1       +++l/EXNMLTijfLBa8p2TUVVVp2aFGSuUI/h7mLmthw=          20170131   \n",
       "2       +++snpr7pmobhLKUgSHTv/mpkqgBT0tQJ0zQj6qKrqc=          20170126   \n",
       "3       ++/9R3sX37CjxbY/AaGvbwr3QkwElKBCtSvVzhCBDOk=          20170115   \n",
       "4       ++/UDNo9DLrxT8QVGiDi1OnWfczAdEwThaVyD0fXO50=          20170131   \n",
       "...                                              ...               ...   \n",
       "885640  zzxqpgPX1epGyR3SVRKb3XitWdt+JqDURxV5ea1D7Cg=          20170127   \n",
       "885641  zzy7iqSpfcRq7R4hmKKuhI+CJRs79a6pteqEggpiNO0=          20170131   \n",
       "885642  zzz1Dc3P9s53HAowRTrm3fNsWju5yeN4YBfNDq7Z99Q=          20170131   \n",
       "885643  zzz4xr5LLzoxUqD6LfKiieCt8Or4dUWFQ0RA5gmkx8I=          20170104   \n",
       "885644  zzzN9thH22os1dRS0VHReY/8FTfGHOi86//d+wGGFsQ=          20170104   \n",
       "\n",
       "        jan_final_expiry  \n",
       "0             20170115.0  \n",
       "1             20170119.0  \n",
       "2             20170126.0  \n",
       "3             20170115.0  \n",
       "4             20170123.0  \n",
       "...                  ...  \n",
       "885640        20170130.0  \n",
       "885641        20170129.0  \n",
       "885642        20170124.0  \n",
       "885643        20170105.0  \n",
       "885644        20170104.0  \n",
       "\n",
       "[878969 rows x 3 columns]"
      ]
     },
     "execution_count": 29,
     "metadata": {},
     "output_type": "execute_result"
    }
   ],
   "source": [
    "not_churn "
   ]
  },
  {
   "cell_type": "code",
   "execution_count": 30,
   "metadata": {},
   "outputs": [],
   "source": [
    "not_churn=not_churn.drop_duplicates( subset=['msno'], keep=\"first\", inplace=False) #remove duplicates"
   ]
  },
  {
   "cell_type": "code",
   "execution_count": 31,
   "metadata": {},
   "outputs": [
    {
     "data": {
      "text/html": [
       "<div>\n",
       "<style scoped>\n",
       "    .dataframe tbody tr th:only-of-type {\n",
       "        vertical-align: middle;\n",
       "    }\n",
       "\n",
       "    .dataframe tbody tr th {\n",
       "        vertical-align: top;\n",
       "    }\n",
       "\n",
       "    .dataframe thead th {\n",
       "        text-align: right;\n",
       "    }\n",
       "</style>\n",
       "<table border=\"1\" class=\"dataframe\">\n",
       "  <thead>\n",
       "    <tr style=\"text-align: right;\">\n",
       "      <th></th>\n",
       "      <th>msno</th>\n",
       "      <th>transaction_date</th>\n",
       "      <th>jan_final_expiry</th>\n",
       "    </tr>\n",
       "  </thead>\n",
       "  <tbody>\n",
       "    <tr>\n",
       "      <th>0</th>\n",
       "      <td>+++hVY1rZox/33YtvDgmKA2Frg/2qhkz12B9ylCvh8o=</td>\n",
       "      <td>20170115</td>\n",
       "      <td>20170115.0</td>\n",
       "    </tr>\n",
       "    <tr>\n",
       "      <th>1</th>\n",
       "      <td>+++l/EXNMLTijfLBa8p2TUVVVp2aFGSuUI/h7mLmthw=</td>\n",
       "      <td>20170131</td>\n",
       "      <td>20170119.0</td>\n",
       "    </tr>\n",
       "    <tr>\n",
       "      <th>2</th>\n",
       "      <td>+++snpr7pmobhLKUgSHTv/mpkqgBT0tQJ0zQj6qKrqc=</td>\n",
       "      <td>20170126</td>\n",
       "      <td>20170126.0</td>\n",
       "    </tr>\n",
       "    <tr>\n",
       "      <th>3</th>\n",
       "      <td>++/9R3sX37CjxbY/AaGvbwr3QkwElKBCtSvVzhCBDOk=</td>\n",
       "      <td>20170115</td>\n",
       "      <td>20170115.0</td>\n",
       "    </tr>\n",
       "    <tr>\n",
       "      <th>4</th>\n",
       "      <td>++/UDNo9DLrxT8QVGiDi1OnWfczAdEwThaVyD0fXO50=</td>\n",
       "      <td>20170131</td>\n",
       "      <td>20170123.0</td>\n",
       "    </tr>\n",
       "    <tr>\n",
       "      <th>...</th>\n",
       "      <td>...</td>\n",
       "      <td>...</td>\n",
       "      <td>...</td>\n",
       "    </tr>\n",
       "    <tr>\n",
       "      <th>885640</th>\n",
       "      <td>zzxqpgPX1epGyR3SVRKb3XitWdt+JqDURxV5ea1D7Cg=</td>\n",
       "      <td>20170127</td>\n",
       "      <td>20170130.0</td>\n",
       "    </tr>\n",
       "    <tr>\n",
       "      <th>885641</th>\n",
       "      <td>zzy7iqSpfcRq7R4hmKKuhI+CJRs79a6pteqEggpiNO0=</td>\n",
       "      <td>20170131</td>\n",
       "      <td>20170129.0</td>\n",
       "    </tr>\n",
       "    <tr>\n",
       "      <th>885642</th>\n",
       "      <td>zzz1Dc3P9s53HAowRTrm3fNsWju5yeN4YBfNDq7Z99Q=</td>\n",
       "      <td>20170131</td>\n",
       "      <td>20170124.0</td>\n",
       "    </tr>\n",
       "    <tr>\n",
       "      <th>885643</th>\n",
       "      <td>zzz4xr5LLzoxUqD6LfKiieCt8Or4dUWFQ0RA5gmkx8I=</td>\n",
       "      <td>20170104</td>\n",
       "      <td>20170105.0</td>\n",
       "    </tr>\n",
       "    <tr>\n",
       "      <th>885644</th>\n",
       "      <td>zzzN9thH22os1dRS0VHReY/8FTfGHOi86//d+wGGFsQ=</td>\n",
       "      <td>20170104</td>\n",
       "      <td>20170104.0</td>\n",
       "    </tr>\n",
       "  </tbody>\n",
       "</table>\n",
       "<p>877738 rows × 3 columns</p>\n",
       "</div>"
      ],
      "text/plain": [
       "                                                msno  transaction_date  \\\n",
       "0       +++hVY1rZox/33YtvDgmKA2Frg/2qhkz12B9ylCvh8o=          20170115   \n",
       "1       +++l/EXNMLTijfLBa8p2TUVVVp2aFGSuUI/h7mLmthw=          20170131   \n",
       "2       +++snpr7pmobhLKUgSHTv/mpkqgBT0tQJ0zQj6qKrqc=          20170126   \n",
       "3       ++/9R3sX37CjxbY/AaGvbwr3QkwElKBCtSvVzhCBDOk=          20170115   \n",
       "4       ++/UDNo9DLrxT8QVGiDi1OnWfczAdEwThaVyD0fXO50=          20170131   \n",
       "...                                              ...               ...   \n",
       "885640  zzxqpgPX1epGyR3SVRKb3XitWdt+JqDURxV5ea1D7Cg=          20170127   \n",
       "885641  zzy7iqSpfcRq7R4hmKKuhI+CJRs79a6pteqEggpiNO0=          20170131   \n",
       "885642  zzz1Dc3P9s53HAowRTrm3fNsWju5yeN4YBfNDq7Z99Q=          20170131   \n",
       "885643  zzz4xr5LLzoxUqD6LfKiieCt8Or4dUWFQ0RA5gmkx8I=          20170104   \n",
       "885644  zzzN9thH22os1dRS0VHReY/8FTfGHOi86//d+wGGFsQ=          20170104   \n",
       "\n",
       "        jan_final_expiry  \n",
       "0             20170115.0  \n",
       "1             20170119.0  \n",
       "2             20170126.0  \n",
       "3             20170115.0  \n",
       "4             20170123.0  \n",
       "...                  ...  \n",
       "885640        20170130.0  \n",
       "885641        20170129.0  \n",
       "885642        20170124.0  \n",
       "885643        20170105.0  \n",
       "885644        20170104.0  \n",
       "\n",
       "[877738 rows x 3 columns]"
      ]
     },
     "execution_count": 31,
     "metadata": {},
     "output_type": "execute_result"
    }
   ],
   "source": [
    "not_churn"
   ]
  },
  {
   "cell_type": "code",
   "execution_count": 32,
   "metadata": {},
   "outputs": [],
   "source": [
    "train_not_churn_final_msno=np.array(not_churn['msno'].to_numpy())"
   ]
  },
  {
   "cell_type": "code",
   "execution_count": 33,
   "metadata": {},
   "outputs": [
    {
     "data": {
      "text/plain": [
       "(877738,)"
      ]
     },
     "execution_count": 33,
     "metadata": {},
     "output_type": "execute_result"
    }
   ],
   "source": [
    "train_not_churn_final_msno.shape"
   ]
  },
  {
   "cell_type": "code",
   "execution_count": 34,
   "metadata": {},
   "outputs": [],
   "source": [
    "np.save('train_not_churn_final_msno_new',train_not_churn_final_msno) #users who have not churned"
   ]
  },
  {
   "cell_type": "code",
   "execution_count": 35,
   "metadata": {},
   "outputs": [
    {
     "data": {
      "text/plain": [
       "78589"
      ]
     },
     "execution_count": 35,
     "metadata": {},
     "output_type": "execute_result"
    }
   ],
   "source": [
    "956327-877738"
   ]
  },
  {
   "cell_type": "code",
   "execution_count": 36,
   "metadata": {},
   "outputs": [
    {
     "data": {
      "text/plain": [
       "8.217795795789517"
      ]
     },
     "execution_count": 36,
     "metadata": {},
     "output_type": "execute_result"
    }
   ],
   "source": [
    "78589/956327*100 #churn datapoints 8.2% but many datapoints will be removed from this set."
   ]
  },
  {
   "cell_type": "markdown",
   "metadata": {},
   "source": [
    "### Join churn and not churn datapoints:"
   ]
  },
  {
   "cell_type": "code",
   "execution_count": 41,
   "metadata": {},
   "outputs": [],
   "source": [
    "#all train points\n",
    "transaction_last_expiry_msno_final=np.load('transaction_last_expiry_msno_final.npy', allow_pickle=True)"
   ]
  },
  {
   "cell_type": "code",
   "execution_count": 37,
   "metadata": {},
   "outputs": [],
   "source": [
    "not_ch=[1]*877738 #label=1"
   ]
  },
  {
   "cell_type": "code",
   "execution_count": 38,
   "metadata": {},
   "outputs": [],
   "source": [
    "not_ch=np.vstack((train_not_churn_final_msno,not_ch))"
   ]
  },
  {
   "cell_type": "code",
   "execution_count": 39,
   "metadata": {},
   "outputs": [],
   "source": [
    "not_ch=not_ch.T "
   ]
  },
  {
   "cell_type": "code",
   "execution_count": 40,
   "metadata": {},
   "outputs": [
    {
     "data": {
      "text/plain": [
       "array([['+++hVY1rZox/33YtvDgmKA2Frg/2qhkz12B9ylCvh8o=', 1],\n",
       "       ['+++l/EXNMLTijfLBa8p2TUVVVp2aFGSuUI/h7mLmthw=', 1]], dtype=object)"
      ]
     },
     "execution_count": 40,
     "metadata": {},
     "output_type": "execute_result"
    }
   ],
   "source": [
    "not_ch[0:2]"
   ]
  },
  {
   "cell_type": "code",
   "execution_count": 43,
   "metadata": {},
   "outputs": [
    {
     "data": {
      "text/plain": [
       "array(['+++IZseRRiQS9aaSkH6cMYU6bGDcxUieAi/tH67sC5s=', 38, 410, 1788,\n",
       "       1788, 0, 20151121, 20170104, 0], dtype=object)"
      ]
     },
     "execution_count": 43,
     "metadata": {},
     "output_type": "execute_result"
    }
   ],
   "source": [
    "transaction_last_expiry_msno_final[0]"
   ]
  },
  {
   "cell_type": "code",
   "execution_count": 42,
   "metadata": {},
   "outputs": [],
   "source": [
    "churn=set(transaction_last_expiry_msno_final[:,0])-set(train_not_churn_final_msno)"
   ]
  },
  {
   "cell_type": "code",
   "execution_count": 43,
   "metadata": {},
   "outputs": [],
   "source": [
    "churn=np.array(list(churn))"
   ]
  },
  {
   "cell_type": "code",
   "execution_count": 44,
   "metadata": {},
   "outputs": [
    {
     "data": {
      "text/plain": [
       "(78589,)"
      ]
     },
     "execution_count": 44,
     "metadata": {},
     "output_type": "execute_result"
    }
   ],
   "source": [
    "churn.shape"
   ]
  },
  {
   "cell_type": "code",
   "execution_count": 45,
   "metadata": {},
   "outputs": [],
   "source": [
    "ch=[0]*78589 #label=0"
   ]
  },
  {
   "cell_type": "code",
   "execution_count": 46,
   "metadata": {},
   "outputs": [],
   "source": [
    "ch=np.vstack((churn,ch)).T"
   ]
  },
  {
   "cell_type": "code",
   "execution_count": 47,
   "metadata": {},
   "outputs": [
    {
     "data": {
      "text/plain": [
       "array(['8u1LB9fm/i9oZ2pAyw2J44Kx4shNqHoacpEAmWs9eIc=', '0'], dtype='<U44')"
      ]
     },
     "execution_count": 47,
     "metadata": {},
     "output_type": "execute_result"
    }
   ],
   "source": [
    "ch[0] #churn datapoints"
   ]
  },
  {
   "cell_type": "code",
   "execution_count": 48,
   "metadata": {},
   "outputs": [],
   "source": [
    "Train=np.vstack((ch,not_ch)) #0=churn, 1=not churn"
   ]
  },
  {
   "cell_type": "code",
   "execution_count": 49,
   "metadata": {},
   "outputs": [
    {
     "data": {
      "text/plain": [
       "(956327, 2)"
      ]
     },
     "execution_count": 49,
     "metadata": {},
     "output_type": "execute_result"
    }
   ],
   "source": [
    "Train.shape"
   ]
  },
  {
   "cell_type": "code",
   "execution_count": 50,
   "metadata": {},
   "outputs": [
    {
     "data": {
      "text/plain": [
       "array([['8u1LB9fm/i9oZ2pAyw2J44Kx4shNqHoacpEAmWs9eIc=', '0'],\n",
       "       ['AuejxMNrrsoV4NIXqaCeFsfYMWDips6Z08gOuJQ/K00=', '0'],\n",
       "       ['1y+rHMAEJGJXMwKmcx9h7AswkLwf6yXGIZWXEUMo7xw=', '0'],\n",
       "       ['sSEMPqbKd4mLVXDUXjhHZA4Jn/ozZBF7z7E0YvqSRTo=', '0'],\n",
       "       ['KNkgvudj3KeuTRbydWNUUiSFNsmnIIJ0M6VORM0w6wU=', '0']],\n",
       "      dtype=object)"
      ]
     },
     "execution_count": 50,
     "metadata": {},
     "output_type": "execute_result"
    }
   ],
   "source": [
    "Train[0:5]"
   ]
  },
  {
   "cell_type": "code",
   "execution_count": 51,
   "metadata": {},
   "outputs": [],
   "source": [
    "#sort based on msno\n",
    "#https://stackoverflow.com/a/2828121\n",
    "Train=Train[Train[:,0].argsort()]"
   ]
  },
  {
   "cell_type": "code",
   "execution_count": 52,
   "metadata": {},
   "outputs": [
    {
     "data": {
      "text/plain": [
       "array([['+++IZseRRiQS9aaSkH6cMYU6bGDcxUieAi/tH67sC5s=', '0'],\n",
       "       ['+++hVY1rZox/33YtvDgmKA2Frg/2qhkz12B9ylCvh8o=', 1],\n",
       "       ['+++l/EXNMLTijfLBa8p2TUVVVp2aFGSuUI/h7mLmthw=', 1],\n",
       "       ['+++snpr7pmobhLKUgSHTv/mpkqgBT0tQJ0zQj6qKrqc=', 1],\n",
       "       ['++/9R3sX37CjxbY/AaGvbwr3QkwElKBCtSvVzhCBDOk=', 1]], dtype=object)"
      ]
     },
     "execution_count": 52,
     "metadata": {},
     "output_type": "execute_result"
    }
   ],
   "source": [
    "Train[0:5]"
   ]
  },
  {
   "cell_type": "code",
   "execution_count": 53,
   "metadata": {},
   "outputs": [],
   "source": [
    "np.save('Train_msno_and_label_order_new',Train)"
   ]
  }
 ],
 "metadata": {
  "kernelspec": {
   "display_name": "Python 3",
   "language": "python",
   "name": "python3"
  },
  "language_info": {
   "codemirror_mode": {
    "name": "ipython",
    "version": 3
   },
   "file_extension": ".py",
   "mimetype": "text/x-python",
   "name": "python",
   "nbconvert_exporter": "python",
   "pygments_lexer": "ipython3",
   "version": "3.6.5"
  }
 },
 "nbformat": 4,
 "nbformat_minor": 4
}
